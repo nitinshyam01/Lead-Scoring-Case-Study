{
 "cells": [
  {
   "cell_type": "code",
   "execution_count": 1,
   "id": "3a0cbca5",
   "metadata": {},
   "outputs": [],
   "source": [
    "# import important libraries\n",
    "import numpy as np\n",
    "import pandas as pd\n",
    "import matplotlib.pyplot as plt\n",
    "import seaborn as sns\n",
    "\n",
    "# supress Warnings\n",
    "import warnings\n",
    "warnings.filterwarnings('ignore')\n",
    "%matplotlib inline"
   ]
  },
  {
   "cell_type": "code",
   "execution_count": 2,
   "id": "ab1bb936",
   "metadata": {},
   "outputs": [],
   "source": [
    "# read data to pandas dataframe\n",
    "df = pd.read_csv(\"Leads.csv\")"
   ]
  },
  {
   "cell_type": "code",
   "execution_count": 3,
   "id": "03cbffa2",
   "metadata": {},
   "outputs": [
    {
     "data": {
      "text/plain": [
       "(9240, 37)"
      ]
     },
     "execution_count": 3,
     "metadata": {},
     "output_type": "execute_result"
    }
   ],
   "source": [
    "# chech the shape\n",
    "df.shape"
   ]
  },
  {
   "cell_type": "markdown",
   "id": "cc9d3d64",
   "metadata": {},
   "source": [
    "## Inspecting the Data"
   ]
  },
  {
   "cell_type": "code",
   "execution_count": 4,
   "id": "d9f855bd",
   "metadata": {},
   "outputs": [
    {
     "name": "stdout",
     "output_type": "stream",
     "text": [
      "<class 'pandas.core.frame.DataFrame'>\n",
      "RangeIndex: 9240 entries, 0 to 9239\n",
      "Data columns (total 37 columns):\n",
      " #   Column                                         Non-Null Count  Dtype  \n",
      "---  ------                                         --------------  -----  \n",
      " 0   Prospect ID                                    9240 non-null   object \n",
      " 1   Lead Number                                    9240 non-null   int64  \n",
      " 2   Lead Origin                                    9240 non-null   object \n",
      " 3   Lead Source                                    9204 non-null   object \n",
      " 4   Do Not Email                                   9240 non-null   object \n",
      " 5   Do Not Call                                    9240 non-null   object \n",
      " 6   Converted                                      9240 non-null   int64  \n",
      " 7   TotalVisits                                    9103 non-null   float64\n",
      " 8   Total Time Spent on Website                    9240 non-null   int64  \n",
      " 9   Page Views Per Visit                           9103 non-null   float64\n",
      " 10  Last Activity                                  9137 non-null   object \n",
      " 11  Country                                        6779 non-null   object \n",
      " 12  Specialization                                 7802 non-null   object \n",
      " 13  How did you hear about X Education             7033 non-null   object \n",
      " 14  What is your current occupation                6550 non-null   object \n",
      " 15  What matters most to you in choosing a course  6531 non-null   object \n",
      " 16  Search                                         9240 non-null   object \n",
      " 17  Magazine                                       9240 non-null   object \n",
      " 18  Newspaper Article                              9240 non-null   object \n",
      " 19  X Education Forums                             9240 non-null   object \n",
      " 20  Newspaper                                      9240 non-null   object \n",
      " 21  Digital Advertisement                          9240 non-null   object \n",
      " 22  Through Recommendations                        9240 non-null   object \n",
      " 23  Receive More Updates About Our Courses         9240 non-null   object \n",
      " 24  Tags                                           5887 non-null   object \n",
      " 25  Lead Quality                                   4473 non-null   object \n",
      " 26  Update me on Supply Chain Content              9240 non-null   object \n",
      " 27  Get updates on DM Content                      9240 non-null   object \n",
      " 28  Lead Profile                                   6531 non-null   object \n",
      " 29  City                                           7820 non-null   object \n",
      " 30  Asymmetrique Activity Index                    5022 non-null   object \n",
      " 31  Asymmetrique Profile Index                     5022 non-null   object \n",
      " 32  Asymmetrique Activity Score                    5022 non-null   float64\n",
      " 33  Asymmetrique Profile Score                     5022 non-null   float64\n",
      " 34  I agree to pay the amount through cheque       9240 non-null   object \n",
      " 35  A free copy of Mastering The Interview         9240 non-null   object \n",
      " 36  Last Notable Activity                          9240 non-null   object \n",
      "dtypes: float64(4), int64(3), object(30)\n",
      "memory usage: 2.6+ MB\n"
     ]
    }
   ],
   "source": [
    "df.info()"
   ]
  },
  {
   "cell_type": "code",
   "execution_count": 5,
   "id": "5f40a160",
   "metadata": {},
   "outputs": [
    {
     "data": {
      "text/html": [
       "<div>\n",
       "<style scoped>\n",
       "    .dataframe tbody tr th:only-of-type {\n",
       "        vertical-align: middle;\n",
       "    }\n",
       "\n",
       "    .dataframe tbody tr th {\n",
       "        vertical-align: top;\n",
       "    }\n",
       "\n",
       "    .dataframe thead th {\n",
       "        text-align: right;\n",
       "    }\n",
       "</style>\n",
       "<table border=\"1\" class=\"dataframe\">\n",
       "  <thead>\n",
       "    <tr style=\"text-align: right;\">\n",
       "      <th></th>\n",
       "      <th>Prospect ID</th>\n",
       "      <th>Lead Number</th>\n",
       "      <th>Lead Origin</th>\n",
       "      <th>Lead Source</th>\n",
       "      <th>Do Not Email</th>\n",
       "      <th>Do Not Call</th>\n",
       "      <th>Converted</th>\n",
       "      <th>TotalVisits</th>\n",
       "      <th>Total Time Spent on Website</th>\n",
       "      <th>Page Views Per Visit</th>\n",
       "      <th>Last Activity</th>\n",
       "      <th>Country</th>\n",
       "      <th>Specialization</th>\n",
       "      <th>How did you hear about X Education</th>\n",
       "      <th>What is your current occupation</th>\n",
       "      <th>What matters most to you in choosing a course</th>\n",
       "      <th>Search</th>\n",
       "      <th>Magazine</th>\n",
       "      <th>Newspaper Article</th>\n",
       "      <th>X Education Forums</th>\n",
       "      <th>Newspaper</th>\n",
       "      <th>Digital Advertisement</th>\n",
       "      <th>Through Recommendations</th>\n",
       "      <th>Receive More Updates About Our Courses</th>\n",
       "      <th>Tags</th>\n",
       "      <th>Lead Quality</th>\n",
       "      <th>Update me on Supply Chain Content</th>\n",
       "      <th>Get updates on DM Content</th>\n",
       "      <th>Lead Profile</th>\n",
       "      <th>City</th>\n",
       "      <th>Asymmetrique Activity Index</th>\n",
       "      <th>Asymmetrique Profile Index</th>\n",
       "      <th>Asymmetrique Activity Score</th>\n",
       "      <th>Asymmetrique Profile Score</th>\n",
       "      <th>I agree to pay the amount through cheque</th>\n",
       "      <th>A free copy of Mastering The Interview</th>\n",
       "      <th>Last Notable Activity</th>\n",
       "    </tr>\n",
       "  </thead>\n",
       "  <tbody>\n",
       "    <tr>\n",
       "      <th>0</th>\n",
       "      <td>7927b2df-8bba-4d29-b9a2-b6e0beafe620</td>\n",
       "      <td>660737</td>\n",
       "      <td>API</td>\n",
       "      <td>Olark Chat</td>\n",
       "      <td>No</td>\n",
       "      <td>No</td>\n",
       "      <td>0</td>\n",
       "      <td>0.0</td>\n",
       "      <td>0</td>\n",
       "      <td>0.0</td>\n",
       "      <td>Page Visited on Website</td>\n",
       "      <td>NaN</td>\n",
       "      <td>Select</td>\n",
       "      <td>Select</td>\n",
       "      <td>Unemployed</td>\n",
       "      <td>Better Career Prospects</td>\n",
       "      <td>No</td>\n",
       "      <td>No</td>\n",
       "      <td>No</td>\n",
       "      <td>No</td>\n",
       "      <td>No</td>\n",
       "      <td>No</td>\n",
       "      <td>No</td>\n",
       "      <td>No</td>\n",
       "      <td>Interested in other courses</td>\n",
       "      <td>Low in Relevance</td>\n",
       "      <td>No</td>\n",
       "      <td>No</td>\n",
       "      <td>Select</td>\n",
       "      <td>Select</td>\n",
       "      <td>02.Medium</td>\n",
       "      <td>02.Medium</td>\n",
       "      <td>15.0</td>\n",
       "      <td>15.0</td>\n",
       "      <td>No</td>\n",
       "      <td>No</td>\n",
       "      <td>Modified</td>\n",
       "    </tr>\n",
       "    <tr>\n",
       "      <th>1</th>\n",
       "      <td>2a272436-5132-4136-86fa-dcc88c88f482</td>\n",
       "      <td>660728</td>\n",
       "      <td>API</td>\n",
       "      <td>Organic Search</td>\n",
       "      <td>No</td>\n",
       "      <td>No</td>\n",
       "      <td>0</td>\n",
       "      <td>5.0</td>\n",
       "      <td>674</td>\n",
       "      <td>2.5</td>\n",
       "      <td>Email Opened</td>\n",
       "      <td>India</td>\n",
       "      <td>Select</td>\n",
       "      <td>Select</td>\n",
       "      <td>Unemployed</td>\n",
       "      <td>Better Career Prospects</td>\n",
       "      <td>No</td>\n",
       "      <td>No</td>\n",
       "      <td>No</td>\n",
       "      <td>No</td>\n",
       "      <td>No</td>\n",
       "      <td>No</td>\n",
       "      <td>No</td>\n",
       "      <td>No</td>\n",
       "      <td>Ringing</td>\n",
       "      <td>NaN</td>\n",
       "      <td>No</td>\n",
       "      <td>No</td>\n",
       "      <td>Select</td>\n",
       "      <td>Select</td>\n",
       "      <td>02.Medium</td>\n",
       "      <td>02.Medium</td>\n",
       "      <td>15.0</td>\n",
       "      <td>15.0</td>\n",
       "      <td>No</td>\n",
       "      <td>No</td>\n",
       "      <td>Email Opened</td>\n",
       "    </tr>\n",
       "    <tr>\n",
       "      <th>2</th>\n",
       "      <td>8cc8c611-a219-4f35-ad23-fdfd2656bd8a</td>\n",
       "      <td>660727</td>\n",
       "      <td>Landing Page Submission</td>\n",
       "      <td>Direct Traffic</td>\n",
       "      <td>No</td>\n",
       "      <td>No</td>\n",
       "      <td>1</td>\n",
       "      <td>2.0</td>\n",
       "      <td>1532</td>\n",
       "      <td>2.0</td>\n",
       "      <td>Email Opened</td>\n",
       "      <td>India</td>\n",
       "      <td>Business Administration</td>\n",
       "      <td>Select</td>\n",
       "      <td>Student</td>\n",
       "      <td>Better Career Prospects</td>\n",
       "      <td>No</td>\n",
       "      <td>No</td>\n",
       "      <td>No</td>\n",
       "      <td>No</td>\n",
       "      <td>No</td>\n",
       "      <td>No</td>\n",
       "      <td>No</td>\n",
       "      <td>No</td>\n",
       "      <td>Will revert after reading the email</td>\n",
       "      <td>Might be</td>\n",
       "      <td>No</td>\n",
       "      <td>No</td>\n",
       "      <td>Potential Lead</td>\n",
       "      <td>Mumbai</td>\n",
       "      <td>02.Medium</td>\n",
       "      <td>01.High</td>\n",
       "      <td>14.0</td>\n",
       "      <td>20.0</td>\n",
       "      <td>No</td>\n",
       "      <td>Yes</td>\n",
       "      <td>Email Opened</td>\n",
       "    </tr>\n",
       "    <tr>\n",
       "      <th>3</th>\n",
       "      <td>0cc2df48-7cf4-4e39-9de9-19797f9b38cc</td>\n",
       "      <td>660719</td>\n",
       "      <td>Landing Page Submission</td>\n",
       "      <td>Direct Traffic</td>\n",
       "      <td>No</td>\n",
       "      <td>No</td>\n",
       "      <td>0</td>\n",
       "      <td>1.0</td>\n",
       "      <td>305</td>\n",
       "      <td>1.0</td>\n",
       "      <td>Unreachable</td>\n",
       "      <td>India</td>\n",
       "      <td>Media and Advertising</td>\n",
       "      <td>Word Of Mouth</td>\n",
       "      <td>Unemployed</td>\n",
       "      <td>Better Career Prospects</td>\n",
       "      <td>No</td>\n",
       "      <td>No</td>\n",
       "      <td>No</td>\n",
       "      <td>No</td>\n",
       "      <td>No</td>\n",
       "      <td>No</td>\n",
       "      <td>No</td>\n",
       "      <td>No</td>\n",
       "      <td>Ringing</td>\n",
       "      <td>Not Sure</td>\n",
       "      <td>No</td>\n",
       "      <td>No</td>\n",
       "      <td>Select</td>\n",
       "      <td>Mumbai</td>\n",
       "      <td>02.Medium</td>\n",
       "      <td>01.High</td>\n",
       "      <td>13.0</td>\n",
       "      <td>17.0</td>\n",
       "      <td>No</td>\n",
       "      <td>No</td>\n",
       "      <td>Modified</td>\n",
       "    </tr>\n",
       "    <tr>\n",
       "      <th>4</th>\n",
       "      <td>3256f628-e534-4826-9d63-4a8b88782852</td>\n",
       "      <td>660681</td>\n",
       "      <td>Landing Page Submission</td>\n",
       "      <td>Google</td>\n",
       "      <td>No</td>\n",
       "      <td>No</td>\n",
       "      <td>1</td>\n",
       "      <td>2.0</td>\n",
       "      <td>1428</td>\n",
       "      <td>1.0</td>\n",
       "      <td>Converted to Lead</td>\n",
       "      <td>India</td>\n",
       "      <td>Select</td>\n",
       "      <td>Other</td>\n",
       "      <td>Unemployed</td>\n",
       "      <td>Better Career Prospects</td>\n",
       "      <td>No</td>\n",
       "      <td>No</td>\n",
       "      <td>No</td>\n",
       "      <td>No</td>\n",
       "      <td>No</td>\n",
       "      <td>No</td>\n",
       "      <td>No</td>\n",
       "      <td>No</td>\n",
       "      <td>Will revert after reading the email</td>\n",
       "      <td>Might be</td>\n",
       "      <td>No</td>\n",
       "      <td>No</td>\n",
       "      <td>Select</td>\n",
       "      <td>Mumbai</td>\n",
       "      <td>02.Medium</td>\n",
       "      <td>01.High</td>\n",
       "      <td>15.0</td>\n",
       "      <td>18.0</td>\n",
       "      <td>No</td>\n",
       "      <td>No</td>\n",
       "      <td>Modified</td>\n",
       "    </tr>\n",
       "  </tbody>\n",
       "</table>\n",
       "</div>"
      ],
      "text/plain": [
       "                            Prospect ID  Lead Number              Lead Origin  \\\n",
       "0  7927b2df-8bba-4d29-b9a2-b6e0beafe620       660737                      API   \n",
       "1  2a272436-5132-4136-86fa-dcc88c88f482       660728                      API   \n",
       "2  8cc8c611-a219-4f35-ad23-fdfd2656bd8a       660727  Landing Page Submission   \n",
       "3  0cc2df48-7cf4-4e39-9de9-19797f9b38cc       660719  Landing Page Submission   \n",
       "4  3256f628-e534-4826-9d63-4a8b88782852       660681  Landing Page Submission   \n",
       "\n",
       "      Lead Source Do Not Email Do Not Call  Converted  TotalVisits  \\\n",
       "0      Olark Chat           No          No          0          0.0   \n",
       "1  Organic Search           No          No          0          5.0   \n",
       "2  Direct Traffic           No          No          1          2.0   \n",
       "3  Direct Traffic           No          No          0          1.0   \n",
       "4          Google           No          No          1          2.0   \n",
       "\n",
       "   Total Time Spent on Website  Page Views Per Visit            Last Activity  \\\n",
       "0                            0                   0.0  Page Visited on Website   \n",
       "1                          674                   2.5             Email Opened   \n",
       "2                         1532                   2.0             Email Opened   \n",
       "3                          305                   1.0              Unreachable   \n",
       "4                         1428                   1.0        Converted to Lead   \n",
       "\n",
       "  Country           Specialization How did you hear about X Education  \\\n",
       "0     NaN                   Select                             Select   \n",
       "1   India                   Select                             Select   \n",
       "2   India  Business Administration                             Select   \n",
       "3   India    Media and Advertising                      Word Of Mouth   \n",
       "4   India                   Select                              Other   \n",
       "\n",
       "  What is your current occupation  \\\n",
       "0                      Unemployed   \n",
       "1                      Unemployed   \n",
       "2                         Student   \n",
       "3                      Unemployed   \n",
       "4                      Unemployed   \n",
       "\n",
       "  What matters most to you in choosing a course Search Magazine  \\\n",
       "0                       Better Career Prospects     No       No   \n",
       "1                       Better Career Prospects     No       No   \n",
       "2                       Better Career Prospects     No       No   \n",
       "3                       Better Career Prospects     No       No   \n",
       "4                       Better Career Prospects     No       No   \n",
       "\n",
       "  Newspaper Article X Education Forums Newspaper Digital Advertisement  \\\n",
       "0                No                 No        No                    No   \n",
       "1                No                 No        No                    No   \n",
       "2                No                 No        No                    No   \n",
       "3                No                 No        No                    No   \n",
       "4                No                 No        No                    No   \n",
       "\n",
       "  Through Recommendations Receive More Updates About Our Courses  \\\n",
       "0                      No                                     No   \n",
       "1                      No                                     No   \n",
       "2                      No                                     No   \n",
       "3                      No                                     No   \n",
       "4                      No                                     No   \n",
       "\n",
       "                                  Tags      Lead Quality  \\\n",
       "0          Interested in other courses  Low in Relevance   \n",
       "1                              Ringing               NaN   \n",
       "2  Will revert after reading the email          Might be   \n",
       "3                              Ringing          Not Sure   \n",
       "4  Will revert after reading the email          Might be   \n",
       "\n",
       "  Update me on Supply Chain Content Get updates on DM Content    Lead Profile  \\\n",
       "0                                No                        No          Select   \n",
       "1                                No                        No          Select   \n",
       "2                                No                        No  Potential Lead   \n",
       "3                                No                        No          Select   \n",
       "4                                No                        No          Select   \n",
       "\n",
       "     City Asymmetrique Activity Index Asymmetrique Profile Index  \\\n",
       "0  Select                   02.Medium                  02.Medium   \n",
       "1  Select                   02.Medium                  02.Medium   \n",
       "2  Mumbai                   02.Medium                    01.High   \n",
       "3  Mumbai                   02.Medium                    01.High   \n",
       "4  Mumbai                   02.Medium                    01.High   \n",
       "\n",
       "   Asymmetrique Activity Score  Asymmetrique Profile Score  \\\n",
       "0                         15.0                        15.0   \n",
       "1                         15.0                        15.0   \n",
       "2                         14.0                        20.0   \n",
       "3                         13.0                        17.0   \n",
       "4                         15.0                        18.0   \n",
       "\n",
       "  I agree to pay the amount through cheque  \\\n",
       "0                                       No   \n",
       "1                                       No   \n",
       "2                                       No   \n",
       "3                                       No   \n",
       "4                                       No   \n",
       "\n",
       "  A free copy of Mastering The Interview Last Notable Activity  \n",
       "0                                     No              Modified  \n",
       "1                                     No          Email Opened  \n",
       "2                                    Yes          Email Opened  \n",
       "3                                     No              Modified  \n",
       "4                                     No              Modified  "
      ]
     },
     "execution_count": 5,
     "metadata": {},
     "output_type": "execute_result"
    }
   ],
   "source": [
    "# Display all columns\n",
    "pd.set_option(\"display.max_columns\",None)\n",
    "df.head()"
   ]
  },
  {
   "cell_type": "markdown",
   "id": "8018fb2f",
   "metadata": {},
   "source": [
    "## Data Cleaning"
   ]
  },
  {
   "cell_type": "code",
   "execution_count": 6,
   "id": "c1d84fc5",
   "metadata": {},
   "outputs": [
    {
     "data": {
      "text/plain": [
       "No     8506\n",
       "Yes     734\n",
       "Name: Do Not Email, dtype: int64"
      ]
     },
     "execution_count": 6,
     "metadata": {},
     "output_type": "execute_result"
    }
   ],
   "source": [
    "df[\"Do Not Email\"].value_counts()"
   ]
  },
  {
   "cell_type": "code",
   "execution_count": 7,
   "id": "4324f5e3",
   "metadata": {},
   "outputs": [
    {
     "data": {
      "text/plain": [
       "No     9238\n",
       "Yes       2\n",
       "Name: Do Not Call, dtype: int64"
      ]
     },
     "execution_count": 7,
     "metadata": {},
     "output_type": "execute_result"
    }
   ],
   "source": [
    "df[\"Do Not Call\"].value_counts()"
   ]
  },
  {
   "cell_type": "code",
   "execution_count": 8,
   "id": "5a305158",
   "metadata": {},
   "outputs": [
    {
     "data": {
      "text/plain": [
       "No     9226\n",
       "Yes      14\n",
       "Name: Search, dtype: int64"
      ]
     },
     "execution_count": 8,
     "metadata": {},
     "output_type": "execute_result"
    }
   ],
   "source": [
    "df[\"Search\"].value_counts()"
   ]
  },
  {
   "cell_type": "markdown",
   "id": "f00a52e4",
   "metadata": {},
   "source": [
    "### Handling Imbalances"
   ]
  },
  {
   "cell_type": "markdown",
   "id": "07cc2cbe",
   "metadata": {},
   "source": [
    "As it can be noticed that for most of columns having a \"yes/no\" responce the data is highly Imbalanced, dropping the columns if the responce is no for more than 90% rows"
   ]
  },
  {
   "cell_type": "code",
   "execution_count": 9,
   "id": "a5ab4556",
   "metadata": {},
   "outputs": [],
   "source": [
    "\n",
    "for col in set(df.columns)-set(df.describe().columns):\n",
    "    if df[col].unique().shape[0]<=2 and df[df[col]==\"No\"].count().max()>.9*df.shape[0]:\n",
    "        df.drop(col,axis=1,inplace=True)\n",
    "    "
   ]
  },
  {
   "cell_type": "code",
   "execution_count": 10,
   "id": "7b76179e",
   "metadata": {},
   "outputs": [
    {
     "data": {
      "text/plain": [
       "(9240, 24)"
      ]
     },
     "execution_count": 10,
     "metadata": {},
     "output_type": "execute_result"
    }
   ],
   "source": [
    "df.shape"
   ]
  },
  {
   "cell_type": "code",
   "execution_count": 11,
   "id": "df7d2b04",
   "metadata": {},
   "outputs": [
    {
     "data": {
      "text/plain": [
       "Index(['Prospect ID', 'Lead Number', 'Lead Origin', 'Lead Source', 'Converted',\n",
       "       'TotalVisits', 'Total Time Spent on Website', 'Page Views Per Visit',\n",
       "       'Last Activity', 'Country', 'Specialization',\n",
       "       'How did you hear about X Education', 'What is your current occupation',\n",
       "       'What matters most to you in choosing a course', 'Tags', 'Lead Quality',\n",
       "       'Lead Profile', 'City', 'Asymmetrique Activity Index',\n",
       "       'Asymmetrique Profile Index', 'Asymmetrique Activity Score',\n",
       "       'Asymmetrique Profile Score', 'A free copy of Mastering The Interview',\n",
       "       'Last Notable Activity'],\n",
       "      dtype='object')"
      ]
     },
     "execution_count": 11,
     "metadata": {},
     "output_type": "execute_result"
    }
   ],
   "source": [
    "# out of 13 \"yes/no\" responce columns 12 were having \"no\" as responce for more than 90% of rows\n",
    "df.columns"
   ]
  },
  {
   "cell_type": "code",
   "execution_count": 12,
   "id": "c49e9e45",
   "metadata": {},
   "outputs": [
    {
     "data": {
      "text/html": [
       "<div>\n",
       "<style scoped>\n",
       "    .dataframe tbody tr th:only-of-type {\n",
       "        vertical-align: middle;\n",
       "    }\n",
       "\n",
       "    .dataframe tbody tr th {\n",
       "        vertical-align: top;\n",
       "    }\n",
       "\n",
       "    .dataframe thead th {\n",
       "        text-align: right;\n",
       "    }\n",
       "</style>\n",
       "<table border=\"1\" class=\"dataframe\">\n",
       "  <thead>\n",
       "    <tr style=\"text-align: right;\">\n",
       "      <th></th>\n",
       "      <th>Prospect ID</th>\n",
       "      <th>Lead Number</th>\n",
       "      <th>Lead Origin</th>\n",
       "      <th>Lead Source</th>\n",
       "      <th>Converted</th>\n",
       "      <th>TotalVisits</th>\n",
       "      <th>Total Time Spent on Website</th>\n",
       "      <th>Page Views Per Visit</th>\n",
       "      <th>Last Activity</th>\n",
       "      <th>Country</th>\n",
       "      <th>Specialization</th>\n",
       "      <th>How did you hear about X Education</th>\n",
       "      <th>What is your current occupation</th>\n",
       "      <th>What matters most to you in choosing a course</th>\n",
       "      <th>Tags</th>\n",
       "      <th>Lead Quality</th>\n",
       "      <th>Lead Profile</th>\n",
       "      <th>City</th>\n",
       "      <th>Asymmetrique Activity Index</th>\n",
       "      <th>Asymmetrique Profile Index</th>\n",
       "      <th>Asymmetrique Activity Score</th>\n",
       "      <th>Asymmetrique Profile Score</th>\n",
       "      <th>A free copy of Mastering The Interview</th>\n",
       "      <th>Last Notable Activity</th>\n",
       "    </tr>\n",
       "  </thead>\n",
       "  <tbody>\n",
       "    <tr>\n",
       "      <th>0</th>\n",
       "      <td>7927b2df-8bba-4d29-b9a2-b6e0beafe620</td>\n",
       "      <td>660737</td>\n",
       "      <td>API</td>\n",
       "      <td>Olark Chat</td>\n",
       "      <td>0</td>\n",
       "      <td>0.0</td>\n",
       "      <td>0</td>\n",
       "      <td>0.0</td>\n",
       "      <td>Page Visited on Website</td>\n",
       "      <td>NaN</td>\n",
       "      <td>Select</td>\n",
       "      <td>Select</td>\n",
       "      <td>Unemployed</td>\n",
       "      <td>Better Career Prospects</td>\n",
       "      <td>Interested in other courses</td>\n",
       "      <td>Low in Relevance</td>\n",
       "      <td>Select</td>\n",
       "      <td>Select</td>\n",
       "      <td>02.Medium</td>\n",
       "      <td>02.Medium</td>\n",
       "      <td>15.0</td>\n",
       "      <td>15.0</td>\n",
       "      <td>No</td>\n",
       "      <td>Modified</td>\n",
       "    </tr>\n",
       "    <tr>\n",
       "      <th>1</th>\n",
       "      <td>2a272436-5132-4136-86fa-dcc88c88f482</td>\n",
       "      <td>660728</td>\n",
       "      <td>API</td>\n",
       "      <td>Organic Search</td>\n",
       "      <td>0</td>\n",
       "      <td>5.0</td>\n",
       "      <td>674</td>\n",
       "      <td>2.5</td>\n",
       "      <td>Email Opened</td>\n",
       "      <td>India</td>\n",
       "      <td>Select</td>\n",
       "      <td>Select</td>\n",
       "      <td>Unemployed</td>\n",
       "      <td>Better Career Prospects</td>\n",
       "      <td>Ringing</td>\n",
       "      <td>NaN</td>\n",
       "      <td>Select</td>\n",
       "      <td>Select</td>\n",
       "      <td>02.Medium</td>\n",
       "      <td>02.Medium</td>\n",
       "      <td>15.0</td>\n",
       "      <td>15.0</td>\n",
       "      <td>No</td>\n",
       "      <td>Email Opened</td>\n",
       "    </tr>\n",
       "    <tr>\n",
       "      <th>2</th>\n",
       "      <td>8cc8c611-a219-4f35-ad23-fdfd2656bd8a</td>\n",
       "      <td>660727</td>\n",
       "      <td>Landing Page Submission</td>\n",
       "      <td>Direct Traffic</td>\n",
       "      <td>1</td>\n",
       "      <td>2.0</td>\n",
       "      <td>1532</td>\n",
       "      <td>2.0</td>\n",
       "      <td>Email Opened</td>\n",
       "      <td>India</td>\n",
       "      <td>Business Administration</td>\n",
       "      <td>Select</td>\n",
       "      <td>Student</td>\n",
       "      <td>Better Career Prospects</td>\n",
       "      <td>Will revert after reading the email</td>\n",
       "      <td>Might be</td>\n",
       "      <td>Potential Lead</td>\n",
       "      <td>Mumbai</td>\n",
       "      <td>02.Medium</td>\n",
       "      <td>01.High</td>\n",
       "      <td>14.0</td>\n",
       "      <td>20.0</td>\n",
       "      <td>Yes</td>\n",
       "      <td>Email Opened</td>\n",
       "    </tr>\n",
       "    <tr>\n",
       "      <th>3</th>\n",
       "      <td>0cc2df48-7cf4-4e39-9de9-19797f9b38cc</td>\n",
       "      <td>660719</td>\n",
       "      <td>Landing Page Submission</td>\n",
       "      <td>Direct Traffic</td>\n",
       "      <td>0</td>\n",
       "      <td>1.0</td>\n",
       "      <td>305</td>\n",
       "      <td>1.0</td>\n",
       "      <td>Unreachable</td>\n",
       "      <td>India</td>\n",
       "      <td>Media and Advertising</td>\n",
       "      <td>Word Of Mouth</td>\n",
       "      <td>Unemployed</td>\n",
       "      <td>Better Career Prospects</td>\n",
       "      <td>Ringing</td>\n",
       "      <td>Not Sure</td>\n",
       "      <td>Select</td>\n",
       "      <td>Mumbai</td>\n",
       "      <td>02.Medium</td>\n",
       "      <td>01.High</td>\n",
       "      <td>13.0</td>\n",
       "      <td>17.0</td>\n",
       "      <td>No</td>\n",
       "      <td>Modified</td>\n",
       "    </tr>\n",
       "    <tr>\n",
       "      <th>4</th>\n",
       "      <td>3256f628-e534-4826-9d63-4a8b88782852</td>\n",
       "      <td>660681</td>\n",
       "      <td>Landing Page Submission</td>\n",
       "      <td>Google</td>\n",
       "      <td>1</td>\n",
       "      <td>2.0</td>\n",
       "      <td>1428</td>\n",
       "      <td>1.0</td>\n",
       "      <td>Converted to Lead</td>\n",
       "      <td>India</td>\n",
       "      <td>Select</td>\n",
       "      <td>Other</td>\n",
       "      <td>Unemployed</td>\n",
       "      <td>Better Career Prospects</td>\n",
       "      <td>Will revert after reading the email</td>\n",
       "      <td>Might be</td>\n",
       "      <td>Select</td>\n",
       "      <td>Mumbai</td>\n",
       "      <td>02.Medium</td>\n",
       "      <td>01.High</td>\n",
       "      <td>15.0</td>\n",
       "      <td>18.0</td>\n",
       "      <td>No</td>\n",
       "      <td>Modified</td>\n",
       "    </tr>\n",
       "  </tbody>\n",
       "</table>\n",
       "</div>"
      ],
      "text/plain": [
       "                            Prospect ID  Lead Number              Lead Origin  \\\n",
       "0  7927b2df-8bba-4d29-b9a2-b6e0beafe620       660737                      API   \n",
       "1  2a272436-5132-4136-86fa-dcc88c88f482       660728                      API   \n",
       "2  8cc8c611-a219-4f35-ad23-fdfd2656bd8a       660727  Landing Page Submission   \n",
       "3  0cc2df48-7cf4-4e39-9de9-19797f9b38cc       660719  Landing Page Submission   \n",
       "4  3256f628-e534-4826-9d63-4a8b88782852       660681  Landing Page Submission   \n",
       "\n",
       "      Lead Source  Converted  TotalVisits  Total Time Spent on Website  \\\n",
       "0      Olark Chat          0          0.0                            0   \n",
       "1  Organic Search          0          5.0                          674   \n",
       "2  Direct Traffic          1          2.0                         1532   \n",
       "3  Direct Traffic          0          1.0                          305   \n",
       "4          Google          1          2.0                         1428   \n",
       "\n",
       "   Page Views Per Visit            Last Activity Country  \\\n",
       "0                   0.0  Page Visited on Website     NaN   \n",
       "1                   2.5             Email Opened   India   \n",
       "2                   2.0             Email Opened   India   \n",
       "3                   1.0              Unreachable   India   \n",
       "4                   1.0        Converted to Lead   India   \n",
       "\n",
       "            Specialization How did you hear about X Education  \\\n",
       "0                   Select                             Select   \n",
       "1                   Select                             Select   \n",
       "2  Business Administration                             Select   \n",
       "3    Media and Advertising                      Word Of Mouth   \n",
       "4                   Select                              Other   \n",
       "\n",
       "  What is your current occupation  \\\n",
       "0                      Unemployed   \n",
       "1                      Unemployed   \n",
       "2                         Student   \n",
       "3                      Unemployed   \n",
       "4                      Unemployed   \n",
       "\n",
       "  What matters most to you in choosing a course  \\\n",
       "0                       Better Career Prospects   \n",
       "1                       Better Career Prospects   \n",
       "2                       Better Career Prospects   \n",
       "3                       Better Career Prospects   \n",
       "4                       Better Career Prospects   \n",
       "\n",
       "                                  Tags      Lead Quality    Lead Profile  \\\n",
       "0          Interested in other courses  Low in Relevance          Select   \n",
       "1                              Ringing               NaN          Select   \n",
       "2  Will revert after reading the email          Might be  Potential Lead   \n",
       "3                              Ringing          Not Sure          Select   \n",
       "4  Will revert after reading the email          Might be          Select   \n",
       "\n",
       "     City Asymmetrique Activity Index Asymmetrique Profile Index  \\\n",
       "0  Select                   02.Medium                  02.Medium   \n",
       "1  Select                   02.Medium                  02.Medium   \n",
       "2  Mumbai                   02.Medium                    01.High   \n",
       "3  Mumbai                   02.Medium                    01.High   \n",
       "4  Mumbai                   02.Medium                    01.High   \n",
       "\n",
       "   Asymmetrique Activity Score  Asymmetrique Profile Score  \\\n",
       "0                         15.0                        15.0   \n",
       "1                         15.0                        15.0   \n",
       "2                         14.0                        20.0   \n",
       "3                         13.0                        17.0   \n",
       "4                         15.0                        18.0   \n",
       "\n",
       "  A free copy of Mastering The Interview Last Notable Activity  \n",
       "0                                     No              Modified  \n",
       "1                                     No          Email Opened  \n",
       "2                                    Yes          Email Opened  \n",
       "3                                     No              Modified  \n",
       "4                                     No              Modified  "
      ]
     },
     "execution_count": 12,
     "metadata": {},
     "output_type": "execute_result"
    }
   ],
   "source": [
    "df.head()"
   ]
  },
  {
   "cell_type": "code",
   "execution_count": 13,
   "id": "f5ee78cb",
   "metadata": {},
   "outputs": [
    {
     "name": "stdout",
     "output_type": "stream",
     "text": [
      "<class 'pandas.core.frame.DataFrame'>\n",
      "RangeIndex: 9240 entries, 0 to 9239\n",
      "Data columns (total 24 columns):\n",
      " #   Column                                         Non-Null Count  Dtype  \n",
      "---  ------                                         --------------  -----  \n",
      " 0   Prospect ID                                    9240 non-null   object \n",
      " 1   Lead Number                                    9240 non-null   int64  \n",
      " 2   Lead Origin                                    9240 non-null   object \n",
      " 3   Lead Source                                    9204 non-null   object \n",
      " 4   Converted                                      9240 non-null   int64  \n",
      " 5   TotalVisits                                    9103 non-null   float64\n",
      " 6   Total Time Spent on Website                    9240 non-null   int64  \n",
      " 7   Page Views Per Visit                           9103 non-null   float64\n",
      " 8   Last Activity                                  9137 non-null   object \n",
      " 9   Country                                        6779 non-null   object \n",
      " 10  Specialization                                 7802 non-null   object \n",
      " 11  How did you hear about X Education             7033 non-null   object \n",
      " 12  What is your current occupation                6550 non-null   object \n",
      " 13  What matters most to you in choosing a course  6531 non-null   object \n",
      " 14  Tags                                           5887 non-null   object \n",
      " 15  Lead Quality                                   4473 non-null   object \n",
      " 16  Lead Profile                                   6531 non-null   object \n",
      " 17  City                                           7820 non-null   object \n",
      " 18  Asymmetrique Activity Index                    5022 non-null   object \n",
      " 19  Asymmetrique Profile Index                     5022 non-null   object \n",
      " 20  Asymmetrique Activity Score                    5022 non-null   float64\n",
      " 21  Asymmetrique Profile Score                     5022 non-null   float64\n",
      " 22  A free copy of Mastering The Interview         9240 non-null   object \n",
      " 23  Last Notable Activity                          9240 non-null   object \n",
      "dtypes: float64(4), int64(3), object(17)\n",
      "memory usage: 1.7+ MB\n"
     ]
    }
   ],
   "source": [
    "df.info()"
   ]
  },
  {
   "cell_type": "markdown",
   "id": "081b4418",
   "metadata": {},
   "source": [
    "## Null Handling"
   ]
  },
  {
   "cell_type": "code",
   "execution_count": 14,
   "id": "2843c229",
   "metadata": {},
   "outputs": [],
   "source": [
    "# Drop Columns having null values grater than 45%\n",
    "for i in set(df.columns):\n",
    "    if df[i].isnull().sum() >.45*df.shape[0]:\n",
    "        df.drop(i, axis=1, inplace=True)"
   ]
  },
  {
   "cell_type": "code",
   "execution_count": 15,
   "id": "57fd4a96",
   "metadata": {},
   "outputs": [
    {
     "data": {
      "text/plain": [
       "(9240, 19)"
      ]
     },
     "execution_count": 15,
     "metadata": {},
     "output_type": "execute_result"
    }
   ],
   "source": [
    "df.shape"
   ]
  },
  {
   "cell_type": "code",
   "execution_count": 16,
   "id": "53acda57",
   "metadata": {},
   "outputs": [
    {
     "name": "stdout",
     "output_type": "stream",
     "text": [
      "<class 'pandas.core.frame.DataFrame'>\n",
      "RangeIndex: 9240 entries, 0 to 9239\n",
      "Data columns (total 19 columns):\n",
      " #   Column                                         Non-Null Count  Dtype  \n",
      "---  ------                                         --------------  -----  \n",
      " 0   Prospect ID                                    9240 non-null   object \n",
      " 1   Lead Number                                    9240 non-null   int64  \n",
      " 2   Lead Origin                                    9240 non-null   object \n",
      " 3   Lead Source                                    9204 non-null   object \n",
      " 4   Converted                                      9240 non-null   int64  \n",
      " 5   TotalVisits                                    9103 non-null   float64\n",
      " 6   Total Time Spent on Website                    9240 non-null   int64  \n",
      " 7   Page Views Per Visit                           9103 non-null   float64\n",
      " 8   Last Activity                                  9137 non-null   object \n",
      " 9   Country                                        6779 non-null   object \n",
      " 10  Specialization                                 7802 non-null   object \n",
      " 11  How did you hear about X Education             7033 non-null   object \n",
      " 12  What is your current occupation                6550 non-null   object \n",
      " 13  What matters most to you in choosing a course  6531 non-null   object \n",
      " 14  Tags                                           5887 non-null   object \n",
      " 15  Lead Profile                                   6531 non-null   object \n",
      " 16  City                                           7820 non-null   object \n",
      " 17  A free copy of Mastering The Interview         9240 non-null   object \n",
      " 18  Last Notable Activity                          9240 non-null   object \n",
      "dtypes: float64(2), int64(3), object(14)\n",
      "memory usage: 1.3+ MB\n"
     ]
    }
   ],
   "source": [
    "df.info()"
   ]
  },
  {
   "cell_type": "code",
   "execution_count": 17,
   "id": "98276b67",
   "metadata": {},
   "outputs": [
    {
     "data": {
      "text/html": [
       "<div>\n",
       "<style scoped>\n",
       "    .dataframe tbody tr th:only-of-type {\n",
       "        vertical-align: middle;\n",
       "    }\n",
       "\n",
       "    .dataframe tbody tr th {\n",
       "        vertical-align: top;\n",
       "    }\n",
       "\n",
       "    .dataframe thead th {\n",
       "        text-align: right;\n",
       "    }\n",
       "</style>\n",
       "<table border=\"1\" class=\"dataframe\">\n",
       "  <thead>\n",
       "    <tr style=\"text-align: right;\">\n",
       "      <th></th>\n",
       "      <th>Prospect ID</th>\n",
       "      <th>Lead Number</th>\n",
       "      <th>Lead Origin</th>\n",
       "      <th>Lead Source</th>\n",
       "      <th>Converted</th>\n",
       "      <th>TotalVisits</th>\n",
       "      <th>Total Time Spent on Website</th>\n",
       "      <th>Page Views Per Visit</th>\n",
       "      <th>Last Activity</th>\n",
       "      <th>Country</th>\n",
       "      <th>Specialization</th>\n",
       "      <th>How did you hear about X Education</th>\n",
       "      <th>What is your current occupation</th>\n",
       "      <th>What matters most to you in choosing a course</th>\n",
       "      <th>Tags</th>\n",
       "      <th>Lead Profile</th>\n",
       "      <th>City</th>\n",
       "      <th>A free copy of Mastering The Interview</th>\n",
       "      <th>Last Notable Activity</th>\n",
       "    </tr>\n",
       "  </thead>\n",
       "  <tbody>\n",
       "    <tr>\n",
       "      <th>0</th>\n",
       "      <td>7927b2df-8bba-4d29-b9a2-b6e0beafe620</td>\n",
       "      <td>660737</td>\n",
       "      <td>API</td>\n",
       "      <td>Olark Chat</td>\n",
       "      <td>0</td>\n",
       "      <td>0.0</td>\n",
       "      <td>0</td>\n",
       "      <td>0.0</td>\n",
       "      <td>Page Visited on Website</td>\n",
       "      <td>NaN</td>\n",
       "      <td>Select</td>\n",
       "      <td>Select</td>\n",
       "      <td>Unemployed</td>\n",
       "      <td>Better Career Prospects</td>\n",
       "      <td>Interested in other courses</td>\n",
       "      <td>Select</td>\n",
       "      <td>Select</td>\n",
       "      <td>No</td>\n",
       "      <td>Modified</td>\n",
       "    </tr>\n",
       "    <tr>\n",
       "      <th>1</th>\n",
       "      <td>2a272436-5132-4136-86fa-dcc88c88f482</td>\n",
       "      <td>660728</td>\n",
       "      <td>API</td>\n",
       "      <td>Organic Search</td>\n",
       "      <td>0</td>\n",
       "      <td>5.0</td>\n",
       "      <td>674</td>\n",
       "      <td>2.5</td>\n",
       "      <td>Email Opened</td>\n",
       "      <td>India</td>\n",
       "      <td>Select</td>\n",
       "      <td>Select</td>\n",
       "      <td>Unemployed</td>\n",
       "      <td>Better Career Prospects</td>\n",
       "      <td>Ringing</td>\n",
       "      <td>Select</td>\n",
       "      <td>Select</td>\n",
       "      <td>No</td>\n",
       "      <td>Email Opened</td>\n",
       "    </tr>\n",
       "    <tr>\n",
       "      <th>2</th>\n",
       "      <td>8cc8c611-a219-4f35-ad23-fdfd2656bd8a</td>\n",
       "      <td>660727</td>\n",
       "      <td>Landing Page Submission</td>\n",
       "      <td>Direct Traffic</td>\n",
       "      <td>1</td>\n",
       "      <td>2.0</td>\n",
       "      <td>1532</td>\n",
       "      <td>2.0</td>\n",
       "      <td>Email Opened</td>\n",
       "      <td>India</td>\n",
       "      <td>Business Administration</td>\n",
       "      <td>Select</td>\n",
       "      <td>Student</td>\n",
       "      <td>Better Career Prospects</td>\n",
       "      <td>Will revert after reading the email</td>\n",
       "      <td>Potential Lead</td>\n",
       "      <td>Mumbai</td>\n",
       "      <td>Yes</td>\n",
       "      <td>Email Opened</td>\n",
       "    </tr>\n",
       "    <tr>\n",
       "      <th>3</th>\n",
       "      <td>0cc2df48-7cf4-4e39-9de9-19797f9b38cc</td>\n",
       "      <td>660719</td>\n",
       "      <td>Landing Page Submission</td>\n",
       "      <td>Direct Traffic</td>\n",
       "      <td>0</td>\n",
       "      <td>1.0</td>\n",
       "      <td>305</td>\n",
       "      <td>1.0</td>\n",
       "      <td>Unreachable</td>\n",
       "      <td>India</td>\n",
       "      <td>Media and Advertising</td>\n",
       "      <td>Word Of Mouth</td>\n",
       "      <td>Unemployed</td>\n",
       "      <td>Better Career Prospects</td>\n",
       "      <td>Ringing</td>\n",
       "      <td>Select</td>\n",
       "      <td>Mumbai</td>\n",
       "      <td>No</td>\n",
       "      <td>Modified</td>\n",
       "    </tr>\n",
       "    <tr>\n",
       "      <th>4</th>\n",
       "      <td>3256f628-e534-4826-9d63-4a8b88782852</td>\n",
       "      <td>660681</td>\n",
       "      <td>Landing Page Submission</td>\n",
       "      <td>Google</td>\n",
       "      <td>1</td>\n",
       "      <td>2.0</td>\n",
       "      <td>1428</td>\n",
       "      <td>1.0</td>\n",
       "      <td>Converted to Lead</td>\n",
       "      <td>India</td>\n",
       "      <td>Select</td>\n",
       "      <td>Other</td>\n",
       "      <td>Unemployed</td>\n",
       "      <td>Better Career Prospects</td>\n",
       "      <td>Will revert after reading the email</td>\n",
       "      <td>Select</td>\n",
       "      <td>Mumbai</td>\n",
       "      <td>No</td>\n",
       "      <td>Modified</td>\n",
       "    </tr>\n",
       "  </tbody>\n",
       "</table>\n",
       "</div>"
      ],
      "text/plain": [
       "                            Prospect ID  Lead Number              Lead Origin  \\\n",
       "0  7927b2df-8bba-4d29-b9a2-b6e0beafe620       660737                      API   \n",
       "1  2a272436-5132-4136-86fa-dcc88c88f482       660728                      API   \n",
       "2  8cc8c611-a219-4f35-ad23-fdfd2656bd8a       660727  Landing Page Submission   \n",
       "3  0cc2df48-7cf4-4e39-9de9-19797f9b38cc       660719  Landing Page Submission   \n",
       "4  3256f628-e534-4826-9d63-4a8b88782852       660681  Landing Page Submission   \n",
       "\n",
       "      Lead Source  Converted  TotalVisits  Total Time Spent on Website  \\\n",
       "0      Olark Chat          0          0.0                            0   \n",
       "1  Organic Search          0          5.0                          674   \n",
       "2  Direct Traffic          1          2.0                         1532   \n",
       "3  Direct Traffic          0          1.0                          305   \n",
       "4          Google          1          2.0                         1428   \n",
       "\n",
       "   Page Views Per Visit            Last Activity Country  \\\n",
       "0                   0.0  Page Visited on Website     NaN   \n",
       "1                   2.5             Email Opened   India   \n",
       "2                   2.0             Email Opened   India   \n",
       "3                   1.0              Unreachable   India   \n",
       "4                   1.0        Converted to Lead   India   \n",
       "\n",
       "            Specialization How did you hear about X Education  \\\n",
       "0                   Select                             Select   \n",
       "1                   Select                             Select   \n",
       "2  Business Administration                             Select   \n",
       "3    Media and Advertising                      Word Of Mouth   \n",
       "4                   Select                              Other   \n",
       "\n",
       "  What is your current occupation  \\\n",
       "0                      Unemployed   \n",
       "1                      Unemployed   \n",
       "2                         Student   \n",
       "3                      Unemployed   \n",
       "4                      Unemployed   \n",
       "\n",
       "  What matters most to you in choosing a course  \\\n",
       "0                       Better Career Prospects   \n",
       "1                       Better Career Prospects   \n",
       "2                       Better Career Prospects   \n",
       "3                       Better Career Prospects   \n",
       "4                       Better Career Prospects   \n",
       "\n",
       "                                  Tags    Lead Profile    City  \\\n",
       "0          Interested in other courses          Select  Select   \n",
       "1                              Ringing          Select  Select   \n",
       "2  Will revert after reading the email  Potential Lead  Mumbai   \n",
       "3                              Ringing          Select  Mumbai   \n",
       "4  Will revert after reading the email          Select  Mumbai   \n",
       "\n",
       "  A free copy of Mastering The Interview Last Notable Activity  \n",
       "0                                     No              Modified  \n",
       "1                                     No          Email Opened  \n",
       "2                                    Yes          Email Opened  \n",
       "3                                     No              Modified  \n",
       "4                                     No              Modified  "
      ]
     },
     "execution_count": 17,
     "metadata": {},
     "output_type": "execute_result"
    }
   ],
   "source": [
    "df.head()"
   ]
  },
  {
   "cell_type": "code",
   "execution_count": 18,
   "id": "030c9eb4",
   "metadata": {},
   "outputs": [
    {
     "data": {
      "text/plain": [
       "Select                   5043\n",
       "Online Search             808\n",
       "Word Of Mouth             348\n",
       "Student of SomeSchool     310\n",
       "Other                     186\n",
       "Multiple Sources          152\n",
       "Advertisements             70\n",
       "Social Media               67\n",
       "Email                      26\n",
       "SMS                        23\n",
       "Name: How did you hear about X Education, dtype: int64"
      ]
     },
     "execution_count": 18,
     "metadata": {},
     "output_type": "execute_result"
    }
   ],
   "source": [
    "df[\"How did you hear about X Education\"].value_counts()"
   ]
  },
  {
   "cell_type": "code",
   "execution_count": 19,
   "id": "3beea711",
   "metadata": {},
   "outputs": [],
   "source": [
    "# as lot of columns are having \"select\" as a value check if sum of null and \"select\" is grater than 50% and drop the same\n",
    "for i in (set(df.columns)-set(df.describe().columns)):\n",
    "    if df[i].isnull().sum() + df[df[i]==\"Select\"].shape[0]>.5*df.shape[0]:\n",
    "        df.drop(i, axis=1, inplace=True)"
   ]
  },
  {
   "cell_type": "code",
   "execution_count": 20,
   "id": "84269245",
   "metadata": {},
   "outputs": [
    {
     "data": {
      "text/plain": [
       "(9240, 17)"
      ]
     },
     "execution_count": 20,
     "metadata": {},
     "output_type": "execute_result"
    }
   ],
   "source": [
    "df.shape"
   ]
  },
  {
   "cell_type": "code",
   "execution_count": 21,
   "id": "def65f17",
   "metadata": {},
   "outputs": [
    {
     "data": {
      "text/plain": [
       "Index(['Prospect ID', 'Lead Number', 'Lead Origin', 'Lead Source', 'Converted',\n",
       "       'TotalVisits', 'Total Time Spent on Website', 'Page Views Per Visit',\n",
       "       'Last Activity', 'Country', 'Specialization',\n",
       "       'What is your current occupation',\n",
       "       'What matters most to you in choosing a course', 'Tags', 'City',\n",
       "       'A free copy of Mastering The Interview', 'Last Notable Activity'],\n",
       "      dtype='object')"
      ]
     },
     "execution_count": 21,
     "metadata": {},
     "output_type": "execute_result"
    }
   ],
   "source": [
    "df.columns"
   ]
  },
  {
   "cell_type": "code",
   "execution_count": 22,
   "id": "60769f27",
   "metadata": {},
   "outputs": [
    {
     "name": "stdout",
     "output_type": "stream",
     "text": [
      "<class 'pandas.core.frame.DataFrame'>\n",
      "RangeIndex: 9240 entries, 0 to 9239\n",
      "Data columns (total 17 columns):\n",
      " #   Column                                         Non-Null Count  Dtype  \n",
      "---  ------                                         --------------  -----  \n",
      " 0   Prospect ID                                    9240 non-null   object \n",
      " 1   Lead Number                                    9240 non-null   int64  \n",
      " 2   Lead Origin                                    9240 non-null   object \n",
      " 3   Lead Source                                    9204 non-null   object \n",
      " 4   Converted                                      9240 non-null   int64  \n",
      " 5   TotalVisits                                    9103 non-null   float64\n",
      " 6   Total Time Spent on Website                    9240 non-null   int64  \n",
      " 7   Page Views Per Visit                           9103 non-null   float64\n",
      " 8   Last Activity                                  9137 non-null   object \n",
      " 9   Country                                        6779 non-null   object \n",
      " 10  Specialization                                 7802 non-null   object \n",
      " 11  What is your current occupation                6550 non-null   object \n",
      " 12  What matters most to you in choosing a course  6531 non-null   object \n",
      " 13  Tags                                           5887 non-null   object \n",
      " 14  City                                           7820 non-null   object \n",
      " 15  A free copy of Mastering The Interview         9240 non-null   object \n",
      " 16  Last Notable Activity                          9240 non-null   object \n",
      "dtypes: float64(2), int64(3), object(12)\n",
      "memory usage: 1.2+ MB\n"
     ]
    }
   ],
   "source": [
    "df.info()"
   ]
  },
  {
   "cell_type": "code",
   "execution_count": 23,
   "id": "b430d06a",
   "metadata": {},
   "outputs": [
    {
     "data": {
      "text/plain": [
       "Google               2868\n",
       "Direct Traffic       2543\n",
       "Olark Chat           1755\n",
       "Organic Search       1154\n",
       "Reference             534\n",
       "Welingak Website      142\n",
       "Referral Sites        125\n",
       "Facebook               55\n",
       "bing                    6\n",
       "google                  5\n",
       "Click2call              4\n",
       "Press_Release           2\n",
       "Social Media            2\n",
       "Live Chat               2\n",
       "youtubechannel          1\n",
       "testone                 1\n",
       "Pay per Click Ads       1\n",
       "welearnblog_Home        1\n",
       "WeLearn                 1\n",
       "blog                    1\n",
       "NC_EDM                  1\n",
       "Name: Lead Source, dtype: int64"
      ]
     },
     "execution_count": 23,
     "metadata": {},
     "output_type": "execute_result"
    }
   ],
   "source": [
    "df[\"Lead Source\"].value_counts()"
   ]
  },
  {
   "cell_type": "code",
   "execution_count": 24,
   "id": "ffaa18b6",
   "metadata": {},
   "outputs": [],
   "source": [
    "# From the above it can be noticed that Google appears twice with different cases. Hence we shall convert all rows with value \n",
    "# \"Google\" to the same case.\n",
    "df['Lead Source'] = df['Lead Source'].replace('google', 'Google')"
   ]
  },
  {
   "cell_type": "code",
   "execution_count": 25,
   "id": "3e6fe95a",
   "metadata": {},
   "outputs": [
    {
     "data": {
      "text/plain": [
       "0.0    2189\n",
       "2.0    1680\n",
       "3.0    1306\n",
       "4.0    1120\n",
       "5.0     783\n",
       "6.0     466\n",
       "1.0     395\n",
       "7.0     309\n",
       "8.0     224\n",
       "9.0     164\n",
       "Name: TotalVisits, dtype: int64"
      ]
     },
     "execution_count": 25,
     "metadata": {},
     "output_type": "execute_result"
    }
   ],
   "source": [
    "df.TotalVisits.value_counts().head(10)"
   ]
  },
  {
   "cell_type": "code",
   "execution_count": 26,
   "id": "5f76662d",
   "metadata": {},
   "outputs": [],
   "source": [
    "# Replace null in \"total visit\" by \"0.0\" as it appears logical and is also the mode. \n",
    "df.loc[df.TotalVisits.isnull(),\"TotalVisits\"]=0.0"
   ]
  },
  {
   "cell_type": "code",
   "execution_count": 27,
   "id": "5b47a8eb",
   "metadata": {},
   "outputs": [
    {
     "data": {
      "text/plain": [
       "0.00    2189\n",
       "2.00    1795\n",
       "3.00    1196\n",
       "4.00     896\n",
       "1.00     651\n",
       "        ... \n",
       "3.43       1\n",
       "2.56       1\n",
       "6.33       1\n",
       "1.64       1\n",
       "2.08       1\n",
       "Name: Page Views Per Visit, Length: 114, dtype: int64"
      ]
     },
     "execution_count": 27,
     "metadata": {},
     "output_type": "execute_result"
    }
   ],
   "source": [
    "df[\"Page Views Per Visit\"].value_counts()"
   ]
  },
  {
   "cell_type": "code",
   "execution_count": 28,
   "id": "b5bfb885",
   "metadata": {},
   "outputs": [],
   "source": [
    "# Replace null in \"Page Views Per Visit\" by \"0.0\" as it appears logical and is also the mode. \n",
    "df.loc[df[\"Page Views Per Visit\"].isnull(),\"Page Views Per Visit\"]=0.00"
   ]
  },
  {
   "cell_type": "code",
   "execution_count": 29,
   "id": "fefda2ce",
   "metadata": {},
   "outputs": [
    {
     "data": {
      "text/plain": [
       "Email Opened                    3437\n",
       "SMS Sent                        2745\n",
       "Olark Chat Conversation          973\n",
       "Page Visited on Website          640\n",
       "Converted to Lead                428\n",
       "Email Bounced                    326\n",
       "Email Link Clicked               267\n",
       "Form Submitted on Website        116\n",
       "Unreachable                       93\n",
       "Unsubscribed                      61\n",
       "Had a Phone Conversation          30\n",
       "Approached upfront                 9\n",
       "View in browser link Clicked       6\n",
       "Email Received                     2\n",
       "Email Marked Spam                  2\n",
       "Visited Booth in Tradeshow         1\n",
       "Resubscribed to emails             1\n",
       "Name: Last Activity, dtype: int64"
      ]
     },
     "execution_count": 29,
     "metadata": {},
     "output_type": "execute_result"
    }
   ],
   "source": [
    "df[\"Last Activity\"].value_counts()"
   ]
  },
  {
   "cell_type": "code",
   "execution_count": 30,
   "id": "d00458d1",
   "metadata": {},
   "outputs": [
    {
     "data": {
      "text/plain": [
       "Modified                        3407\n",
       "Email Opened                    2827\n",
       "SMS Sent                        2172\n",
       "Page Visited on Website          318\n",
       "Olark Chat Conversation          183\n",
       "Email Link Clicked               173\n",
       "Email Bounced                     60\n",
       "Unsubscribed                      47\n",
       "Unreachable                       32\n",
       "Had a Phone Conversation          14\n",
       "Email Marked Spam                  2\n",
       "Approached upfront                 1\n",
       "Resubscribed to emails             1\n",
       "View in browser link Clicked       1\n",
       "Form Submitted on Website          1\n",
       "Email Received                     1\n",
       "Name: Last Notable Activity, dtype: int64"
      ]
     },
     "execution_count": 30,
     "metadata": {},
     "output_type": "execute_result"
    }
   ],
   "source": [
    "df[\"Last Notable Activity\"].value_counts()"
   ]
  },
  {
   "cell_type": "code",
   "execution_count": 31,
   "id": "252e9796",
   "metadata": {},
   "outputs": [],
   "source": [
    "# columns \"last activity\" and \"last notable Activity\" are having similar categories  \n",
    "# \"last Activity\" is having many nan also so it can be dropped\n",
    "df.drop(\"Last Activity\",axis=1,inplace=True)"
   ]
  },
  {
   "cell_type": "markdown",
   "id": "01004e14",
   "metadata": {},
   "source": [
    "### As a lot of categorical columns are having lot of categories, and for many of them \"value_counts\" is less than 100 which is around 1%, and for many of them \"value_counts\"=1, this will create an imbalance"
   ]
  },
  {
   "cell_type": "code",
   "execution_count": 32,
   "id": "3e67ad1f",
   "metadata": {},
   "outputs": [],
   "source": [
    "# if the \"value_counts\" for a category in a categorical column is less than 100 add all such categories under the name \"other\" \n",
    "for col in [\"Lead Origin\",\"Lead Source\",\"Last Notable Activity\",\"Specialization\",\"What is your current occupation\"]:\n",
    "    \n",
    "    for i in df[col].values:\n",
    "        if df[df[col]==i][col].count()<100:\n",
    "            df.loc[df[col]==i,col]=\"Other\""
   ]
  },
  {
   "cell_type": "code",
   "execution_count": 33,
   "id": "12f89285",
   "metadata": {},
   "outputs": [
    {
     "data": {
      "text/plain": [
       "Google              2873\n",
       "Direct Traffic      2543\n",
       "Olark Chat          1755\n",
       "Organic Search      1154\n",
       "Reference            534\n",
       "Welingak Website     142\n",
       "Referral Sites       125\n",
       "Other                 78\n",
       "Name: Lead Source, dtype: int64"
      ]
     },
     "execution_count": 33,
     "metadata": {},
     "output_type": "execute_result"
    }
   ],
   "source": [
    "df[\"Lead Source\"].value_counts()"
   ]
  },
  {
   "cell_type": "code",
   "execution_count": 34,
   "id": "35be059a",
   "metadata": {},
   "outputs": [
    {
     "data": {
      "text/plain": [
       "India                   6492\n",
       "United States             69\n",
       "United Arab Emirates      53\n",
       "Singapore                 24\n",
       "Saudi Arabia              21\n",
       "United Kingdom            15\n",
       "Australia                 13\n",
       "Qatar                     10\n",
       "Hong Kong                  7\n",
       "Bahrain                    7\n",
       "Oman                       6\n",
       "France                     6\n",
       "unknown                    5\n",
       "South Africa               4\n",
       "Nigeria                    4\n",
       "Germany                    4\n",
       "Kuwait                     4\n",
       "Canada                     4\n",
       "Sweden                     3\n",
       "China                      2\n",
       "Asia/Pacific Region        2\n",
       "Uganda                     2\n",
       "Bangladesh                 2\n",
       "Italy                      2\n",
       "Belgium                    2\n",
       "Netherlands                2\n",
       "Ghana                      2\n",
       "Philippines                2\n",
       "Russia                     1\n",
       "Switzerland                1\n",
       "Vietnam                    1\n",
       "Denmark                    1\n",
       "Tanzania                   1\n",
       "Liberia                    1\n",
       "Malaysia                   1\n",
       "Kenya                      1\n",
       "Sri Lanka                  1\n",
       "Indonesia                  1\n",
       "Name: Country, dtype: int64"
      ]
     },
     "execution_count": 34,
     "metadata": {},
     "output_type": "execute_result"
    }
   ],
   "source": [
    "df.Country.value_counts()"
   ]
  },
  {
   "cell_type": "code",
   "execution_count": 35,
   "id": "dae6306b",
   "metadata": {},
   "outputs": [],
   "source": [
    "# It apears logical to replace nan in country by India as it is the mode.\n",
    "df.loc[df.Country.isnull(),\"Country\"]= \"India\""
   ]
  },
  {
   "cell_type": "code",
   "execution_count": 36,
   "id": "b81d7179",
   "metadata": {},
   "outputs": [],
   "source": [
    "# Replace the country by other if its not india to reduce imbalance as all are having \"Value_count\" less 70, 1%.\n",
    "df.loc[df.Country!=\"India\",\"Country\"]= \"Other\""
   ]
  },
  {
   "cell_type": "code",
   "execution_count": 37,
   "id": "cada43c5",
   "metadata": {},
   "outputs": [
    {
     "data": {
      "text/plain": [
       "India    8953\n",
       "Other     287\n",
       "Name: Country, dtype: int64"
      ]
     },
     "execution_count": 37,
     "metadata": {},
     "output_type": "execute_result"
    }
   ],
   "source": [
    "df.Country.value_counts()"
   ]
  },
  {
   "cell_type": "code",
   "execution_count": 38,
   "id": "944f122b",
   "metadata": {},
   "outputs": [
    {
     "data": {
      "text/plain": [
       "Select                               1942\n",
       "Finance Management                    976\n",
       "Human Resource Management             848\n",
       "Marketing Management                  838\n",
       "Operations Management                 503\n",
       "Business Administration               403\n",
       "IT Projects Management                366\n",
       "Supply Chain Management               349\n",
       "Banking, Investment And Insurance     338\n",
       "Travel and Tourism                    203\n",
       "Media and Advertising                 203\n",
       "International Business                178\n",
       "Other                                 170\n",
       "Healthcare Management                 159\n",
       "Hospitality Management                114\n",
       "E-COMMERCE                            112\n",
       "Retail Management                     100\n",
       "Name: Specialization, dtype: int64"
      ]
     },
     "execution_count": 38,
     "metadata": {},
     "output_type": "execute_result"
    }
   ],
   "source": [
    "df.Specialization.value_counts()"
   ]
  },
  {
   "cell_type": "code",
   "execution_count": 39,
   "id": "e89794a6",
   "metadata": {},
   "outputs": [],
   "source": [
    "# as many of the applicant has not filled the field \"Specialization\" it appears the relavent option was not available.\n",
    "# \"Select\" is the mode for the column so replace nan by \"select\"\n",
    "df.Specialization.fillna(\"Select\", inplace=True)"
   ]
  },
  {
   "cell_type": "code",
   "execution_count": 40,
   "id": "200b92df",
   "metadata": {},
   "outputs": [],
   "source": [
    "# Finaly replace \"Select\" by \"not mentioned\"\n",
    "df.loc[df.Specialization==\"Select\", \"Specialization\"]=\"Not Mentioned\""
   ]
  },
  {
   "cell_type": "code",
   "execution_count": 41,
   "id": "11aaaf7a",
   "metadata": {},
   "outputs": [
    {
     "data": {
      "text/plain": [
       "2690"
      ]
     },
     "execution_count": 41,
     "metadata": {},
     "output_type": "execute_result"
    }
   ],
   "source": [
    "df[\"What is your current occupation\"].isnull().sum()"
   ]
  },
  {
   "cell_type": "code",
   "execution_count": 42,
   "id": "86c0f2f9",
   "metadata": {},
   "outputs": [
    {
     "data": {
      "text/plain": [
       "Unemployed              5600\n",
       "Working Professional     706\n",
       "Student                  210\n",
       "Other                     34\n",
       "Name: What is your current occupation, dtype: int64"
      ]
     },
     "execution_count": 42,
     "metadata": {},
     "output_type": "execute_result"
    }
   ],
   "source": [
    "df[\"What is your current occupation\"].value_counts()"
   ]
  },
  {
   "cell_type": "code",
   "execution_count": 43,
   "id": "0b130f89",
   "metadata": {},
   "outputs": [
    {
     "data": {
      "text/plain": [
       "0    2320\n",
       "1     370\n",
       "Name: Converted, dtype: int64"
      ]
     },
     "execution_count": 43,
     "metadata": {},
     "output_type": "execute_result"
    }
   ],
   "source": [
    "df[df[\"What is your current occupation\"].isnull()].Converted.value_counts()"
   ]
  },
  {
   "cell_type": "code",
   "execution_count": 44,
   "id": "2f807784",
   "metadata": {},
   "outputs": [
    {
     "data": {
      "text/plain": [
       "0    3159\n",
       "1    2441\n",
       "Name: Converted, dtype: int64"
      ]
     },
     "execution_count": 44,
     "metadata": {},
     "output_type": "execute_result"
    }
   ],
   "source": [
    "df[df[\"What is your current occupation\"]==\"Unemployed\"].Converted.value_counts()"
   ]
  },
  {
   "cell_type": "code",
   "execution_count": 45,
   "id": "24d80161",
   "metadata": {},
   "outputs": [],
   "source": [
    "# the distribution of target variable i.e. \"Converted\" among \"nan\" is very diffrent from \"Unemployed\" category.\n",
    "# theirfore replace \"nan\" by \"not mentioned\" in the column \"What is your current occupation\" \n",
    "df[\"What is your current occupation\"].fillna(\"Not Mentioned\",inplace=True)"
   ]
  },
  {
   "cell_type": "code",
   "execution_count": 46,
   "id": "15256a55",
   "metadata": {},
   "outputs": [
    {
     "data": {
      "text/plain": [
       "Better Career Prospects      6528\n",
       "Flexibility & Convenience       2\n",
       "Other                           1\n",
       "Name: What matters most to you in choosing a course, dtype: int64"
      ]
     },
     "execution_count": 46,
     "metadata": {},
     "output_type": "execute_result"
    }
   ],
   "source": [
    "df[\"What matters most to you in choosing a course\"].value_counts()"
   ]
  },
  {
   "cell_type": "code",
   "execution_count": 47,
   "id": "a0ca6295",
   "metadata": {},
   "outputs": [
    {
     "data": {
      "text/plain": [
       "Will revert after reading the email                  2072\n",
       "Ringing                                              1203\n",
       "Interested in other courses                           513\n",
       "Already a student                                     465\n",
       "Closed by Horizzon                                    358\n",
       "switched off                                          240\n",
       "Busy                                                  186\n",
       "Lost to EINS                                          175\n",
       "Not doing further education                           145\n",
       "Interested  in full time MBA                          117\n",
       "Graduation in progress                                111\n",
       "invalid number                                         83\n",
       "Diploma holder (Not Eligible)                          63\n",
       "wrong number given                                     47\n",
       "opp hangup                                             33\n",
       "number not provided                                    27\n",
       "in touch with EINS                                     12\n",
       "Lost to Others                                          7\n",
       "Still Thinking                                          6\n",
       "Want to take admission but has financial problems       6\n",
       "In confusion whether part time or DLP                   5\n",
       "Interested in Next batch                                5\n",
       "Lateral student                                         3\n",
       "Shall take in the next coming month                     2\n",
       "University not recognized                               2\n",
       "Recognition issue (DEC approval)                        1\n",
       "Name: Tags, dtype: int64"
      ]
     },
     "execution_count": 47,
     "metadata": {},
     "output_type": "execute_result"
    }
   ],
   "source": [
    "df.Tags.value_counts()"
   ]
  },
  {
   "cell_type": "code",
   "execution_count": 48,
   "id": "3fe962d8",
   "metadata": {},
   "outputs": [
    {
     "data": {
      "text/plain": [
       "0.36287878787878786"
      ]
     },
     "execution_count": 48,
     "metadata": {},
     "output_type": "execute_result"
    }
   ],
   "source": [
    "df.Tags.isnull().sum()/df.shape[0]"
   ]
  },
  {
   "cell_type": "code",
   "execution_count": 49,
   "id": "60b98234",
   "metadata": {},
   "outputs": [],
   "source": [
    "# Drop \"What matters most to you in choosing a course\"  highly imbalanced \n",
    "# Drop  \"Tags\" \"nan\" is grater than the mode\n",
    "df.drop([\"What matters most to you in choosing a course\",\"Tags\"],axis=1, inplace=True)"
   ]
  },
  {
   "cell_type": "code",
   "execution_count": 50,
   "id": "e830b2a5",
   "metadata": {},
   "outputs": [],
   "source": [
    "df.City.fillna(\"Not Mentioned\",inplace=True)"
   ]
  },
  {
   "cell_type": "code",
   "execution_count": 51,
   "id": "9a41c84f",
   "metadata": {},
   "outputs": [
    {
     "data": {
      "text/plain": [
       "Mumbai                         3222\n",
       "Select                         2249\n",
       "Not Mentioned                  1420\n",
       "Thane & Outskirts               752\n",
       "Other Cities                    686\n",
       "Other Cities of Maharashtra     457\n",
       "Other Metro Cities              380\n",
       "Tier II Cities                   74\n",
       "Name: City, dtype: int64"
      ]
     },
     "execution_count": 51,
     "metadata": {},
     "output_type": "execute_result"
    }
   ],
   "source": [
    "df.City.value_counts()"
   ]
  },
  {
   "cell_type": "code",
   "execution_count": 52,
   "id": "17212ed2",
   "metadata": {},
   "outputs": [],
   "source": [
    "df.loc[df.City==\"Select\",\"City\"]=\"Not Mentioned\""
   ]
  },
  {
   "cell_type": "code",
   "execution_count": 53,
   "id": "29c0024b",
   "metadata": {},
   "outputs": [
    {
     "data": {
      "text/plain": [
       "Not Mentioned                  3669\n",
       "Mumbai                         3222\n",
       "Thane & Outskirts               752\n",
       "Other Cities                    686\n",
       "Other Cities of Maharashtra     457\n",
       "Other Metro Cities              380\n",
       "Tier II Cities                   74\n",
       "Name: City, dtype: int64"
      ]
     },
     "execution_count": 53,
     "metadata": {},
     "output_type": "execute_result"
    }
   ],
   "source": [
    "df.City.value_counts()"
   ]
  },
  {
   "cell_type": "markdown",
   "id": "ca0137ee",
   "metadata": {},
   "source": [
    "df.info()"
   ]
  },
  {
   "cell_type": "code",
   "execution_count": 54,
   "id": "64ea9efd",
   "metadata": {},
   "outputs": [
    {
     "data": {
      "text/plain": [
       "0    5679\n",
       "1    3561\n",
       "Name: Converted, dtype: int64"
      ]
     },
     "execution_count": 54,
     "metadata": {},
     "output_type": "execute_result"
    }
   ],
   "source": [
    "df.Converted.value_counts()"
   ]
  },
  {
   "cell_type": "markdown",
   "id": "8a08ff86",
   "metadata": {},
   "source": [
    "## Handling Outliers"
   ]
  },
  {
   "cell_type": "code",
   "execution_count": 55,
   "id": "11cea9e0",
   "metadata": {},
   "outputs": [
    {
     "data": {
      "text/plain": [
       "Google              2873\n",
       "Direct Traffic      2543\n",
       "Olark Chat          1755\n",
       "Organic Search      1154\n",
       "Reference            534\n",
       "Welingak Website     142\n",
       "Referral Sites       125\n",
       "Other                 78\n",
       "Name: Lead Source, dtype: int64"
      ]
     },
     "execution_count": 55,
     "metadata": {},
     "output_type": "execute_result"
    }
   ],
   "source": [
    "df[\"Lead Source\"].value_counts()"
   ]
  },
  {
   "cell_type": "code",
   "execution_count": 56,
   "id": "53c17ce8",
   "metadata": {},
   "outputs": [
    {
     "data": {
      "text/html": [
       "<div>\n",
       "<style scoped>\n",
       "    .dataframe tbody tr th:only-of-type {\n",
       "        vertical-align: middle;\n",
       "    }\n",
       "\n",
       "    .dataframe tbody tr th {\n",
       "        vertical-align: top;\n",
       "    }\n",
       "\n",
       "    .dataframe thead th {\n",
       "        text-align: right;\n",
       "    }\n",
       "</style>\n",
       "<table border=\"1\" class=\"dataframe\">\n",
       "  <thead>\n",
       "    <tr style=\"text-align: right;\">\n",
       "      <th></th>\n",
       "      <th>Lead Number</th>\n",
       "      <th>Converted</th>\n",
       "      <th>TotalVisits</th>\n",
       "      <th>Total Time Spent on Website</th>\n",
       "      <th>Page Views Per Visit</th>\n",
       "    </tr>\n",
       "  </thead>\n",
       "  <tbody>\n",
       "    <tr>\n",
       "      <th>count</th>\n",
       "      <td>9240.000000</td>\n",
       "      <td>9240.000000</td>\n",
       "      <td>9240.000000</td>\n",
       "      <td>9240.000000</td>\n",
       "      <td>9240.000000</td>\n",
       "    </tr>\n",
       "    <tr>\n",
       "      <th>mean</th>\n",
       "      <td>617188.435606</td>\n",
       "      <td>0.385390</td>\n",
       "      <td>3.394156</td>\n",
       "      <td>487.698268</td>\n",
       "      <td>2.327787</td>\n",
       "    </tr>\n",
       "    <tr>\n",
       "      <th>std</th>\n",
       "      <td>23405.995698</td>\n",
       "      <td>0.486714</td>\n",
       "      <td>4.836682</td>\n",
       "      <td>548.021466</td>\n",
       "      <td>2.164258</td>\n",
       "    </tr>\n",
       "    <tr>\n",
       "      <th>min</th>\n",
       "      <td>579533.000000</td>\n",
       "      <td>0.000000</td>\n",
       "      <td>0.000000</td>\n",
       "      <td>0.000000</td>\n",
       "      <td>0.000000</td>\n",
       "    </tr>\n",
       "    <tr>\n",
       "      <th>25%</th>\n",
       "      <td>596484.500000</td>\n",
       "      <td>0.000000</td>\n",
       "      <td>0.000000</td>\n",
       "      <td>12.000000</td>\n",
       "      <td>0.000000</td>\n",
       "    </tr>\n",
       "    <tr>\n",
       "      <th>50%</th>\n",
       "      <td>615479.000000</td>\n",
       "      <td>0.000000</td>\n",
       "      <td>3.000000</td>\n",
       "      <td>248.000000</td>\n",
       "      <td>2.000000</td>\n",
       "    </tr>\n",
       "    <tr>\n",
       "      <th>75%</th>\n",
       "      <td>637387.250000</td>\n",
       "      <td>1.000000</td>\n",
       "      <td>5.000000</td>\n",
       "      <td>936.000000</td>\n",
       "      <td>3.000000</td>\n",
       "    </tr>\n",
       "    <tr>\n",
       "      <th>max</th>\n",
       "      <td>660737.000000</td>\n",
       "      <td>1.000000</td>\n",
       "      <td>251.000000</td>\n",
       "      <td>2272.000000</td>\n",
       "      <td>55.000000</td>\n",
       "    </tr>\n",
       "  </tbody>\n",
       "</table>\n",
       "</div>"
      ],
      "text/plain": [
       "         Lead Number    Converted  TotalVisits  Total Time Spent on Website  \\\n",
       "count    9240.000000  9240.000000  9240.000000                  9240.000000   \n",
       "mean   617188.435606     0.385390     3.394156                   487.698268   \n",
       "std     23405.995698     0.486714     4.836682                   548.021466   \n",
       "min    579533.000000     0.000000     0.000000                     0.000000   \n",
       "25%    596484.500000     0.000000     0.000000                    12.000000   \n",
       "50%    615479.000000     0.000000     3.000000                   248.000000   \n",
       "75%    637387.250000     1.000000     5.000000                   936.000000   \n",
       "max    660737.000000     1.000000   251.000000                  2272.000000   \n",
       "\n",
       "       Page Views Per Visit  \n",
       "count           9240.000000  \n",
       "mean               2.327787  \n",
       "std                2.164258  \n",
       "min                0.000000  \n",
       "25%                0.000000  \n",
       "50%                2.000000  \n",
       "75%                3.000000  \n",
       "max               55.000000  "
      ]
     },
     "execution_count": 56,
     "metadata": {},
     "output_type": "execute_result"
    }
   ],
   "source": [
    "df.describe()"
   ]
  },
  {
   "cell_type": "markdown",
   "id": "fa5e05ae",
   "metadata": {},
   "source": [
    "### There are a lot of outliers on the higher side of numerical variabels"
   ]
  },
  {
   "cell_type": "code",
   "execution_count": 57,
   "id": "f35898aa",
   "metadata": {},
   "outputs": [
    {
     "data": {
      "image/png": "[encoded data removed]",
      "text/plain": [
       "<Figure size 1440x1800 with 3 Axes>"
      ]
     },
     "metadata": {
      "needs_background": "light"
     },
     "output_type": "display_data"
    }
   ],
   "source": [
    "# Check the outliers in all the numeric columns\n",
    "\n",
    "plt.figure(figsize=(20, 25))\n",
    "plt.subplot(4,3,1)\n",
    "sns.boxplot(y = 'TotalVisits', palette='Set3', data = df)\n",
    "plt.subplot(4,3,2)\n",
    "sns.boxplot(y = 'Total Time Spent on Website', palette='Set3', data = df)\n",
    "plt.subplot(4,3,3)\n",
    "sns.boxplot(y = 'Page Views Per Visit', palette='Set3', data = df)\n",
    "plt.show()"
   ]
  },
  {
   "cell_type": "code",
   "execution_count": 58,
   "id": "1d70c407",
   "metadata": {},
   "outputs": [],
   "source": [
    "# Replace outliers by (1.5 *IQR) +(value corresponding to 75 percentile)\n",
    "for i in [\"TotalVisits\",\"Total Time Spent on Website\",\"Page Views Per Visit\"]:\n",
    "    \n",
    "    IQR =df[i].quantile(.75)-df[i].quantile(.25)\n",
    "    df.loc[df[i]>df[i].quantile(.75)+1.5*IQR,i]=df[i].quantile(.75)+1.5*IQR\n"
   ]
  },
  {
   "cell_type": "code",
   "execution_count": 59,
   "id": "2b60af4b",
   "metadata": {},
   "outputs": [
    {
     "data": {
      "text/plain": [
       "<AxesSubplot:xlabel='Page Views Per Visit'>"
      ]
     },
     "execution_count": 59,
     "metadata": {},
     "output_type": "execute_result"
    },
    {
     "data": {
      "image/png": "[encoded data removed]",
      "text/plain": [
       "<Figure size 432x288 with 1 Axes>"
      ]
     },
     "metadata": {
      "needs_background": "light"
     },
     "output_type": "display_data"
    }
   ],
   "source": [
    "sns.boxplot(x=\"Page Views Per Visit\",data=df)"
   ]
  },
  {
   "cell_type": "markdown",
   "id": "7fb5be9b",
   "metadata": {},
   "source": [
    "## Data Analysis\n"
   ]
  },
  {
   "cell_type": "code",
   "execution_count": 60,
   "id": "1fd96389",
   "metadata": {},
   "outputs": [
    {
     "data": {
      "image/png": "[encoded data removed]",
      "text/plain": [
       "<Figure size 180x360 with 1 Axes>"
      ]
     },
     "metadata": {
      "needs_background": "light"
     },
     "output_type": "display_data"
    }
   ],
   "source": [
    "# Conversion Rate \n",
    "\n",
    "plot = sns.catplot(x=\"Converted\", kind=\"count\", data=df, palette=\"Set2\", aspect= 0.5);\n",
    "\n",
    "plt.title('Converted', fontsize = 14)\n",
    "plt.xlabel(\"Converted\", fontsize = 12)\n",
    "plt.ylabel(\"Count\", fontsize = 12)\n",
    "\n",
    "# Print the counts\n",
    "\n",
    "ax = plot.facet_axis(0,0)\n",
    "for p in ax.patches:        \n",
    "    ax.text(p.get_x() + p.get_width()/2., p.get_height(), p.get_height(), fontsize=12, color='blue', ha='center', va='bottom')\n",
    "\n",
    "   \n",
    "plt.show()"
   ]
  },
  {
   "cell_type": "markdown",
   "id": "db842e97",
   "metadata": {},
   "source": [
    "From the above graph, there has been a overall conversion rate of around 38.5%"
   ]
  },
  {
   "cell_type": "code",
   "execution_count": 61,
   "id": "cf511eeb",
   "metadata": {},
   "outputs": [
    {
     "data": {
      "image/png": "[encoded data removed]",
      "text/plain": [
       "<Figure size 599.75x360 with 1 Axes>"
      ]
     },
     "metadata": {
      "needs_background": "light"
     },
     "output_type": "display_data"
    }
   ],
   "source": [
    "# Lead Origin\n",
    "\n",
    "plot = sns.catplot(x=\"Lead Origin\", hue = \"Converted\", kind=\"count\", data=df, palette=\"Set2\", aspect= 1.5);\n",
    "\n",
    "plt.title('Lead Origin Vs Converted', fontsize = 14)\n",
    "plt.xlabel(\"Lead Origin\", fontsize = 12)\n",
    "plt.ylabel(\"Count\", fontsize = 12)\n",
    "\n",
    "# Print the counts\n",
    "\n",
    "ax = plot.facet_axis(0,0)\n",
    "for p in ax.patches:\n",
    "    \n",
    "    if np.isnan(p.get_height()):\n",
    "        height = 0\n",
    "    else:\n",
    "        height = p.get_height()\n",
    "    \n",
    "    height = int(height)\n",
    "    ax.text(p.get_x()+p.get_width()/2., height, height, fontsize=12, color='blue', ha='center', va='bottom')\n",
    "    \n",
    "\n",
    "\n",
    "plt.show()\n",
    "    \n",
    "\n"
   ]
  },
  {
   "cell_type": "markdown",
   "id": "4785ca78",
   "metadata": {},
   "source": [
    "From the above graph, it can be seen that the maximum conversion happened from Landing Page Submission Also the rate of conversion for \"Lead Add Form\" is 92.5% which is very high compared to 38.5 overall conversion rate"
   ]
  },
  {
   "cell_type": "code",
   "execution_count": 62,
   "id": "a01c48ba",
   "metadata": {},
   "outputs": [
    {
     "data": {
      "image/png": "[encoded data removed]",
      "text/plain": [
       "<Figure size 779.75x360 with 1 Axes>"
      ]
     },
     "metadata": {
      "needs_background": "light"
     },
     "output_type": "display_data"
    }
   ],
   "source": [
    "# Lead Source\n",
    "\n",
    "plot = sns.catplot(x=\"Lead Source\", hue = \"Converted\", kind=\"count\", data=df, palette=\"Set2\", aspect = 2.0);\n",
    "\n",
    "plt.title('Lead Source Vs Converted', fontsize = 14)\n",
    "plt.xlabel(\"Lead Source\", fontsize = 12)\n",
    "plt.ylabel(\"Count\", fontsize = 12)\n",
    "plt.xticks(rotation=90)\n",
    "\n",
    "# Print the counts\n",
    "\n",
    "ax = plot.facet_axis(0,0)\n",
    "for p in ax.patches:\n",
    "    \n",
    "    if np.isnan(p.get_height()):\n",
    "        height = 0\n",
    "    else:\n",
    "        height = p.get_height()\n",
    "    \n",
    "    height = int(height)\n",
    "    ax.text(p.get_x()+p.get_width()/2., height, height, fontsize=12, color='blue', ha='center', va='bottom')\n",
    "\n",
    "plt.show()\n",
    "   "
   ]
  },
  {
   "cell_type": "markdown",
   "id": "6cd3443a",
   "metadata": {},
   "source": [
    "Rate of conversion from \"Refrence\" is around 92% and \"Welingark Website\" is 98.5% but the total no of customers comung from \"Welingark website\" and \"Refrence\" is less than 1%"
   ]
  },
  {
   "cell_type": "code",
   "execution_count": 63,
   "id": "7700e4ce",
   "metadata": {},
   "outputs": [
    {
     "data": {
      "image/png": "[encoded data removed]",
      "text/plain": [
       "<Figure size 599.75x360 with 1 Axes>"
      ]
     },
     "metadata": {
      "needs_background": "light"
     },
     "output_type": "display_data"
    }
   ],
   "source": [
    "# What is your current occupation\n",
    "\n",
    "plot = sns.catplot(x=\"What is your current occupation\", hue = \"Converted\", kind=\"count\", data=df, palette=\"Set2\", \n",
    "                   aspect = 1.5);\n",
    "\n",
    "plt.title('Current Occupation Vs Converted', fontsize = 14)\n",
    "plt.xlabel(\"Current Occupation\", fontsize = 12)\n",
    "plt.ylabel(\"Count\", fontsize = 12)\n",
    "\n",
    "# Print the counts\n",
    "\n",
    "ax = plot.facet_axis(0,0)\n",
    "for p in ax.patches:\n",
    "    \n",
    "    if np.isnan(p.get_height()):\n",
    "        height = 0\n",
    "    else:\n",
    "        height = p.get_height()\n",
    "    \n",
    "    height = int(height)\n",
    "    ax.text(p.get_x()+p.get_width()/2., height, height, fontsize=12, color='blue', ha='center', va='bottom')\n",
    "\n",
    "plt.show()"
   ]
  },
  {
   "cell_type": "markdown",
   "id": "9c2a5798",
   "metadata": {},
   "source": [
    "Conversion rate for \"unemployed\" is slightly higher at 43% compared to overall conversion rate of 38.5%. It can also be noticed from the above data that Conversion rate for Working Professional\" is around 90%."
   ]
  },
  {
   "cell_type": "code",
   "execution_count": 64,
   "id": "1d5fe984",
   "metadata": {},
   "outputs": [
    {
     "data": {
      "image/png": "[encoded data removed]",
      "text/plain": [
       "<Figure size 311.75x360 with 1 Axes>"
      ]
     },
     "metadata": {
      "needs_background": "light"
     },
     "output_type": "display_data"
    }
   ],
   "source": [
    "# Country\n",
    "\n",
    "plot = sns.catplot(x=\"Country\", hue = \"Converted\", kind=\"count\", data=df, palette=\"Set2\",aspect = 0.7);\n",
    "\n",
    "plt.title('Country Vs Converted', fontsize = 14)\n",
    "plt.xlabel(\"Country\", fontsize = 12)\n",
    "plt.ylabel(\"Count\", fontsize = 12)\n",
    "\n",
    "ax = plot.facet_axis(0,0)\n",
    "for p in ax.patches:        \n",
    "    ax.text(p.get_x() + p.get_width()/2., p.get_height(), p.get_height(), fontsize=12, color='blue', ha='center', va='bottom')\n",
    "\n",
    "plt.show()"
   ]
  },
  {
   "cell_type": "markdown",
   "id": "b42aeafb",
   "metadata": {},
   "source": [
    "Conversion rate for \"India\" is higher as compared to \"Others\""
   ]
  },
  {
   "cell_type": "code",
   "execution_count": 65,
   "id": "fb178442",
   "metadata": {},
   "outputs": [
    {
     "data": {
      "image/png": "[encoded data removed]",
      "text/plain": [
       "<Figure size 311.75x360 with 1 Axes>"
      ]
     },
     "metadata": {
      "needs_background": "light"
     },
     "output_type": "display_data"
    }
   ],
   "source": [
    "# A free copy of Mastering The Interview\n",
    "\n",
    "plot = sns.catplot(x=\"A free copy of Mastering The Interview\", hue = \"Converted\", kind=\"count\", data=df, palette=\"Set2\",\n",
    "                   aspect = 0.7);\n",
    "\n",
    "plt.title('Mastering Interview Copy Vs Converted', fontsize = 14)\n",
    "plt.xlabel(\"Mastering Interview Copy\", fontsize = 12)\n",
    "plt.ylabel(\"Count\", fontsize = 12)\n",
    "\n",
    "ax = plot.facet_axis(0,0)\n",
    "for p in ax.patches:        \n",
    "    ax.text(p.get_x() + p.get_width()/2., p.get_height(), p.get_height(), fontsize=12, color='blue', ha='center', va='bottom')\n",
    "\n",
    "plt.show()"
   ]
  },
  {
   "cell_type": "markdown",
   "id": "d1a5f4b3",
   "metadata": {},
   "source": [
    "Conversion rate is high on leads who do not want a free copy of Mastering Interviews"
   ]
  },
  {
   "cell_type": "code",
   "execution_count": 66,
   "id": "e1b00a9b",
   "metadata": {},
   "outputs": [
    {
     "data": {
      "image/png": "[encoded data removed]",
      "text/plain": [
       "<Figure size 671.75x360 with 1 Axes>"
      ]
     },
     "metadata": {
      "needs_background": "light"
     },
     "output_type": "display_data"
    }
   ],
   "source": [
    "# Last Notable Activity\n",
    "\n",
    "plot = sns.catplot(x=\"Last Notable Activity\", hue = \"Converted\", kind=\"count\", data=df, palette=\"Set2\", aspect = 1.7);\n",
    "\n",
    "plt.title('Last Notable Activity Vs Converted', fontsize = 14)\n",
    "plt.xlabel(\"Last Notable Activity\", fontsize = 12)\n",
    "plt.ylabel(\"Count\", fontsize = 12)\n",
    "plt.xticks(rotation=90)\n",
    "\n",
    "# Print the counts\n",
    "\n",
    "ax = plot.facet_axis(0,0)\n",
    "for p in ax.patches:\n",
    "    \n",
    "    if np.isnan(p.get_height()):\n",
    "        height = 0\n",
    "    else:\n",
    "        height = p.get_height()\n",
    "    \n",
    "    height = int(height)\n",
    "    ax.text(p.get_x()+p.get_width()/2., height, height, fontsize=12, color='blue', ha='center', va='bottom')\n",
    "\n",
    "plt.show()"
   ]
  },
  {
   "cell_type": "markdown",
   "id": "dd814461",
   "metadata": {},
   "source": [
    "It can be noticed that the conversion rate is around 70% for \"SMS Sent\" "
   ]
  },
  {
   "cell_type": "code",
   "execution_count": 67,
   "id": "5eb0b046",
   "metadata": {},
   "outputs": [
    {
     "data": {
      "image/png": "[encoded data removed]",
      "text/plain": [
       "<Figure size 1440x1440 with 3 Axes>"
      ]
     },
     "metadata": {
      "needs_background": "light"
     },
     "output_type": "display_data"
    }
   ],
   "source": [
    "# Now check the conversions for all numeric values\n",
    "\n",
    "plt.figure(figsize=(20,20))\n",
    "plt.subplot(4,3,1)\n",
    "sns.barplot(y = 'TotalVisits', x='Converted', palette='Set2', data = df)\n",
    "plt.subplot(4,3,2)\n",
    "sns.barplot(y = 'Total Time Spent on Website', x='Converted', palette='Set2', data = df)\n",
    "plt.subplot(4,3,3)\n",
    "sns.barplot(y = 'Page Views Per Visit', x='Converted', palette='Set2', data = df)\n",
    "\n",
    "plt.show()"
   ]
  },
  {
   "cell_type": "markdown",
   "id": "bb5d4c4c",
   "metadata": {},
   "source": [
    "Among the numerical variabels \"Total Time Spent on Website\" is having high Predective Power as average time spent by converted cases is more than twice the time spent by non converted cases."
   ]
  },
  {
   "cell_type": "markdown",
   "id": "1be38697",
   "metadata": {},
   "source": [
    "## Data Preprocessing"
   ]
  },
  {
   "cell_type": "code",
   "execution_count": 68,
   "id": "8521f293",
   "metadata": {},
   "outputs": [],
   "source": [
    "from sklearn.preprocessing import MinMaxScaler\n",
    "from sklearn.model_selection import train_test_split"
   ]
  },
  {
   "cell_type": "code",
   "execution_count": 69,
   "id": "9918c7fe",
   "metadata": {},
   "outputs": [],
   "source": [
    "# Scaling categorical variabels\n",
    "scaler =MinMaxScaler()\n",
    "df[[\"TotalVisits\",\"Total Time Spent on Website\",\"Page Views Per Visit\"]] = scaler.fit_transform(df[[\"TotalVisits\",\"Total Time Spent on Website\",\"Page Views Per Visit\"]])"
   ]
  },
  {
   "cell_type": "code",
   "execution_count": 70,
   "id": "6d583045",
   "metadata": {},
   "outputs": [
    {
     "data": {
      "text/html": [
       "<div>\n",
       "<style scoped>\n",
       "    .dataframe tbody tr th:only-of-type {\n",
       "        vertical-align: middle;\n",
       "    }\n",
       "\n",
       "    .dataframe tbody tr th {\n",
       "        vertical-align: top;\n",
       "    }\n",
       "\n",
       "    .dataframe thead th {\n",
       "        text-align: right;\n",
       "    }\n",
       "</style>\n",
       "<table border=\"1\" class=\"dataframe\">\n",
       "  <thead>\n",
       "    <tr style=\"text-align: right;\">\n",
       "      <th></th>\n",
       "      <th>Lead Number</th>\n",
       "      <th>Converted</th>\n",
       "      <th>TotalVisits</th>\n",
       "      <th>Total Time Spent on Website</th>\n",
       "      <th>Page Views Per Visit</th>\n",
       "    </tr>\n",
       "  </thead>\n",
       "  <tbody>\n",
       "    <tr>\n",
       "      <th>count</th>\n",
       "      <td>9240.000000</td>\n",
       "      <td>9240.000000</td>\n",
       "      <td>9240.000000</td>\n",
       "      <td>9240.000000</td>\n",
       "      <td>9240.000000</td>\n",
       "    </tr>\n",
       "    <tr>\n",
       "      <th>mean</th>\n",
       "      <td>617188.435606</td>\n",
       "      <td>0.385390</td>\n",
       "      <td>0.257108</td>\n",
       "      <td>0.214656</td>\n",
       "      <td>0.303332</td>\n",
       "    </tr>\n",
       "    <tr>\n",
       "      <th>std</th>\n",
       "      <td>23405.995698</td>\n",
       "      <td>0.486714</td>\n",
       "      <td>0.240411</td>\n",
       "      <td>0.241207</td>\n",
       "      <td>0.255704</td>\n",
       "    </tr>\n",
       "    <tr>\n",
       "      <th>min</th>\n",
       "      <td>579533.000000</td>\n",
       "      <td>0.000000</td>\n",
       "      <td>0.000000</td>\n",
       "      <td>0.000000</td>\n",
       "      <td>0.000000</td>\n",
       "    </tr>\n",
       "    <tr>\n",
       "      <th>25%</th>\n",
       "      <td>596484.500000</td>\n",
       "      <td>0.000000</td>\n",
       "      <td>0.000000</td>\n",
       "      <td>0.005282</td>\n",
       "      <td>0.000000</td>\n",
       "    </tr>\n",
       "    <tr>\n",
       "      <th>50%</th>\n",
       "      <td>615479.000000</td>\n",
       "      <td>0.000000</td>\n",
       "      <td>0.240000</td>\n",
       "      <td>0.109155</td>\n",
       "      <td>0.266667</td>\n",
       "    </tr>\n",
       "    <tr>\n",
       "      <th>75%</th>\n",
       "      <td>637387.250000</td>\n",
       "      <td>1.000000</td>\n",
       "      <td>0.400000</td>\n",
       "      <td>0.411972</td>\n",
       "      <td>0.400000</td>\n",
       "    </tr>\n",
       "    <tr>\n",
       "      <th>max</th>\n",
       "      <td>660737.000000</td>\n",
       "      <td>1.000000</td>\n",
       "      <td>1.000000</td>\n",
       "      <td>1.000000</td>\n",
       "      <td>1.000000</td>\n",
       "    </tr>\n",
       "  </tbody>\n",
       "</table>\n",
       "</div>"
      ],
      "text/plain": [
       "         Lead Number    Converted  TotalVisits  Total Time Spent on Website  \\\n",
       "count    9240.000000  9240.000000  9240.000000                  9240.000000   \n",
       "mean   617188.435606     0.385390     0.257108                     0.214656   \n",
       "std     23405.995698     0.486714     0.240411                     0.241207   \n",
       "min    579533.000000     0.000000     0.000000                     0.000000   \n",
       "25%    596484.500000     0.000000     0.000000                     0.005282   \n",
       "50%    615479.000000     0.000000     0.240000                     0.109155   \n",
       "75%    637387.250000     1.000000     0.400000                     0.411972   \n",
       "max    660737.000000     1.000000     1.000000                     1.000000   \n",
       "\n",
       "       Page Views Per Visit  \n",
       "count           9240.000000  \n",
       "mean               0.303332  \n",
       "std                0.255704  \n",
       "min                0.000000  \n",
       "25%                0.000000  \n",
       "50%                0.266667  \n",
       "75%                0.400000  \n",
       "max                1.000000  "
      ]
     },
     "execution_count": 70,
     "metadata": {},
     "output_type": "execute_result"
    }
   ],
   "source": [
    "df.describe()"
   ]
  },
  {
   "cell_type": "markdown",
   "id": "aca076b2",
   "metadata": {},
   "source": [
    "### Split data  into X (features) and y(Output variable)"
   ]
  },
  {
   "cell_type": "code",
   "execution_count": 71,
   "id": "ec22f30f",
   "metadata": {},
   "outputs": [
    {
     "data": {
      "text/html": [
       "<div>\n",
       "<style scoped>\n",
       "    .dataframe tbody tr th:only-of-type {\n",
       "        vertical-align: middle;\n",
       "    }\n",
       "\n",
       "    .dataframe tbody tr th {\n",
       "        vertical-align: top;\n",
       "    }\n",
       "\n",
       "    .dataframe thead th {\n",
       "        text-align: right;\n",
       "    }\n",
       "</style>\n",
       "<table border=\"1\" class=\"dataframe\">\n",
       "  <thead>\n",
       "    <tr style=\"text-align: right;\">\n",
       "      <th></th>\n",
       "      <th>Prospect ID</th>\n",
       "      <th>Lead Number</th>\n",
       "      <th>Lead Origin</th>\n",
       "      <th>Lead Source</th>\n",
       "      <th>TotalVisits</th>\n",
       "      <th>Total Time Spent on Website</th>\n",
       "      <th>Page Views Per Visit</th>\n",
       "      <th>Country</th>\n",
       "      <th>Specialization</th>\n",
       "      <th>What is your current occupation</th>\n",
       "      <th>City</th>\n",
       "      <th>A free copy of Mastering The Interview</th>\n",
       "      <th>Last Notable Activity</th>\n",
       "    </tr>\n",
       "  </thead>\n",
       "  <tbody>\n",
       "    <tr>\n",
       "      <th>0</th>\n",
       "      <td>7927b2df-8bba-4d29-b9a2-b6e0beafe620</td>\n",
       "      <td>660737</td>\n",
       "      <td>API</td>\n",
       "      <td>Olark Chat</td>\n",
       "      <td>0.00</td>\n",
       "      <td>0.000000</td>\n",
       "      <td>0.000000</td>\n",
       "      <td>India</td>\n",
       "      <td>Not Mentioned</td>\n",
       "      <td>Unemployed</td>\n",
       "      <td>Not Mentioned</td>\n",
       "      <td>No</td>\n",
       "      <td>Modified</td>\n",
       "    </tr>\n",
       "    <tr>\n",
       "      <th>1</th>\n",
       "      <td>2a272436-5132-4136-86fa-dcc88c88f482</td>\n",
       "      <td>660728</td>\n",
       "      <td>API</td>\n",
       "      <td>Organic Search</td>\n",
       "      <td>0.40</td>\n",
       "      <td>0.296655</td>\n",
       "      <td>0.333333</td>\n",
       "      <td>India</td>\n",
       "      <td>Not Mentioned</td>\n",
       "      <td>Unemployed</td>\n",
       "      <td>Not Mentioned</td>\n",
       "      <td>No</td>\n",
       "      <td>Email Opened</td>\n",
       "    </tr>\n",
       "    <tr>\n",
       "      <th>2</th>\n",
       "      <td>8cc8c611-a219-4f35-ad23-fdfd2656bd8a</td>\n",
       "      <td>660727</td>\n",
       "      <td>Landing Page Submission</td>\n",
       "      <td>Direct Traffic</td>\n",
       "      <td>0.16</td>\n",
       "      <td>0.674296</td>\n",
       "      <td>0.266667</td>\n",
       "      <td>India</td>\n",
       "      <td>Business Administration</td>\n",
       "      <td>Student</td>\n",
       "      <td>Mumbai</td>\n",
       "      <td>Yes</td>\n",
       "      <td>Email Opened</td>\n",
       "    </tr>\n",
       "    <tr>\n",
       "      <th>3</th>\n",
       "      <td>0cc2df48-7cf4-4e39-9de9-19797f9b38cc</td>\n",
       "      <td>660719</td>\n",
       "      <td>Landing Page Submission</td>\n",
       "      <td>Direct Traffic</td>\n",
       "      <td>0.08</td>\n",
       "      <td>0.134243</td>\n",
       "      <td>0.133333</td>\n",
       "      <td>India</td>\n",
       "      <td>Media and Advertising</td>\n",
       "      <td>Unemployed</td>\n",
       "      <td>Mumbai</td>\n",
       "      <td>No</td>\n",
       "      <td>Modified</td>\n",
       "    </tr>\n",
       "    <tr>\n",
       "      <th>4</th>\n",
       "      <td>3256f628-e534-4826-9d63-4a8b88782852</td>\n",
       "      <td>660681</td>\n",
       "      <td>Landing Page Submission</td>\n",
       "      <td>Google</td>\n",
       "      <td>0.16</td>\n",
       "      <td>0.628521</td>\n",
       "      <td>0.133333</td>\n",
       "      <td>India</td>\n",
       "      <td>Not Mentioned</td>\n",
       "      <td>Unemployed</td>\n",
       "      <td>Mumbai</td>\n",
       "      <td>No</td>\n",
       "      <td>Modified</td>\n",
       "    </tr>\n",
       "  </tbody>\n",
       "</table>\n",
       "</div>"
      ],
      "text/plain": [
       "                            Prospect ID  Lead Number              Lead Origin  \\\n",
       "0  7927b2df-8bba-4d29-b9a2-b6e0beafe620       660737                      API   \n",
       "1  2a272436-5132-4136-86fa-dcc88c88f482       660728                      API   \n",
       "2  8cc8c611-a219-4f35-ad23-fdfd2656bd8a       660727  Landing Page Submission   \n",
       "3  0cc2df48-7cf4-4e39-9de9-19797f9b38cc       660719  Landing Page Submission   \n",
       "4  3256f628-e534-4826-9d63-4a8b88782852       660681  Landing Page Submission   \n",
       "\n",
       "      Lead Source  TotalVisits  Total Time Spent on Website  \\\n",
       "0      Olark Chat         0.00                     0.000000   \n",
       "1  Organic Search         0.40                     0.296655   \n",
       "2  Direct Traffic         0.16                     0.674296   \n",
       "3  Direct Traffic         0.08                     0.134243   \n",
       "4          Google         0.16                     0.628521   \n",
       "\n",
       "   Page Views Per Visit Country           Specialization  \\\n",
       "0              0.000000   India            Not Mentioned   \n",
       "1              0.333333   India            Not Mentioned   \n",
       "2              0.266667   India  Business Administration   \n",
       "3              0.133333   India    Media and Advertising   \n",
       "4              0.133333   India            Not Mentioned   \n",
       "\n",
       "  What is your current occupation           City  \\\n",
       "0                      Unemployed  Not Mentioned   \n",
       "1                      Unemployed  Not Mentioned   \n",
       "2                         Student         Mumbai   \n",
       "3                      Unemployed         Mumbai   \n",
       "4                      Unemployed         Mumbai   \n",
       "\n",
       "  A free copy of Mastering The Interview Last Notable Activity  \n",
       "0                                     No              Modified  \n",
       "1                                     No          Email Opened  \n",
       "2                                    Yes          Email Opened  \n",
       "3                                     No              Modified  \n",
       "4                                     No              Modified  "
      ]
     },
     "execution_count": 71,
     "metadata": {},
     "output_type": "execute_result"
    }
   ],
   "source": [
    "X=df.drop(\"Converted\",axis=1)\n",
    "X.head()"
   ]
  },
  {
   "cell_type": "code",
   "execution_count": 72,
   "id": "da61b057",
   "metadata": {},
   "outputs": [
    {
     "data": {
      "text/plain": [
       "0    0\n",
       "1    0\n",
       "2    1\n",
       "3    0\n",
       "4    1\n",
       "Name: Converted, dtype: int64"
      ]
     },
     "execution_count": 72,
     "metadata": {},
     "output_type": "execute_result"
    }
   ],
   "source": [
    "y=df.Converted\n",
    "y.head()"
   ]
  },
  {
   "cell_type": "code",
   "execution_count": 73,
   "id": "59ca0acb",
   "metadata": {},
   "outputs": [
    {
     "name": "stdout",
     "output_type": "stream",
     "text": [
      "<class 'pandas.core.frame.DataFrame'>\n",
      "RangeIndex: 9240 entries, 0 to 9239\n",
      "Data columns (total 13 columns):\n",
      " #   Column                                  Non-Null Count  Dtype  \n",
      "---  ------                                  --------------  -----  \n",
      " 0   Prospect ID                             9240 non-null   object \n",
      " 1   Lead Number                             9240 non-null   int64  \n",
      " 2   Lead Origin                             9240 non-null   object \n",
      " 3   Lead Source                             9204 non-null   object \n",
      " 4   TotalVisits                             9240 non-null   float64\n",
      " 5   Total Time Spent on Website             9240 non-null   float64\n",
      " 6   Page Views Per Visit                    9240 non-null   float64\n",
      " 7   Country                                 9240 non-null   object \n",
      " 8   Specialization                          9240 non-null   object \n",
      " 9   What is your current occupation         9240 non-null   object \n",
      " 10  City                                    9240 non-null   object \n",
      " 11  A free copy of Mastering The Interview  9240 non-null   object \n",
      " 12  Last Notable Activity                   9240 non-null   object \n",
      "dtypes: float64(3), int64(1), object(9)\n",
      "memory usage: 938.6+ KB\n"
     ]
    }
   ],
   "source": [
    "X.info()"
   ]
  },
  {
   "cell_type": "code",
   "execution_count": 74,
   "id": "4f7bc129",
   "metadata": {},
   "outputs": [],
   "source": [
    "# map binary variabels to {0,1}\n",
    "variable_list=[\"Country\",\"A free copy of Mastering The Interview\"]\n",
    "X[\"A free copy of Mastering The Interview\"]=X[\"A free copy of Mastering The Interview\"].map({'Yes': 1, \"No\": 0})\n",
    "X.Country=X.Country.map({\"India\":1,\"Other\":0})"
   ]
  },
  {
   "cell_type": "code",
   "execution_count": 75,
   "id": "bae06bf1",
   "metadata": {},
   "outputs": [],
   "source": [
    "# map categorical variabels having multiple categories to dummies\n",
    "Col=['Lead Origin', 'Lead Source', 'Specialization', 'What is your current occupation', 'City','Last Notable Activity']\n",
    "dummy=pd.get_dummies(X[Col],drop_first=True)"
   ]
  },
  {
   "cell_type": "code",
   "execution_count": 76,
   "id": "d2d179e9",
   "metadata": {},
   "outputs": [
    {
     "data": {
      "text/plain": [
       "(9240, 42)"
      ]
     },
     "execution_count": 76,
     "metadata": {},
     "output_type": "execute_result"
    }
   ],
   "source": [
    "dummy.shape"
   ]
  },
  {
   "cell_type": "code",
   "execution_count": 77,
   "id": "9465712d",
   "metadata": {},
   "outputs": [
    {
     "data": {
      "text/plain": [
       "(9240, 55)"
      ]
     },
     "execution_count": 77,
     "metadata": {},
     "output_type": "execute_result"
    }
   ],
   "source": [
    "# Concatenating the dummy variabels with X(features)\n",
    "X = pd.concat([X,dummy], axis=1)\n",
    "X.shape"
   ]
  },
  {
   "cell_type": "code",
   "execution_count": 78,
   "id": "566d040e",
   "metadata": {},
   "outputs": [],
   "source": [
    "# Drop the categorical columns converted to dummies\n",
    "X.drop(Col,axis=1,inplace=True)"
   ]
  },
  {
   "cell_type": "code",
   "execution_count": 79,
   "id": "48b0b110",
   "metadata": {},
   "outputs": [
    {
     "data": {
      "text/plain": [
       "(9240, 49)"
      ]
     },
     "execution_count": 79,
     "metadata": {},
     "output_type": "execute_result"
    }
   ],
   "source": [
    "X.shape"
   ]
  },
  {
   "cell_type": "markdown",
   "id": "7d6294b6",
   "metadata": {},
   "source": [
    "###  Checking for highly correlated features"
   ]
  },
  {
   "cell_type": "code",
   "execution_count": 80,
   "id": "86b7a67f",
   "metadata": {},
   "outputs": [
    {
     "data": {
      "image/png": "[encoded data removed]",
      "text/plain": [
       "<Figure size 2160x1080 with 2 Axes>"
      ]
     },
     "metadata": {
      "needs_background": "light"
     },
     "output_type": "display_data"
    }
   ],
   "source": [
    "cor=X.corr().abs()\n",
    "filterdf=cor[cor>=.75]\n",
    "plt.figure(figsize = (30,15))        # Size of the figure\n",
    "sns.heatmap(filterdf,annot = True)\n",
    "plt.show()"
   ]
  },
  {
   "cell_type": "code",
   "execution_count": 81,
   "id": "43399302",
   "metadata": {},
   "outputs": [],
   "source": [
    "# drop highly correlated features\n",
    "X.drop([\"Specialization_Not Mentioned\",\"Lead Origin_Landing Page Submission\",\"Lead Source_Other\",\"Lead Source_Reference\"],axis=1,inplace=True)"
   ]
  },
  {
   "cell_type": "code",
   "execution_count": 82,
   "id": "04b8a092",
   "metadata": {},
   "outputs": [
    {
     "data": {
      "image/png": "[encoded data removed]",
      "text/plain": [
       "<Figure size 2160x1080 with 2 Axes>"
      ]
     },
     "metadata": {
      "needs_background": "light"
     },
     "output_type": "display_data"
    }
   ],
   "source": [
    "cor=X.corr().abs()\n",
    "filterdf=cor[cor>=.75]\n",
    "plt.figure(figsize = (30,15))        # Size of the figure\n",
    "sns.heatmap(filterdf,annot = True)\n",
    "plt.show()"
   ]
  },
  {
   "cell_type": "code",
   "execution_count": 83,
   "id": "5dab897f",
   "metadata": {},
   "outputs": [
    {
     "data": {
      "text/plain": [
       "(9240, 45)"
      ]
     },
     "execution_count": 83,
     "metadata": {},
     "output_type": "execute_result"
    }
   ],
   "source": [
    "X.shape"
   ]
  },
  {
   "cell_type": "markdown",
   "id": "b2133142",
   "metadata": {},
   "source": [
    "### Test Train split"
   ]
  },
  {
   "cell_type": "code",
   "execution_count": 84,
   "id": "3035b089",
   "metadata": {},
   "outputs": [],
   "source": [
    "X_train, X_test, y_train, y_test = train_test_split(X, y, train_size=0.7, test_size=0.3, random_state=100)"
   ]
  },
  {
   "cell_type": "code",
   "execution_count": 85,
   "id": "dc42c682",
   "metadata": {},
   "outputs": [
    {
     "data": {
      "text/plain": [
       "(6468, 45)"
      ]
     },
     "execution_count": 85,
     "metadata": {},
     "output_type": "execute_result"
    }
   ],
   "source": [
    "# Drop Refrence ID of the lead.\n",
    "X_train_1=X_train.drop([\"Prospect ID\",\"Lead Number\"],axis=1)\n",
    "X_test_1=X_test.drop([\"Prospect ID\",\"Lead Number\"],axis=1)\n",
    "X_train.shape"
   ]
  },
  {
   "cell_type": "markdown",
   "id": "bf2626f8",
   "metadata": {},
   "source": [
    "## Logistic Regression Model Building"
   ]
  },
  {
   "cell_type": "code",
   "execution_count": 86,
   "id": "92a5b27a",
   "metadata": {},
   "outputs": [],
   "source": [
    "import statsmodels.api as sm"
   ]
  },
  {
   "cell_type": "code",
   "execution_count": 87,
   "id": "54d1aac7",
   "metadata": {},
   "outputs": [
    {
     "data": {
      "text/html": [
       "<table class=\"simpletable\">\n",
       "<caption>Generalized Linear Model Regression Results</caption>\n",
       "<tr>\n",
       "  <th>Dep. Variable:</th>       <td>Converted</td>    <th>  No. Observations:  </th>  <td>  6468</td> \n",
       "</tr>\n",
       "<tr>\n",
       "  <th>Model:</th>                  <td>GLM</td>       <th>  Df Residuals:      </th>  <td>  6424</td> \n",
       "</tr>\n",
       "<tr>\n",
       "  <th>Model Family:</th>        <td>Binomial</td>     <th>  Df Model:          </th>  <td>    43</td> \n",
       "</tr>\n",
       "<tr>\n",
       "  <th>Link Function:</th>         <td>Logit</td>      <th>  Scale:             </th> <td>  1.0000</td>\n",
       "</tr>\n",
       "<tr>\n",
       "  <th>Method:</th>                <td>IRLS</td>       <th>  Log-Likelihood:    </th> <td> -2632.9</td>\n",
       "</tr>\n",
       "<tr>\n",
       "  <th>Date:</th>            <td>Fri, 03 Mar 2023</td> <th>  Deviance:          </th> <td>  5265.7</td>\n",
       "</tr>\n",
       "<tr>\n",
       "  <th>Time:</th>                <td>16:58:09</td>     <th>  Pearson chi2:      </th> <td>6.68e+03</td>\n",
       "</tr>\n",
       "<tr>\n",
       "  <th>No. Iterations:</th>          <td>7</td>        <th>  Pseudo R-squ. (CS):</th>  <td>0.4026</td> \n",
       "</tr>\n",
       "<tr>\n",
       "  <th>Covariance Type:</th>     <td>nonrobust</td>    <th>                     </th>     <td> </td>   \n",
       "</tr>\n",
       "</table>\n",
       "<table class=\"simpletable\">\n",
       "<tr>\n",
       "                            <td></td>                              <th>coef</th>     <th>std err</th>      <th>z</th>      <th>P>|z|</th>  <th>[0.025</th>    <th>0.975]</th>  \n",
       "</tr>\n",
       "<tr>\n",
       "  <th>const</th>                                                <td>   -3.7795</td> <td>    0.386</td> <td>   -9.798</td> <td> 0.000</td> <td>   -4.536</td> <td>   -3.024</td>\n",
       "</tr>\n",
       "<tr>\n",
       "  <th>TotalVisits</th>                                          <td>    1.4827</td> <td>    0.221</td> <td>    6.717</td> <td> 0.000</td> <td>    1.050</td> <td>    1.915</td>\n",
       "</tr>\n",
       "<tr>\n",
       "  <th>Total Time Spent on Website</th>                          <td>    4.5477</td> <td>    0.168</td> <td>   27.143</td> <td> 0.000</td> <td>    4.219</td> <td>    4.876</td>\n",
       "</tr>\n",
       "<tr>\n",
       "  <th>Page Views Per Visit</th>                                 <td>   -1.1692</td> <td>    0.231</td> <td>   -5.053</td> <td> 0.000</td> <td>   -1.623</td> <td>   -0.716</td>\n",
       "</tr>\n",
       "<tr>\n",
       "  <th>Country</th>                                              <td>    0.1403</td> <td>    0.206</td> <td>    0.682</td> <td> 0.495</td> <td>   -0.263</td> <td>    0.544</td>\n",
       "</tr>\n",
       "<tr>\n",
       "  <th>A free copy of Mastering The Interview</th>               <td>   -0.2839</td> <td>    0.108</td> <td>   -2.622</td> <td> 0.009</td> <td>   -0.496</td> <td>   -0.072</td>\n",
       "</tr>\n",
       "<tr>\n",
       "  <th>Lead Origin_Lead Add Form</th>                            <td>    3.8361</td> <td>    0.221</td> <td>   17.368</td> <td> 0.000</td> <td>    3.403</td> <td>    4.269</td>\n",
       "</tr>\n",
       "<tr>\n",
       "  <th>Lead Origin_Other</th>                                    <td>    0.4277</td> <td>    0.527</td> <td>    0.812</td> <td> 0.417</td> <td>   -0.605</td> <td>    1.460</td>\n",
       "</tr>\n",
       "<tr>\n",
       "  <th>Lead Source_Google</th>                                   <td>    0.4054</td> <td>    0.112</td> <td>    3.623</td> <td> 0.000</td> <td>    0.186</td> <td>    0.625</td>\n",
       "</tr>\n",
       "<tr>\n",
       "  <th>Lead Source_Olark Chat</th>                               <td>    1.5988</td> <td>    0.153</td> <td>   10.463</td> <td> 0.000</td> <td>    1.299</td> <td>    1.898</td>\n",
       "</tr>\n",
       "<tr>\n",
       "  <th>Lead Source_Organic Search</th>                           <td>    0.2541</td> <td>    0.129</td> <td>    1.964</td> <td> 0.050</td> <td>    0.001</td> <td>    0.508</td>\n",
       "</tr>\n",
       "<tr>\n",
       "  <th>Lead Source_Referral Sites</th>                           <td>    0.3273</td> <td>    0.321</td> <td>    1.021</td> <td> 0.307</td> <td>   -0.301</td> <td>    0.956</td>\n",
       "</tr>\n",
       "<tr>\n",
       "  <th>Lead Source_Welingak Website</th>                         <td>    2.1386</td> <td>    0.744</td> <td>    2.873</td> <td> 0.004</td> <td>    0.680</td> <td>    3.597</td>\n",
       "</tr>\n",
       "<tr>\n",
       "  <th>Specialization_Business Administration</th>               <td>    0.0753</td> <td>    0.201</td> <td>    0.375</td> <td> 0.707</td> <td>   -0.318</td> <td>    0.468</td>\n",
       "</tr>\n",
       "<tr>\n",
       "  <th>Specialization_E-COMMERCE</th>                            <td>    0.4959</td> <td>    0.321</td> <td>    1.543</td> <td> 0.123</td> <td>   -0.134</td> <td>    1.126</td>\n",
       "</tr>\n",
       "<tr>\n",
       "  <th>Specialization_Finance Management</th>                    <td>    0.3488</td> <td>    0.160</td> <td>    2.183</td> <td> 0.029</td> <td>    0.036</td> <td>    0.662</td>\n",
       "</tr>\n",
       "<tr>\n",
       "  <th>Specialization_Healthcare Management</th>                 <td>    0.3609</td> <td>    0.298</td> <td>    1.213</td> <td> 0.225</td> <td>   -0.222</td> <td>    0.944</td>\n",
       "</tr>\n",
       "<tr>\n",
       "  <th>Specialization_Hospitality Management</th>                <td>   -0.7896</td> <td>    0.344</td> <td>   -2.294</td> <td> 0.022</td> <td>   -1.464</td> <td>   -0.115</td>\n",
       "</tr>\n",
       "<tr>\n",
       "  <th>Specialization_Human Resource Management</th>             <td>    0.1762</td> <td>    0.159</td> <td>    1.108</td> <td> 0.268</td> <td>   -0.136</td> <td>    0.488</td>\n",
       "</tr>\n",
       "<tr>\n",
       "  <th>Specialization_IT Projects Management</th>                <td>    0.3287</td> <td>    0.214</td> <td>    1.535</td> <td> 0.125</td> <td>   -0.091</td> <td>    0.749</td>\n",
       "</tr>\n",
       "<tr>\n",
       "  <th>Specialization_International Business</th>                <td>   -0.1704</td> <td>    0.278</td> <td>   -0.612</td> <td> 0.540</td> <td>   -0.716</td> <td>    0.375</td>\n",
       "</tr>\n",
       "<tr>\n",
       "  <th>Specialization_Marketing Management</th>                  <td>    0.2382</td> <td>    0.157</td> <td>    1.522</td> <td> 0.128</td> <td>   -0.069</td> <td>    0.545</td>\n",
       "</tr>\n",
       "<tr>\n",
       "  <th>Specialization_Media and Advertising</th>                 <td>    0.2856</td> <td>    0.259</td> <td>    1.104</td> <td> 0.269</td> <td>   -0.221</td> <td>    0.793</td>\n",
       "</tr>\n",
       "<tr>\n",
       "  <th>Specialization_Operations Management</th>                 <td>    0.2042</td> <td>    0.187</td> <td>    1.092</td> <td> 0.275</td> <td>   -0.162</td> <td>    0.571</td>\n",
       "</tr>\n",
       "<tr>\n",
       "  <th>Specialization_Other</th>                                 <td>    0.4626</td> <td>    0.285</td> <td>    1.623</td> <td> 0.105</td> <td>   -0.096</td> <td>    1.021</td>\n",
       "</tr>\n",
       "<tr>\n",
       "  <th>Specialization_Retail Management</th>                     <td>   -0.3483</td> <td>    0.347</td> <td>   -1.004</td> <td> 0.315</td> <td>   -1.028</td> <td>    0.332</td>\n",
       "</tr>\n",
       "<tr>\n",
       "  <th>Specialization_Supply Chain Management</th>               <td>    0.2260</td> <td>    0.210</td> <td>    1.075</td> <td> 0.282</td> <td>   -0.186</td> <td>    0.638</td>\n",
       "</tr>\n",
       "<tr>\n",
       "  <th>Specialization_Travel and Tourism</th>                    <td>    0.1932</td> <td>    0.267</td> <td>    0.723</td> <td> 0.470</td> <td>   -0.330</td> <td>    0.717</td>\n",
       "</tr>\n",
       "<tr>\n",
       "  <th>What is your current occupation_Other</th>                <td>    1.8098</td> <td>    0.517</td> <td>    3.498</td> <td> 0.000</td> <td>    0.796</td> <td>    2.824</td>\n",
       "</tr>\n",
       "<tr>\n",
       "  <th>What is your current occupation_Student</th>              <td>    1.0289</td> <td>    0.240</td> <td>    4.289</td> <td> 0.000</td> <td>    0.559</td> <td>    1.499</td>\n",
       "</tr>\n",
       "<tr>\n",
       "  <th>What is your current occupation_Unemployed</th>           <td>    0.9960</td> <td>    0.088</td> <td>   11.318</td> <td> 0.000</td> <td>    0.824</td> <td>    1.168</td>\n",
       "</tr>\n",
       "<tr>\n",
       "  <th>What is your current occupation_Working Professional</th> <td>    3.5250</td> <td>    0.201</td> <td>   17.525</td> <td> 0.000</td> <td>    3.131</td> <td>    3.919</td>\n",
       "</tr>\n",
       "<tr>\n",
       "  <th>City_Not Mentioned</th>                                   <td>   -0.2664</td> <td>    0.142</td> <td>   -1.870</td> <td> 0.062</td> <td>   -0.546</td> <td>    0.013</td>\n",
       "</tr>\n",
       "<tr>\n",
       "  <th>City_Other Cities</th>                                    <td>    0.0529</td> <td>    0.138</td> <td>    0.383</td> <td> 0.702</td> <td>   -0.218</td> <td>    0.324</td>\n",
       "</tr>\n",
       "<tr>\n",
       "  <th>City_Other Cities of Maharashtra</th>                     <td>   -0.0199</td> <td>    0.166</td> <td>   -0.120</td> <td> 0.905</td> <td>   -0.345</td> <td>    0.305</td>\n",
       "</tr>\n",
       "<tr>\n",
       "  <th>City_Other Metro Cities</th>                              <td>    0.0818</td> <td>    0.171</td> <td>    0.479</td> <td> 0.632</td> <td>   -0.253</td> <td>    0.417</td>\n",
       "</tr>\n",
       "<tr>\n",
       "  <th>City_Thane & Outskirts</th>                               <td>   -0.0095</td> <td>    0.132</td> <td>   -0.072</td> <td> 0.942</td> <td>   -0.268</td> <td>    0.249</td>\n",
       "</tr>\n",
       "<tr>\n",
       "  <th>City_Tier II Cities</th>                                  <td>   -0.3832</td> <td>    0.382</td> <td>   -1.004</td> <td> 0.315</td> <td>   -1.131</td> <td>    0.365</td>\n",
       "</tr>\n",
       "<tr>\n",
       "  <th>Last Notable Activity_Email Opened</th>                   <td>    0.4255</td> <td>    0.277</td> <td>    1.538</td> <td> 0.124</td> <td>   -0.117</td> <td>    0.968</td>\n",
       "</tr>\n",
       "<tr>\n",
       "  <th>Last Notable Activity_Modified</th>                       <td>   -0.3091</td> <td>    0.278</td> <td>   -1.114</td> <td> 0.265</td> <td>   -0.853</td> <td>    0.235</td>\n",
       "</tr>\n",
       "<tr>\n",
       "  <th>Last Notable Activity_Olark Chat Conversation</th>        <td>   -0.7944</td> <td>    0.434</td> <td>   -1.830</td> <td> 0.067</td> <td>   -1.645</td> <td>    0.056</td>\n",
       "</tr>\n",
       "<tr>\n",
       "  <th>Last Notable Activity_Other</th>                          <td>    0.6011</td> <td>    0.367</td> <td>    1.639</td> <td> 0.101</td> <td>   -0.118</td> <td>    1.320</td>\n",
       "</tr>\n",
       "<tr>\n",
       "  <th>Last Notable Activity_Page Visited on Website</th>        <td>   -0.2940</td> <td>    0.333</td> <td>   -0.883</td> <td> 0.377</td> <td>   -0.946</td> <td>    0.359</td>\n",
       "</tr>\n",
       "<tr>\n",
       "  <th>Last Notable Activity_SMS Sent</th>                       <td>    1.6699</td> <td>    0.278</td> <td>    5.998</td> <td> 0.000</td> <td>    1.124</td> <td>    2.216</td>\n",
       "</tr>\n",
       "</table>"
      ],
      "text/plain": [
       "<class 'statsmodels.iolib.summary.Summary'>\n",
       "\"\"\"\n",
       "                 Generalized Linear Model Regression Results                  \n",
       "==============================================================================\n",
       "Dep. Variable:              Converted   No. Observations:                 6468\n",
       "Model:                            GLM   Df Residuals:                     6424\n",
       "Model Family:                Binomial   Df Model:                           43\n",
       "Link Function:                  Logit   Scale:                          1.0000\n",
       "Method:                          IRLS   Log-Likelihood:                -2632.9\n",
       "Date:                Fri, 03 Mar 2023   Deviance:                       5265.7\n",
       "Time:                        16:58:09   Pearson chi2:                 6.68e+03\n",
       "No. Iterations:                     7   Pseudo R-squ. (CS):             0.4026\n",
       "Covariance Type:            nonrobust                                         \n",
       "========================================================================================================================\n",
       "                                                           coef    std err          z      P>|z|      [0.025      0.975]\n",
       "------------------------------------------------------------------------------------------------------------------------\n",
       "const                                                   -3.7795      0.386     -9.798      0.000      -4.536      -3.024\n",
       "TotalVisits                                              1.4827      0.221      6.717      0.000       1.050       1.915\n",
       "Total Time Spent on Website                              4.5477      0.168     27.143      0.000       4.219       4.876\n",
       "Page Views Per Visit                                    -1.1692      0.231     -5.053      0.000      -1.623      -0.716\n",
       "Country                                                  0.1403      0.206      0.682      0.495      -0.263       0.544\n",
       "A free copy of Mastering The Interview                  -0.2839      0.108     -2.622      0.009      -0.496      -0.072\n",
       "Lead Origin_Lead Add Form                                3.8361      0.221     17.368      0.000       3.403       4.269\n",
       "Lead Origin_Other                                        0.4277      0.527      0.812      0.417      -0.605       1.460\n",
       "Lead Source_Google                                       0.4054      0.112      3.623      0.000       0.186       0.625\n",
       "Lead Source_Olark Chat                                   1.5988      0.153     10.463      0.000       1.299       1.898\n",
       "Lead Source_Organic Search                               0.2541      0.129      1.964      0.050       0.001       0.508\n",
       "Lead Source_Referral Sites                               0.3273      0.321      1.021      0.307      -0.301       0.956\n",
       "Lead Source_Welingak Website                             2.1386      0.744      2.873      0.004       0.680       3.597\n",
       "Specialization_Business Administration                   0.0753      0.201      0.375      0.707      -0.318       0.468\n",
       "Specialization_E-COMMERCE                                0.4959      0.321      1.543      0.123      -0.134       1.126\n",
       "Specialization_Finance Management                        0.3488      0.160      2.183      0.029       0.036       0.662\n",
       "Specialization_Healthcare Management                     0.3609      0.298      1.213      0.225      -0.222       0.944\n",
       "Specialization_Hospitality Management                   -0.7896      0.344     -2.294      0.022      -1.464      -0.115\n",
       "Specialization_Human Resource Management                 0.1762      0.159      1.108      0.268      -0.136       0.488\n",
       "Specialization_IT Projects Management                    0.3287      0.214      1.535      0.125      -0.091       0.749\n",
       "Specialization_International Business                   -0.1704      0.278     -0.612      0.540      -0.716       0.375\n",
       "Specialization_Marketing Management                      0.2382      0.157      1.522      0.128      -0.069       0.545\n",
       "Specialization_Media and Advertising                     0.2856      0.259      1.104      0.269      -0.221       0.793\n",
       "Specialization_Operations Management                     0.2042      0.187      1.092      0.275      -0.162       0.571\n",
       "Specialization_Other                                     0.4626      0.285      1.623      0.105      -0.096       1.021\n",
       "Specialization_Retail Management                        -0.3483      0.347     -1.004      0.315      -1.028       0.332\n",
       "Specialization_Supply Chain Management                   0.2260      0.210      1.075      0.282      -0.186       0.638\n",
       "Specialization_Travel and Tourism                        0.1932      0.267      0.723      0.470      -0.330       0.717\n",
       "What is your current occupation_Other                    1.8098      0.517      3.498      0.000       0.796       2.824\n",
       "What is your current occupation_Student                  1.0289      0.240      4.289      0.000       0.559       1.499\n",
       "What is your current occupation_Unemployed               0.9960      0.088     11.318      0.000       0.824       1.168\n",
       "What is your current occupation_Working Professional     3.5250      0.201     17.525      0.000       3.131       3.919\n",
       "City_Not Mentioned                                      -0.2664      0.142     -1.870      0.062      -0.546       0.013\n",
       "City_Other Cities                                        0.0529      0.138      0.383      0.702      -0.218       0.324\n",
       "City_Other Cities of Maharashtra                        -0.0199      0.166     -0.120      0.905      -0.345       0.305\n",
       "City_Other Metro Cities                                  0.0818      0.171      0.479      0.632      -0.253       0.417\n",
       "City_Thane & Outskirts                                  -0.0095      0.132     -0.072      0.942      -0.268       0.249\n",
       "City_Tier II Cities                                     -0.3832      0.382     -1.004      0.315      -1.131       0.365\n",
       "Last Notable Activity_Email Opened                       0.4255      0.277      1.538      0.124      -0.117       0.968\n",
       "Last Notable Activity_Modified                          -0.3091      0.278     -1.114      0.265      -0.853       0.235\n",
       "Last Notable Activity_Olark Chat Conversation           -0.7944      0.434     -1.830      0.067      -1.645       0.056\n",
       "Last Notable Activity_Other                              0.6011      0.367      1.639      0.101      -0.118       1.320\n",
       "Last Notable Activity_Page Visited on Website           -0.2940      0.333     -0.883      0.377      -0.946       0.359\n",
       "Last Notable Activity_SMS Sent                           1.6699      0.278      5.998      0.000       1.124       2.216\n",
       "========================================================================================================================\n",
       "\"\"\""
      ]
     },
     "execution_count": 87,
     "metadata": {},
     "output_type": "execute_result"
    }
   ],
   "source": [
    "# building first model\n",
    "logm1 = sm.GLM(y_train,(sm.add_constant(X_train_1)), family = sm.families.Binomial())\n",
    "smdl=logm1.fit()\n",
    "smdl.summary()"
   ]
  },
  {
   "cell_type": "markdown",
   "id": "6338f2d2",
   "metadata": {},
   "source": [
    "### Many of the variabels are having high significance level so reducing the no of features using RFE to 18"
   ]
  },
  {
   "cell_type": "code",
   "execution_count": 88,
   "id": "02f1dd8c",
   "metadata": {},
   "outputs": [],
   "source": [
    "from sklearn.linear_model import LogisticRegression\n",
    "logreg = LogisticRegression()"
   ]
  },
  {
   "cell_type": "code",
   "execution_count": 89,
   "id": "cfd96d02",
   "metadata": {},
   "outputs": [],
   "source": [
    "from sklearn.feature_selection import RFE\n",
    "rfe = RFE(estimator=logreg,n_features_to_select=18)             # running RFE with 13 variables as output\n",
    "rfe = rfe.fit(X_train_1, y_train)"
   ]
  },
  {
   "cell_type": "code",
   "execution_count": 90,
   "id": "0aa9b868",
   "metadata": {},
   "outputs": [
    {
     "data": {
      "text/plain": [
       "array([ True,  True,  True, False,  True,  True, False, False,  True,\n",
       "       False, False,  True, False, False, False, False,  True, False,\n",
       "       False, False, False, False, False, False,  True, False, False,\n",
       "        True,  True,  True,  True,  True, False, False, False, False,\n",
       "       False,  True, False,  True,  True, False,  True])"
      ]
     },
     "execution_count": 90,
     "metadata": {},
     "output_type": "execute_result"
    }
   ],
   "source": [
    "rfe.support_"
   ]
  },
  {
   "cell_type": "code",
   "execution_count": 91,
   "id": "4e4bfa28",
   "metadata": {},
   "outputs": [
    {
     "data": {
      "text/plain": [
       "[('TotalVisits', True, 1),\n",
       " ('Total Time Spent on Website', True, 1),\n",
       " ('Page Views Per Visit', True, 1),\n",
       " ('Country', False, 21),\n",
       " ('A free copy of Mastering The Interview', True, 1),\n",
       " ('Lead Origin_Lead Add Form', True, 1),\n",
       " ('Lead Origin_Other', False, 11),\n",
       " ('Lead Source_Google', False, 6),\n",
       " ('Lead Source_Olark Chat', True, 1),\n",
       " ('Lead Source_Organic Search', False, 10),\n",
       " ('Lead Source_Referral Sites', False, 9),\n",
       " ('Lead Source_Welingak Website', True, 1),\n",
       " ('Specialization_Business Administration', False, 23),\n",
       " ('Specialization_E-COMMERCE', False, 8),\n",
       " ('Specialization_Finance Management', False, 13),\n",
       " ('Specialization_Healthcare Management', False, 12),\n",
       " ('Specialization_Hospitality Management', True, 1),\n",
       " ('Specialization_Human Resource Management', False, 20),\n",
       " ('Specialization_IT Projects Management', False, 14),\n",
       " ('Specialization_International Business', False, 3),\n",
       " ('Specialization_Marketing Management', False, 16),\n",
       " ('Specialization_Media and Advertising', False, 15),\n",
       " ('Specialization_Operations Management', False, 18),\n",
       " ('Specialization_Other', False, 7),\n",
       " ('Specialization_Retail Management', True, 1),\n",
       " ('Specialization_Supply Chain Management', False, 17),\n",
       " ('Specialization_Travel and Tourism', False, 19),\n",
       " ('What is your current occupation_Other', True, 1),\n",
       " ('What is your current occupation_Student', True, 1),\n",
       " ('What is your current occupation_Unemployed', True, 1),\n",
       " ('What is your current occupation_Working Professional', True, 1),\n",
       " ('City_Not Mentioned', True, 1),\n",
       " ('City_Other Cities', False, 24),\n",
       " ('City_Other Cities of Maharashtra', False, 25),\n",
       " ('City_Other Metro Cities', False, 22),\n",
       " ('City_Thane & Outskirts', False, 26),\n",
       " ('City_Tier II Cities', False, 2),\n",
       " ('Last Notable Activity_Email Opened', True, 1),\n",
       " ('Last Notable Activity_Modified', False, 4),\n",
       " ('Last Notable Activity_Olark Chat Conversation', True, 1),\n",
       " ('Last Notable Activity_Other', True, 1),\n",
       " ('Last Notable Activity_Page Visited on Website', False, 5),\n",
       " ('Last Notable Activity_SMS Sent', True, 1)]"
      ]
     },
     "execution_count": 91,
     "metadata": {},
     "output_type": "execute_result"
    }
   ],
   "source": [
    "# RFE Rankings\n",
    "list(zip(X_train_1.columns, rfe.support_, rfe.ranking_))"
   ]
  },
  {
   "cell_type": "code",
   "execution_count": 92,
   "id": "3f52c5de",
   "metadata": {},
   "outputs": [],
   "source": [
    "# Extracting the features selected by RFE to a list \n",
    "col = X_train_1.columns[rfe.support_]"
   ]
  },
  {
   "cell_type": "code",
   "execution_count": 93,
   "id": "11cb0805",
   "metadata": {},
   "outputs": [
    {
     "data": {
      "text/plain": [
       "Index(['Country', 'Lead Origin_Other', 'Lead Source_Google',\n",
       "       'Lead Source_Organic Search', 'Lead Source_Referral Sites',\n",
       "       'Specialization_Business Administration', 'Specialization_E-COMMERCE',\n",
       "       'Specialization_Finance Management',\n",
       "       'Specialization_Healthcare Management',\n",
       "       'Specialization_Human Resource Management',\n",
       "       'Specialization_IT Projects Management',\n",
       "       'Specialization_International Business',\n",
       "       'Specialization_Marketing Management',\n",
       "       'Specialization_Media and Advertising',\n",
       "       'Specialization_Operations Management', 'Specialization_Other',\n",
       "       'Specialization_Supply Chain Management',\n",
       "       'Specialization_Travel and Tourism', 'City_Other Cities',\n",
       "       'City_Other Cities of Maharashtra', 'City_Other Metro Cities',\n",
       "       'City_Thane & Outskirts', 'City_Tier II Cities',\n",
       "       'Last Notable Activity_Modified',\n",
       "       'Last Notable Activity_Page Visited on Website'],\n",
       "      dtype='object')"
      ]
     },
     "execution_count": 93,
     "metadata": {},
     "output_type": "execute_result"
    }
   ],
   "source": [
    "# checking the columns dropped by rfe\n",
    "X_train_1.columns[~rfe.support_]"
   ]
  },
  {
   "cell_type": "code",
   "execution_count": 94,
   "id": "16810130",
   "metadata": {},
   "outputs": [],
   "source": [
    "# Modified training set with fratures selected by RFE\n",
    "X_train_1=X_train[col]"
   ]
  },
  {
   "cell_type": "markdown",
   "id": "ed07f3d4",
   "metadata": {},
   "source": [
    "### Manual Feature Elimination"
   ]
  },
  {
   "cell_type": "code",
   "execution_count": 95,
   "id": "b4c1d50b",
   "metadata": {},
   "outputs": [
    {
     "data": {
      "text/html": [
       "<table class=\"simpletable\">\n",
       "<caption>Generalized Linear Model Regression Results</caption>\n",
       "<tr>\n",
       "  <th>Dep. Variable:</th>       <td>Converted</td>    <th>  No. Observations:  </th>  <td>  6468</td> \n",
       "</tr>\n",
       "<tr>\n",
       "  <th>Model:</th>                  <td>GLM</td>       <th>  Df Residuals:      </th>  <td>  6449</td> \n",
       "</tr>\n",
       "<tr>\n",
       "  <th>Model Family:</th>        <td>Binomial</td>     <th>  Df Model:          </th>  <td>    18</td> \n",
       "</tr>\n",
       "<tr>\n",
       "  <th>Link Function:</th>         <td>Logit</td>      <th>  Scale:             </th> <td>  1.0000</td>\n",
       "</tr>\n",
       "<tr>\n",
       "  <th>Method:</th>                <td>IRLS</td>       <th>  Log-Likelihood:    </th> <td> -2646.6</td>\n",
       "</tr>\n",
       "<tr>\n",
       "  <th>Date:</th>            <td>Fri, 03 Mar 2023</td> <th>  Deviance:          </th> <td>  5293.1</td>\n",
       "</tr>\n",
       "<tr>\n",
       "  <th>Time:</th>                <td>16:58:16</td>     <th>  Pearson chi2:      </th> <td>6.72e+03</td>\n",
       "</tr>\n",
       "<tr>\n",
       "  <th>No. Iterations:</th>          <td>7</td>        <th>  Pseudo R-squ. (CS):</th>  <td>0.4001</td> \n",
       "</tr>\n",
       "<tr>\n",
       "  <th>Covariance Type:</th>     <td>nonrobust</td>    <th>                     </th>     <td> </td>   \n",
       "</tr>\n",
       "</table>\n",
       "<table class=\"simpletable\">\n",
       "<tr>\n",
       "                            <td></td>                              <th>coef</th>     <th>std err</th>      <th>z</th>      <th>P>|z|</th>  <th>[0.025</th>    <th>0.975]</th>  \n",
       "</tr>\n",
       "<tr>\n",
       "  <th>const</th>                                                <td>   -3.4679</td> <td>    0.145</td> <td>  -23.975</td> <td> 0.000</td> <td>   -3.751</td> <td>   -3.184</td>\n",
       "</tr>\n",
       "<tr>\n",
       "  <th>TotalVisits</th>                                          <td>    1.5489</td> <td>    0.207</td> <td>    7.496</td> <td> 0.000</td> <td>    1.144</td> <td>    1.954</td>\n",
       "</tr>\n",
       "<tr>\n",
       "  <th>Total Time Spent on Website</th>                          <td>    4.5554</td> <td>    0.166</td> <td>   27.413</td> <td> 0.000</td> <td>    4.230</td> <td>    4.881</td>\n",
       "</tr>\n",
       "<tr>\n",
       "  <th>Page Views Per Visit</th>                                 <td>   -1.1045</td> <td>    0.223</td> <td>   -4.964</td> <td> 0.000</td> <td>   -1.541</td> <td>   -0.668</td>\n",
       "</tr>\n",
       "<tr>\n",
       "  <th>A free copy of Mastering The Interview</th>               <td>   -0.4766</td> <td>    0.087</td> <td>   -5.465</td> <td> 0.000</td> <td>   -0.648</td> <td>   -0.306</td>\n",
       "</tr>\n",
       "<tr>\n",
       "  <th>Lead Origin_Lead Add Form</th>                            <td>    3.6004</td> <td>    0.205</td> <td>   17.531</td> <td> 0.000</td> <td>    3.198</td> <td>    4.003</td>\n",
       "</tr>\n",
       "<tr>\n",
       "  <th>Lead Source_Olark Chat</th>                               <td>    1.3247</td> <td>    0.131</td> <td>   10.127</td> <td> 0.000</td> <td>    1.068</td> <td>    1.581</td>\n",
       "</tr>\n",
       "<tr>\n",
       "  <th>Lead Source_Welingak Website</th>                         <td>    2.0863</td> <td>    0.744</td> <td>    2.805</td> <td> 0.005</td> <td>    0.629</td> <td>    3.544</td>\n",
       "</tr>\n",
       "<tr>\n",
       "  <th>Specialization_Hospitality Management</th>                <td>   -1.0042</td> <td>    0.326</td> <td>   -3.078</td> <td> 0.002</td> <td>   -1.644</td> <td>   -0.365</td>\n",
       "</tr>\n",
       "<tr>\n",
       "  <th>Specialization_Retail Management</th>                     <td>   -0.5382</td> <td>    0.328</td> <td>   -1.641</td> <td> 0.101</td> <td>   -1.181</td> <td>    0.104</td>\n",
       "</tr>\n",
       "<tr>\n",
       "  <th>What is your current occupation_Other</th>                <td>    1.7907</td> <td>    0.512</td> <td>    3.494</td> <td> 0.000</td> <td>    0.786</td> <td>    2.795</td>\n",
       "</tr>\n",
       "<tr>\n",
       "  <th>What is your current occupation_Student</th>              <td>    0.9805</td> <td>    0.238</td> <td>    4.119</td> <td> 0.000</td> <td>    0.514</td> <td>    1.447</td>\n",
       "</tr>\n",
       "<tr>\n",
       "  <th>What is your current occupation_Unemployed</th>           <td>    1.0021</td> <td>    0.088</td> <td>   11.422</td> <td> 0.000</td> <td>    0.830</td> <td>    1.174</td>\n",
       "</tr>\n",
       "<tr>\n",
       "  <th>What is your current occupation_Working Professional</th> <td>    3.5692</td> <td>    0.198</td> <td>   17.998</td> <td> 0.000</td> <td>    3.180</td> <td>    3.958</td>\n",
       "</tr>\n",
       "<tr>\n",
       "  <th>City_Not Mentioned</th>                                   <td>   -0.4407</td> <td>    0.096</td> <td>   -4.571</td> <td> 0.000</td> <td>   -0.630</td> <td>   -0.252</td>\n",
       "</tr>\n",
       "<tr>\n",
       "  <th>Last Notable Activity_Email Opened</th>                   <td>    0.7202</td> <td>    0.084</td> <td>    8.567</td> <td> 0.000</td> <td>    0.555</td> <td>    0.885</td>\n",
       "</tr>\n",
       "<tr>\n",
       "  <th>Last Notable Activity_Olark Chat Conversation</th>        <td>   -0.4685</td> <td>    0.342</td> <td>   -1.370</td> <td> 0.171</td> <td>   -1.139</td> <td>    0.202</td>\n",
       "</tr>\n",
       "<tr>\n",
       "  <th>Last Notable Activity_Other</th>                          <td>    0.9075</td> <td>    0.253</td> <td>    3.585</td> <td> 0.000</td> <td>    0.411</td> <td>    1.404</td>\n",
       "</tr>\n",
       "<tr>\n",
       "  <th>Last Notable Activity_SMS Sent</th>                       <td>    1.9591</td> <td>    0.091</td> <td>   21.537</td> <td> 0.000</td> <td>    1.781</td> <td>    2.137</td>\n",
       "</tr>\n",
       "</table>"
      ],
      "text/plain": [
       "<class 'statsmodels.iolib.summary.Summary'>\n",
       "\"\"\"\n",
       "                 Generalized Linear Model Regression Results                  \n",
       "==============================================================================\n",
       "Dep. Variable:              Converted   No. Observations:                 6468\n",
       "Model:                            GLM   Df Residuals:                     6449\n",
       "Model Family:                Binomial   Df Model:                           18\n",
       "Link Function:                  Logit   Scale:                          1.0000\n",
       "Method:                          IRLS   Log-Likelihood:                -2646.6\n",
       "Date:                Fri, 03 Mar 2023   Deviance:                       5293.1\n",
       "Time:                        16:58:16   Pearson chi2:                 6.72e+03\n",
       "No. Iterations:                     7   Pseudo R-squ. (CS):             0.4001\n",
       "Covariance Type:            nonrobust                                         \n",
       "========================================================================================================================\n",
       "                                                           coef    std err          z      P>|z|      [0.025      0.975]\n",
       "------------------------------------------------------------------------------------------------------------------------\n",
       "const                                                   -3.4679      0.145    -23.975      0.000      -3.751      -3.184\n",
       "TotalVisits                                              1.5489      0.207      7.496      0.000       1.144       1.954\n",
       "Total Time Spent on Website                              4.5554      0.166     27.413      0.000       4.230       4.881\n",
       "Page Views Per Visit                                    -1.1045      0.223     -4.964      0.000      -1.541      -0.668\n",
       "A free copy of Mastering The Interview                  -0.4766      0.087     -5.465      0.000      -0.648      -0.306\n",
       "Lead Origin_Lead Add Form                                3.6004      0.205     17.531      0.000       3.198       4.003\n",
       "Lead Source_Olark Chat                                   1.3247      0.131     10.127      0.000       1.068       1.581\n",
       "Lead Source_Welingak Website                             2.0863      0.744      2.805      0.005       0.629       3.544\n",
       "Specialization_Hospitality Management                   -1.0042      0.326     -3.078      0.002      -1.644      -0.365\n",
       "Specialization_Retail Management                        -0.5382      0.328     -1.641      0.101      -1.181       0.104\n",
       "What is your current occupation_Other                    1.7907      0.512      3.494      0.000       0.786       2.795\n",
       "What is your current occupation_Student                  0.9805      0.238      4.119      0.000       0.514       1.447\n",
       "What is your current occupation_Unemployed               1.0021      0.088     11.422      0.000       0.830       1.174\n",
       "What is your current occupation_Working Professional     3.5692      0.198     17.998      0.000       3.180       3.958\n",
       "City_Not Mentioned                                      -0.4407      0.096     -4.571      0.000      -0.630      -0.252\n",
       "Last Notable Activity_Email Opened                       0.7202      0.084      8.567      0.000       0.555       0.885\n",
       "Last Notable Activity_Olark Chat Conversation           -0.4685      0.342     -1.370      0.171      -1.139       0.202\n",
       "Last Notable Activity_Other                              0.9075      0.253      3.585      0.000       0.411       1.404\n",
       "Last Notable Activity_SMS Sent                           1.9591      0.091     21.537      0.000       1.781       2.137\n",
       "========================================================================================================================\n",
       "\"\"\""
      ]
     },
     "execution_count": 95,
     "metadata": {},
     "output_type": "execute_result"
    }
   ],
   "source": [
    "X_train_sm = sm.add_constant(X_train_1[col])\n",
    "logm2 = sm.GLM(y_train,X_train_sm, family = sm.families.Binomial())\n",
    "res = logm2.fit()\n",
    "res.summary()"
   ]
  },
  {
   "cell_type": "code",
   "execution_count": 96,
   "id": "d4112613",
   "metadata": {},
   "outputs": [],
   "source": [
    "# Checking Predictions by model\n",
    "y_train_pred = res.predict(X_train_sm)"
   ]
  },
  {
   "cell_type": "code",
   "execution_count": 97,
   "id": "5c359fb2",
   "metadata": {},
   "outputs": [],
   "source": [
    "# Reshaping the predictions from a series\n",
    "y_train_pred = y_train_pred.values.reshape(-1)"
   ]
  },
  {
   "cell_type": "code",
   "execution_count": 98,
   "id": "f209bfc8",
   "metadata": {},
   "outputs": [
    {
     "data": {
      "text/html": [
       "<div>\n",
       "<style scoped>\n",
       "    .dataframe tbody tr th:only-of-type {\n",
       "        vertical-align: middle;\n",
       "    }\n",
       "\n",
       "    .dataframe tbody tr th {\n",
       "        vertical-align: top;\n",
       "    }\n",
       "\n",
       "    .dataframe thead th {\n",
       "        text-align: right;\n",
       "    }\n",
       "</style>\n",
       "<table border=\"1\" class=\"dataframe\">\n",
       "  <thead>\n",
       "    <tr style=\"text-align: right;\">\n",
       "      <th></th>\n",
       "      <th>Converted</th>\n",
       "      <th>Conv_Prob</th>\n",
       "    </tr>\n",
       "    <tr>\n",
       "      <th>Prospect ID</th>\n",
       "      <th></th>\n",
       "      <th></th>\n",
       "    </tr>\n",
       "  </thead>\n",
       "  <tbody>\n",
       "    <tr>\n",
       "      <th>f3af2d98-02db-45d7-bbf6-c641d6b4f4c3</th>\n",
       "      <td>0</td>\n",
       "      <td>0.296997</td>\n",
       "    </tr>\n",
       "    <tr>\n",
       "      <th>207aaf73-a121-41b8-96bb-b0d5c38e7a7b</th>\n",
       "      <td>0</td>\n",
       "      <td>0.279705</td>\n",
       "    </tr>\n",
       "    <tr>\n",
       "      <th>db308a34-ade6-4f0d-9779-586c5be188c7</th>\n",
       "      <td>0</td>\n",
       "      <td>0.401868</td>\n",
       "    </tr>\n",
       "    <tr>\n",
       "      <th>1199b37d-f610-4bb8-bf18-15267dec61fa</th>\n",
       "      <td>0</td>\n",
       "      <td>0.863273</td>\n",
       "    </tr>\n",
       "    <tr>\n",
       "      <th>6b2d3b2f-9990-449c-9333-012b578e39c8</th>\n",
       "      <td>0</td>\n",
       "      <td>0.170535</td>\n",
       "    </tr>\n",
       "  </tbody>\n",
       "</table>\n",
       "</div>"
      ],
      "text/plain": [
       "                                      Converted  Conv_Prob\n",
       "Prospect ID                                               \n",
       "f3af2d98-02db-45d7-bbf6-c641d6b4f4c3          0   0.296997\n",
       "207aaf73-a121-41b8-96bb-b0d5c38e7a7b          0   0.279705\n",
       "db308a34-ade6-4f0d-9779-586c5be188c7          0   0.401868\n",
       "1199b37d-f610-4bb8-bf18-15267dec61fa          0   0.863273\n",
       "6b2d3b2f-9990-449c-9333-012b578e39c8          0   0.170535"
      ]
     },
     "execution_count": 98,
     "metadata": {},
     "output_type": "execute_result"
    }
   ],
   "source": [
    "# Creating a Datarane of Predicted Probabilities and Target variable \n",
    "y_train_pred_final = pd.DataFrame({'Prospect ID':X_train[\"Prospect ID\"],'Converted':y_train.values, 'Conv_Prob':y_train_pred})\n",
    "y_train_pred_final.set_index('Prospect ID',inplace=True)\n",
    "y_train_pred_final.head()"
   ]
  },
  {
   "cell_type": "code",
   "execution_count": 99,
   "id": "d1580e65",
   "metadata": {},
   "outputs": [
    {
     "data": {
      "text/html": [
       "<div>\n",
       "<style scoped>\n",
       "    .dataframe tbody tr th:only-of-type {\n",
       "        vertical-align: middle;\n",
       "    }\n",
       "\n",
       "    .dataframe tbody tr th {\n",
       "        vertical-align: top;\n",
       "    }\n",
       "\n",
       "    .dataframe thead th {\n",
       "        text-align: right;\n",
       "    }\n",
       "</style>\n",
       "<table border=\"1\" class=\"dataframe\">\n",
       "  <thead>\n",
       "    <tr style=\"text-align: right;\">\n",
       "      <th></th>\n",
       "      <th>Converted</th>\n",
       "      <th>Conv_Prob</th>\n",
       "      <th>predicted</th>\n",
       "    </tr>\n",
       "    <tr>\n",
       "      <th>Prospect ID</th>\n",
       "      <th></th>\n",
       "      <th></th>\n",
       "      <th></th>\n",
       "    </tr>\n",
       "  </thead>\n",
       "  <tbody>\n",
       "    <tr>\n",
       "      <th>f3af2d98-02db-45d7-bbf6-c641d6b4f4c3</th>\n",
       "      <td>0</td>\n",
       "      <td>0.296997</td>\n",
       "      <td>0</td>\n",
       "    </tr>\n",
       "    <tr>\n",
       "      <th>207aaf73-a121-41b8-96bb-b0d5c38e7a7b</th>\n",
       "      <td>0</td>\n",
       "      <td>0.279705</td>\n",
       "      <td>0</td>\n",
       "    </tr>\n",
       "    <tr>\n",
       "      <th>db308a34-ade6-4f0d-9779-586c5be188c7</th>\n",
       "      <td>0</td>\n",
       "      <td>0.401868</td>\n",
       "      <td>0</td>\n",
       "    </tr>\n",
       "    <tr>\n",
       "      <th>1199b37d-f610-4bb8-bf18-15267dec61fa</th>\n",
       "      <td>0</td>\n",
       "      <td>0.863273</td>\n",
       "      <td>1</td>\n",
       "    </tr>\n",
       "    <tr>\n",
       "      <th>6b2d3b2f-9990-449c-9333-012b578e39c8</th>\n",
       "      <td>0</td>\n",
       "      <td>0.170535</td>\n",
       "      <td>0</td>\n",
       "    </tr>\n",
       "  </tbody>\n",
       "</table>\n",
       "</div>"
      ],
      "text/plain": [
       "                                      Converted  Conv_Prob  predicted\n",
       "Prospect ID                                                          \n",
       "f3af2d98-02db-45d7-bbf6-c641d6b4f4c3          0   0.296997          0\n",
       "207aaf73-a121-41b8-96bb-b0d5c38e7a7b          0   0.279705          0\n",
       "db308a34-ade6-4f0d-9779-586c5be188c7          0   0.401868          0\n",
       "1199b37d-f610-4bb8-bf18-15267dec61fa          0   0.863273          1\n",
       "6b2d3b2f-9990-449c-9333-012b578e39c8          0   0.170535          0"
      ]
     },
     "execution_count": 99,
     "metadata": {},
     "output_type": "execute_result"
    }
   ],
   "source": [
    "# Setting cutoff at .5\n",
    "y_train_pred_final['predicted'] = y_train_pred_final.Conv_Prob.map(lambda x: 1 if x > 0.5 else 0)\n",
    "\n",
    "# Let's see the head\n",
    "y_train_pred_final.head()"
   ]
  },
  {
   "cell_type": "markdown",
   "id": "5dd319c8",
   "metadata": {},
   "source": [
    "### Model Evaluation"
   ]
  },
  {
   "cell_type": "code",
   "execution_count": 100,
   "id": "f0cb9bd6",
   "metadata": {},
   "outputs": [],
   "source": [
    "from sklearn import metrics"
   ]
  },
  {
   "cell_type": "code",
   "execution_count": 101,
   "id": "db4a97cd",
   "metadata": {},
   "outputs": [
    {
     "name": "stdout",
     "output_type": "stream",
     "text": [
      "[[3550  452]\n",
      " [ 747 1719]]\n"
     ]
    }
   ],
   "source": [
    "confusion = metrics.confusion_matrix(y_train_pred_final.Converted, y_train_pred_final.predicted )\n",
    "print(confusion)"
   ]
  },
  {
   "cell_type": "code",
   "execution_count": 102,
   "id": "2b5d946b",
   "metadata": {},
   "outputs": [
    {
     "name": "stdout",
     "output_type": "stream",
     "text": [
      "0.814625850340136\n"
     ]
    }
   ],
   "source": [
    "# Accuracy of model\n",
    "print(metrics.accuracy_score(y_train_pred_final.Converted, y_train_pred_final.predicted))"
   ]
  },
  {
   "cell_type": "code",
   "execution_count": 103,
   "id": "4eca348d",
   "metadata": {},
   "outputs": [],
   "source": [
    "# Check for the VIF values of the feature variables. \n",
    "from statsmodels.stats.outliers_influence import variance_inflation_factor"
   ]
  },
  {
   "cell_type": "code",
   "execution_count": 104,
   "id": "f962ef85",
   "metadata": {},
   "outputs": [
    {
     "data": {
      "text/html": [
       "<div>\n",
       "<style scoped>\n",
       "    .dataframe tbody tr th:only-of-type {\n",
       "        vertical-align: middle;\n",
       "    }\n",
       "\n",
       "    .dataframe tbody tr th {\n",
       "        vertical-align: top;\n",
       "    }\n",
       "\n",
       "    .dataframe thead th {\n",
       "        text-align: right;\n",
       "    }\n",
       "</style>\n",
       "<table border=\"1\" class=\"dataframe\">\n",
       "  <thead>\n",
       "    <tr style=\"text-align: right;\">\n",
       "      <th></th>\n",
       "      <th>Features</th>\n",
       "      <th>VIF</th>\n",
       "    </tr>\n",
       "  </thead>\n",
       "  <tbody>\n",
       "    <tr>\n",
       "      <th>2</th>\n",
       "      <td>Page Views Per Visit</td>\n",
       "      <td>5.72</td>\n",
       "    </tr>\n",
       "    <tr>\n",
       "      <th>0</th>\n",
       "      <td>TotalVisits</td>\n",
       "      <td>4.84</td>\n",
       "    </tr>\n",
       "    <tr>\n",
       "      <th>11</th>\n",
       "      <td>What is your current occupation_Unemployed</td>\n",
       "      <td>2.90</td>\n",
       "    </tr>\n",
       "    <tr>\n",
       "      <th>13</th>\n",
       "      <td>City_Not Mentioned</td>\n",
       "      <td>2.40</td>\n",
       "    </tr>\n",
       "    <tr>\n",
       "      <th>1</th>\n",
       "      <td>Total Time Spent on Website</td>\n",
       "      <td>2.11</td>\n",
       "    </tr>\n",
       "    <tr>\n",
       "      <th>5</th>\n",
       "      <td>Lead Source_Olark Chat</td>\n",
       "      <td>2.03</td>\n",
       "    </tr>\n",
       "    <tr>\n",
       "      <th>3</th>\n",
       "      <td>A free copy of Mastering The Interview</td>\n",
       "      <td>1.83</td>\n",
       "    </tr>\n",
       "    <tr>\n",
       "      <th>17</th>\n",
       "      <td>Last Notable Activity_SMS Sent</td>\n",
       "      <td>1.70</td>\n",
       "    </tr>\n",
       "    <tr>\n",
       "      <th>4</th>\n",
       "      <td>Lead Origin_Lead Add Form</td>\n",
       "      <td>1.70</td>\n",
       "    </tr>\n",
       "    <tr>\n",
       "      <th>14</th>\n",
       "      <td>Last Notable Activity_Email Opened</td>\n",
       "      <td>1.69</td>\n",
       "    </tr>\n",
       "    <tr>\n",
       "      <th>12</th>\n",
       "      <td>What is your current occupation_Working Profes...</td>\n",
       "      <td>1.41</td>\n",
       "    </tr>\n",
       "    <tr>\n",
       "      <th>6</th>\n",
       "      <td>Lead Source_Welingak Website</td>\n",
       "      <td>1.24</td>\n",
       "    </tr>\n",
       "    <tr>\n",
       "      <th>15</th>\n",
       "      <td>Last Notable Activity_Olark Chat Conversation</td>\n",
       "      <td>1.07</td>\n",
       "    </tr>\n",
       "    <tr>\n",
       "      <th>10</th>\n",
       "      <td>What is your current occupation_Student</td>\n",
       "      <td>1.06</td>\n",
       "    </tr>\n",
       "    <tr>\n",
       "      <th>16</th>\n",
       "      <td>Last Notable Activity_Other</td>\n",
       "      <td>1.04</td>\n",
       "    </tr>\n",
       "    <tr>\n",
       "      <th>8</th>\n",
       "      <td>Specialization_Retail Management</td>\n",
       "      <td>1.02</td>\n",
       "    </tr>\n",
       "    <tr>\n",
       "      <th>7</th>\n",
       "      <td>Specialization_Hospitality Management</td>\n",
       "      <td>1.02</td>\n",
       "    </tr>\n",
       "    <tr>\n",
       "      <th>9</th>\n",
       "      <td>What is your current occupation_Other</td>\n",
       "      <td>1.02</td>\n",
       "    </tr>\n",
       "  </tbody>\n",
       "</table>\n",
       "</div>"
      ],
      "text/plain": [
       "                                             Features   VIF\n",
       "2                                Page Views Per Visit  5.72\n",
       "0                                         TotalVisits  4.84\n",
       "11         What is your current occupation_Unemployed  2.90\n",
       "13                                 City_Not Mentioned  2.40\n",
       "1                         Total Time Spent on Website  2.11\n",
       "5                              Lead Source_Olark Chat  2.03\n",
       "3              A free copy of Mastering The Interview  1.83\n",
       "17                     Last Notable Activity_SMS Sent  1.70\n",
       "4                           Lead Origin_Lead Add Form  1.70\n",
       "14                 Last Notable Activity_Email Opened  1.69\n",
       "12  What is your current occupation_Working Profes...  1.41\n",
       "6                        Lead Source_Welingak Website  1.24\n",
       "15      Last Notable Activity_Olark Chat Conversation  1.07\n",
       "10            What is your current occupation_Student  1.06\n",
       "16                        Last Notable Activity_Other  1.04\n",
       "8                    Specialization_Retail Management  1.02\n",
       "7               Specialization_Hospitality Management  1.02\n",
       "9               What is your current occupation_Other  1.02"
      ]
     },
     "execution_count": 104,
     "metadata": {},
     "output_type": "execute_result"
    }
   ],
   "source": [
    "# Create a dataframe that will contain the names of all the feature variables and their respective VIFs\n",
    "vif = pd.DataFrame()\n",
    "vif['Features'] = X_train_1[col].columns\n",
    "vif['VIF'] = [variance_inflation_factor(X_train_1[col].values, i) for i in range(X_train_1[col].shape[1])]\n",
    "vif['VIF'] = round(vif['VIF'], 2)\n",
    "vif = vif.sort_values(by = \"VIF\", ascending = False)\n",
    "vif"
   ]
  },
  {
   "cell_type": "code",
   "execution_count": 105,
   "id": "45399e4e",
   "metadata": {},
   "outputs": [
    {
     "data": {
      "text/html": [
       "<table class=\"simpletable\">\n",
       "<caption>Generalized Linear Model Regression Results</caption>\n",
       "<tr>\n",
       "  <th>Dep. Variable:</th>       <td>Converted</td>    <th>  No. Observations:  </th>  <td>  6468</td> \n",
       "</tr>\n",
       "<tr>\n",
       "  <th>Model:</th>                  <td>GLM</td>       <th>  Df Residuals:      </th>  <td>  6449</td> \n",
       "</tr>\n",
       "<tr>\n",
       "  <th>Model Family:</th>        <td>Binomial</td>     <th>  Df Model:          </th>  <td>    18</td> \n",
       "</tr>\n",
       "<tr>\n",
       "  <th>Link Function:</th>         <td>Logit</td>      <th>  Scale:             </th> <td>  1.0000</td>\n",
       "</tr>\n",
       "<tr>\n",
       "  <th>Method:</th>                <td>IRLS</td>       <th>  Log-Likelihood:    </th> <td> -2646.6</td>\n",
       "</tr>\n",
       "<tr>\n",
       "  <th>Date:</th>            <td>Fri, 03 Mar 2023</td> <th>  Deviance:          </th> <td>  5293.1</td>\n",
       "</tr>\n",
       "<tr>\n",
       "  <th>Time:</th>                <td>16:58:18</td>     <th>  Pearson chi2:      </th> <td>6.72e+03</td>\n",
       "</tr>\n",
       "<tr>\n",
       "  <th>No. Iterations:</th>          <td>7</td>        <th>  Pseudo R-squ. (CS):</th>  <td>0.4001</td> \n",
       "</tr>\n",
       "<tr>\n",
       "  <th>Covariance Type:</th>     <td>nonrobust</td>    <th>                     </th>     <td> </td>   \n",
       "</tr>\n",
       "</table>\n",
       "<table class=\"simpletable\">\n",
       "<tr>\n",
       "                            <td></td>                              <th>coef</th>     <th>std err</th>      <th>z</th>      <th>P>|z|</th>  <th>[0.025</th>    <th>0.975]</th>  \n",
       "</tr>\n",
       "<tr>\n",
       "  <th>const</th>                                                <td>   -3.4679</td> <td>    0.145</td> <td>  -23.975</td> <td> 0.000</td> <td>   -3.751</td> <td>   -3.184</td>\n",
       "</tr>\n",
       "<tr>\n",
       "  <th>TotalVisits</th>                                          <td>    1.5489</td> <td>    0.207</td> <td>    7.496</td> <td> 0.000</td> <td>    1.144</td> <td>    1.954</td>\n",
       "</tr>\n",
       "<tr>\n",
       "  <th>Total Time Spent on Website</th>                          <td>    4.5554</td> <td>    0.166</td> <td>   27.413</td> <td> 0.000</td> <td>    4.230</td> <td>    4.881</td>\n",
       "</tr>\n",
       "<tr>\n",
       "  <th>Page Views Per Visit</th>                                 <td>   -1.1045</td> <td>    0.223</td> <td>   -4.964</td> <td> 0.000</td> <td>   -1.541</td> <td>   -0.668</td>\n",
       "</tr>\n",
       "<tr>\n",
       "  <th>A free copy of Mastering The Interview</th>               <td>   -0.4766</td> <td>    0.087</td> <td>   -5.465</td> <td> 0.000</td> <td>   -0.648</td> <td>   -0.306</td>\n",
       "</tr>\n",
       "<tr>\n",
       "  <th>Lead Origin_Lead Add Form</th>                            <td>    3.6004</td> <td>    0.205</td> <td>   17.531</td> <td> 0.000</td> <td>    3.198</td> <td>    4.003</td>\n",
       "</tr>\n",
       "<tr>\n",
       "  <th>Lead Source_Olark Chat</th>                               <td>    1.3247</td> <td>    0.131</td> <td>   10.127</td> <td> 0.000</td> <td>    1.068</td> <td>    1.581</td>\n",
       "</tr>\n",
       "<tr>\n",
       "  <th>Lead Source_Welingak Website</th>                         <td>    2.0863</td> <td>    0.744</td> <td>    2.805</td> <td> 0.005</td> <td>    0.629</td> <td>    3.544</td>\n",
       "</tr>\n",
       "<tr>\n",
       "  <th>Specialization_Hospitality Management</th>                <td>   -1.0042</td> <td>    0.326</td> <td>   -3.078</td> <td> 0.002</td> <td>   -1.644</td> <td>   -0.365</td>\n",
       "</tr>\n",
       "<tr>\n",
       "  <th>Specialization_Retail Management</th>                     <td>   -0.5382</td> <td>    0.328</td> <td>   -1.641</td> <td> 0.101</td> <td>   -1.181</td> <td>    0.104</td>\n",
       "</tr>\n",
       "<tr>\n",
       "  <th>What is your current occupation_Other</th>                <td>    1.7907</td> <td>    0.512</td> <td>    3.494</td> <td> 0.000</td> <td>    0.786</td> <td>    2.795</td>\n",
       "</tr>\n",
       "<tr>\n",
       "  <th>What is your current occupation_Student</th>              <td>    0.9805</td> <td>    0.238</td> <td>    4.119</td> <td> 0.000</td> <td>    0.514</td> <td>    1.447</td>\n",
       "</tr>\n",
       "<tr>\n",
       "  <th>What is your current occupation_Unemployed</th>           <td>    1.0021</td> <td>    0.088</td> <td>   11.422</td> <td> 0.000</td> <td>    0.830</td> <td>    1.174</td>\n",
       "</tr>\n",
       "<tr>\n",
       "  <th>What is your current occupation_Working Professional</th> <td>    3.5692</td> <td>    0.198</td> <td>   17.998</td> <td> 0.000</td> <td>    3.180</td> <td>    3.958</td>\n",
       "</tr>\n",
       "<tr>\n",
       "  <th>City_Not Mentioned</th>                                   <td>   -0.4407</td> <td>    0.096</td> <td>   -4.571</td> <td> 0.000</td> <td>   -0.630</td> <td>   -0.252</td>\n",
       "</tr>\n",
       "<tr>\n",
       "  <th>Last Notable Activity_Email Opened</th>                   <td>    0.7202</td> <td>    0.084</td> <td>    8.567</td> <td> 0.000</td> <td>    0.555</td> <td>    0.885</td>\n",
       "</tr>\n",
       "<tr>\n",
       "  <th>Last Notable Activity_Olark Chat Conversation</th>        <td>   -0.4685</td> <td>    0.342</td> <td>   -1.370</td> <td> 0.171</td> <td>   -1.139</td> <td>    0.202</td>\n",
       "</tr>\n",
       "<tr>\n",
       "  <th>Last Notable Activity_Other</th>                          <td>    0.9075</td> <td>    0.253</td> <td>    3.585</td> <td> 0.000</td> <td>    0.411</td> <td>    1.404</td>\n",
       "</tr>\n",
       "<tr>\n",
       "  <th>Last Notable Activity_SMS Sent</th>                       <td>    1.9591</td> <td>    0.091</td> <td>   21.537</td> <td> 0.000</td> <td>    1.781</td> <td>    2.137</td>\n",
       "</tr>\n",
       "</table>"
      ],
      "text/plain": [
       "<class 'statsmodels.iolib.summary.Summary'>\n",
       "\"\"\"\n",
       "                 Generalized Linear Model Regression Results                  \n",
       "==============================================================================\n",
       "Dep. Variable:              Converted   No. Observations:                 6468\n",
       "Model:                            GLM   Df Residuals:                     6449\n",
       "Model Family:                Binomial   Df Model:                           18\n",
       "Link Function:                  Logit   Scale:                          1.0000\n",
       "Method:                          IRLS   Log-Likelihood:                -2646.6\n",
       "Date:                Fri, 03 Mar 2023   Deviance:                       5293.1\n",
       "Time:                        16:58:18   Pearson chi2:                 6.72e+03\n",
       "No. Iterations:                     7   Pseudo R-squ. (CS):             0.4001\n",
       "Covariance Type:            nonrobust                                         \n",
       "========================================================================================================================\n",
       "                                                           coef    std err          z      P>|z|      [0.025      0.975]\n",
       "------------------------------------------------------------------------------------------------------------------------\n",
       "const                                                   -3.4679      0.145    -23.975      0.000      -3.751      -3.184\n",
       "TotalVisits                                              1.5489      0.207      7.496      0.000       1.144       1.954\n",
       "Total Time Spent on Website                              4.5554      0.166     27.413      0.000       4.230       4.881\n",
       "Page Views Per Visit                                    -1.1045      0.223     -4.964      0.000      -1.541      -0.668\n",
       "A free copy of Mastering The Interview                  -0.4766      0.087     -5.465      0.000      -0.648      -0.306\n",
       "Lead Origin_Lead Add Form                                3.6004      0.205     17.531      0.000       3.198       4.003\n",
       "Lead Source_Olark Chat                                   1.3247      0.131     10.127      0.000       1.068       1.581\n",
       "Lead Source_Welingak Website                             2.0863      0.744      2.805      0.005       0.629       3.544\n",
       "Specialization_Hospitality Management                   -1.0042      0.326     -3.078      0.002      -1.644      -0.365\n",
       "Specialization_Retail Management                        -0.5382      0.328     -1.641      0.101      -1.181       0.104\n",
       "What is your current occupation_Other                    1.7907      0.512      3.494      0.000       0.786       2.795\n",
       "What is your current occupation_Student                  0.9805      0.238      4.119      0.000       0.514       1.447\n",
       "What is your current occupation_Unemployed               1.0021      0.088     11.422      0.000       0.830       1.174\n",
       "What is your current occupation_Working Professional     3.5692      0.198     17.998      0.000       3.180       3.958\n",
       "City_Not Mentioned                                      -0.4407      0.096     -4.571      0.000      -0.630      -0.252\n",
       "Last Notable Activity_Email Opened                       0.7202      0.084      8.567      0.000       0.555       0.885\n",
       "Last Notable Activity_Olark Chat Conversation           -0.4685      0.342     -1.370      0.171      -1.139       0.202\n",
       "Last Notable Activity_Other                              0.9075      0.253      3.585      0.000       0.411       1.404\n",
       "Last Notable Activity_SMS Sent                           1.9591      0.091     21.537      0.000       1.781       2.137\n",
       "========================================================================================================================\n",
       "\"\"\""
      ]
     },
     "execution_count": 105,
     "metadata": {},
     "output_type": "execute_result"
    }
   ],
   "source": [
    "# Chechk the model\n",
    "X_train_sm = sm.add_constant(X_train_1[col])\n",
    "logm2 = sm.GLM(y_train,X_train_sm, family = sm.families.Binomial())\n",
    "res = logm2.fit()\n",
    "res.summary()"
   ]
  },
  {
   "cell_type": "code",
   "execution_count": 106,
   "id": "c125af37",
   "metadata": {},
   "outputs": [],
   "source": [
    "# Significance level for 'Last Notable Activity_Olark Chat Conversation' is 17% whereas max VIF is 5.7 \n",
    "# drop 'Last Notable Activity_Olark Chat Conversation'\n",
    "col = col.drop('Last Notable Activity_Olark Chat Conversation')"
   ]
  },
  {
   "cell_type": "code",
   "execution_count": 107,
   "id": "9d866f87",
   "metadata": {
    "scrolled": true
   },
   "outputs": [
    {
     "data": {
      "text/html": [
       "<table class=\"simpletable\">\n",
       "<caption>Generalized Linear Model Regression Results</caption>\n",
       "<tr>\n",
       "  <th>Dep. Variable:</th>       <td>Converted</td>    <th>  No. Observations:  </th>  <td>  6468</td> \n",
       "</tr>\n",
       "<tr>\n",
       "  <th>Model:</th>                  <td>GLM</td>       <th>  Df Residuals:      </th>  <td>  6450</td> \n",
       "</tr>\n",
       "<tr>\n",
       "  <th>Model Family:</th>        <td>Binomial</td>     <th>  Df Model:          </th>  <td>    17</td> \n",
       "</tr>\n",
       "<tr>\n",
       "  <th>Link Function:</th>         <td>Logit</td>      <th>  Scale:             </th> <td>  1.0000</td>\n",
       "</tr>\n",
       "<tr>\n",
       "  <th>Method:</th>                <td>IRLS</td>       <th>  Log-Likelihood:    </th> <td> -2647.6</td>\n",
       "</tr>\n",
       "<tr>\n",
       "  <th>Date:</th>            <td>Fri, 03 Mar 2023</td> <th>  Deviance:          </th> <td>  5295.2</td>\n",
       "</tr>\n",
       "<tr>\n",
       "  <th>Time:</th>                <td>16:58:19</td>     <th>  Pearson chi2:      </th> <td>6.73e+03</td>\n",
       "</tr>\n",
       "<tr>\n",
       "  <th>No. Iterations:</th>          <td>7</td>        <th>  Pseudo R-squ. (CS):</th>  <td>0.3999</td> \n",
       "</tr>\n",
       "<tr>\n",
       "  <th>Covariance Type:</th>     <td>nonrobust</td>    <th>                     </th>     <td> </td>   \n",
       "</tr>\n",
       "</table>\n",
       "<table class=\"simpletable\">\n",
       "<tr>\n",
       "                            <td></td>                              <th>coef</th>     <th>std err</th>      <th>z</th>      <th>P>|z|</th>  <th>[0.025</th>    <th>0.975]</th>  \n",
       "</tr>\n",
       "<tr>\n",
       "  <th>const</th>                                                <td>   -3.4775</td> <td>    0.145</td> <td>  -24.052</td> <td> 0.000</td> <td>   -3.761</td> <td>   -3.194</td>\n",
       "</tr>\n",
       "<tr>\n",
       "  <th>TotalVisits</th>                                          <td>    1.5373</td> <td>    0.207</td> <td>    7.443</td> <td> 0.000</td> <td>    1.132</td> <td>    1.942</td>\n",
       "</tr>\n",
       "<tr>\n",
       "  <th>Total Time Spent on Website</th>                          <td>    4.5513</td> <td>    0.166</td> <td>   27.388</td> <td> 0.000</td> <td>    4.226</td> <td>    4.877</td>\n",
       "</tr>\n",
       "<tr>\n",
       "  <th>Page Views Per Visit</th>                                 <td>   -1.1019</td> <td>    0.223</td> <td>   -4.952</td> <td> 0.000</td> <td>   -1.538</td> <td>   -0.666</td>\n",
       "</tr>\n",
       "<tr>\n",
       "  <th>A free copy of Mastering The Interview</th>               <td>   -0.4788</td> <td>    0.087</td> <td>   -5.490</td> <td> 0.000</td> <td>   -0.650</td> <td>   -0.308</td>\n",
       "</tr>\n",
       "<tr>\n",
       "  <th>Lead Origin_Lead Add Form</th>                            <td>    3.6003</td> <td>    0.206</td> <td>   17.519</td> <td> 0.000</td> <td>    3.197</td> <td>    4.003</td>\n",
       "</tr>\n",
       "<tr>\n",
       "  <th>Lead Source_Olark Chat</th>                               <td>    1.3087</td> <td>    0.130</td> <td>   10.038</td> <td> 0.000</td> <td>    1.053</td> <td>    1.564</td>\n",
       "</tr>\n",
       "<tr>\n",
       "  <th>Lead Source_Welingak Website</th>                         <td>    2.0898</td> <td>    0.744</td> <td>    2.810</td> <td> 0.005</td> <td>    0.632</td> <td>    3.548</td>\n",
       "</tr>\n",
       "<tr>\n",
       "  <th>Specialization_Hospitality Management</th>                <td>   -1.0025</td> <td>    0.326</td> <td>   -3.071</td> <td> 0.002</td> <td>   -1.642</td> <td>   -0.363</td>\n",
       "</tr>\n",
       "<tr>\n",
       "  <th>Specialization_Retail Management</th>                     <td>   -0.5352</td> <td>    0.328</td> <td>   -1.632</td> <td> 0.103</td> <td>   -1.178</td> <td>    0.108</td>\n",
       "</tr>\n",
       "<tr>\n",
       "  <th>What is your current occupation_Other</th>                <td>    1.8019</td> <td>    0.513</td> <td>    3.514</td> <td> 0.000</td> <td>    0.797</td> <td>    2.807</td>\n",
       "</tr>\n",
       "<tr>\n",
       "  <th>What is your current occupation_Student</th>              <td>    0.9843</td> <td>    0.238</td> <td>    4.138</td> <td> 0.000</td> <td>    0.518</td> <td>    1.451</td>\n",
       "</tr>\n",
       "<tr>\n",
       "  <th>What is your current occupation_Unemployed</th>           <td>    1.0062</td> <td>    0.088</td> <td>   11.473</td> <td> 0.000</td> <td>    0.834</td> <td>    1.178</td>\n",
       "</tr>\n",
       "<tr>\n",
       "  <th>What is your current occupation_Working Professional</th> <td>    3.5746</td> <td>    0.198</td> <td>   18.020</td> <td> 0.000</td> <td>    3.186</td> <td>    3.963</td>\n",
       "</tr>\n",
       "<tr>\n",
       "  <th>City_Not Mentioned</th>                                   <td>   -0.4448</td> <td>    0.096</td> <td>   -4.615</td> <td> 0.000</td> <td>   -0.634</td> <td>   -0.256</td>\n",
       "</tr>\n",
       "<tr>\n",
       "  <th>Last Notable Activity_Email Opened</th>                   <td>    0.7351</td> <td>    0.084</td> <td>    8.800</td> <td> 0.000</td> <td>    0.571</td> <td>    0.899</td>\n",
       "</tr>\n",
       "<tr>\n",
       "  <th>Last Notable Activity_Other</th>                          <td>    0.9216</td> <td>    0.253</td> <td>    3.643</td> <td> 0.000</td> <td>    0.426</td> <td>    1.417</td>\n",
       "</tr>\n",
       "<tr>\n",
       "  <th>Last Notable Activity_SMS Sent</th>                       <td>    1.9732</td> <td>    0.091</td> <td>   21.800</td> <td> 0.000</td> <td>    1.796</td> <td>    2.151</td>\n",
       "</tr>\n",
       "</table>"
      ],
      "text/plain": [
       "<class 'statsmodels.iolib.summary.Summary'>\n",
       "\"\"\"\n",
       "                 Generalized Linear Model Regression Results                  \n",
       "==============================================================================\n",
       "Dep. Variable:              Converted   No. Observations:                 6468\n",
       "Model:                            GLM   Df Residuals:                     6450\n",
       "Model Family:                Binomial   Df Model:                           17\n",
       "Link Function:                  Logit   Scale:                          1.0000\n",
       "Method:                          IRLS   Log-Likelihood:                -2647.6\n",
       "Date:                Fri, 03 Mar 2023   Deviance:                       5295.2\n",
       "Time:                        16:58:19   Pearson chi2:                 6.73e+03\n",
       "No. Iterations:                     7   Pseudo R-squ. (CS):             0.3999\n",
       "Covariance Type:            nonrobust                                         \n",
       "========================================================================================================================\n",
       "                                                           coef    std err          z      P>|z|      [0.025      0.975]\n",
       "------------------------------------------------------------------------------------------------------------------------\n",
       "const                                                   -3.4775      0.145    -24.052      0.000      -3.761      -3.194\n",
       "TotalVisits                                              1.5373      0.207      7.443      0.000       1.132       1.942\n",
       "Total Time Spent on Website                              4.5513      0.166     27.388      0.000       4.226       4.877\n",
       "Page Views Per Visit                                    -1.1019      0.223     -4.952      0.000      -1.538      -0.666\n",
       "A free copy of Mastering The Interview                  -0.4788      0.087     -5.490      0.000      -0.650      -0.308\n",
       "Lead Origin_Lead Add Form                                3.6003      0.206     17.519      0.000       3.197       4.003\n",
       "Lead Source_Olark Chat                                   1.3087      0.130     10.038      0.000       1.053       1.564\n",
       "Lead Source_Welingak Website                             2.0898      0.744      2.810      0.005       0.632       3.548\n",
       "Specialization_Hospitality Management                   -1.0025      0.326     -3.071      0.002      -1.642      -0.363\n",
       "Specialization_Retail Management                        -0.5352      0.328     -1.632      0.103      -1.178       0.108\n",
       "What is your current occupation_Other                    1.8019      0.513      3.514      0.000       0.797       2.807\n",
       "What is your current occupation_Student                  0.9843      0.238      4.138      0.000       0.518       1.451\n",
       "What is your current occupation_Unemployed               1.0062      0.088     11.473      0.000       0.834       1.178\n",
       "What is your current occupation_Working Professional     3.5746      0.198     18.020      0.000       3.186       3.963\n",
       "City_Not Mentioned                                      -0.4448      0.096     -4.615      0.000      -0.634      -0.256\n",
       "Last Notable Activity_Email Opened                       0.7351      0.084      8.800      0.000       0.571       0.899\n",
       "Last Notable Activity_Other                              0.9216      0.253      3.643      0.000       0.426       1.417\n",
       "Last Notable Activity_SMS Sent                           1.9732      0.091     21.800      0.000       1.796       2.151\n",
       "========================================================================================================================\n",
       "\"\"\""
      ]
     },
     "execution_count": 107,
     "metadata": {},
     "output_type": "execute_result"
    }
   ],
   "source": [
    "# Check the model\n",
    "X_train_sm = sm.add_constant(X_train_1[col])\n",
    "logm2 = sm.GLM(y_train,X_train_sm, family = sm.families.Binomial())\n",
    "res = logm2.fit()\n",
    "res.summary()\n"
   ]
  },
  {
   "cell_type": "code",
   "execution_count": 108,
   "id": "36f3d423",
   "metadata": {},
   "outputs": [
    {
     "data": {
      "text/html": [
       "<div>\n",
       "<style scoped>\n",
       "    .dataframe tbody tr th:only-of-type {\n",
       "        vertical-align: middle;\n",
       "    }\n",
       "\n",
       "    .dataframe tbody tr th {\n",
       "        vertical-align: top;\n",
       "    }\n",
       "\n",
       "    .dataframe thead th {\n",
       "        text-align: right;\n",
       "    }\n",
       "</style>\n",
       "<table border=\"1\" class=\"dataframe\">\n",
       "  <thead>\n",
       "    <tr style=\"text-align: right;\">\n",
       "      <th></th>\n",
       "      <th>Converted</th>\n",
       "      <th>Conv_Prob</th>\n",
       "    </tr>\n",
       "    <tr>\n",
       "      <th>Prospect ID</th>\n",
       "      <th></th>\n",
       "      <th></th>\n",
       "    </tr>\n",
       "  </thead>\n",
       "  <tbody>\n",
       "    <tr>\n",
       "      <th>f3af2d98-02db-45d7-bbf6-c641d6b4f4c3</th>\n",
       "      <td>0</td>\n",
       "      <td>0.294745</td>\n",
       "    </tr>\n",
       "    <tr>\n",
       "      <th>207aaf73-a121-41b8-96bb-b0d5c38e7a7b</th>\n",
       "      <td>0</td>\n",
       "      <td>0.280298</td>\n",
       "    </tr>\n",
       "    <tr>\n",
       "      <th>db308a34-ade6-4f0d-9779-586c5be188c7</th>\n",
       "      <td>0</td>\n",
       "      <td>0.398313</td>\n",
       "    </tr>\n",
       "    <tr>\n",
       "      <th>1199b37d-f610-4bb8-bf18-15267dec61fa</th>\n",
       "      <td>0</td>\n",
       "      <td>0.863671</td>\n",
       "    </tr>\n",
       "    <tr>\n",
       "      <th>6b2d3b2f-9990-449c-9333-012b578e39c8</th>\n",
       "      <td>0</td>\n",
       "      <td>0.166934</td>\n",
       "    </tr>\n",
       "  </tbody>\n",
       "</table>\n",
       "</div>"
      ],
      "text/plain": [
       "                                      Converted  Conv_Prob\n",
       "Prospect ID                                               \n",
       "f3af2d98-02db-45d7-bbf6-c641d6b4f4c3          0   0.294745\n",
       "207aaf73-a121-41b8-96bb-b0d5c38e7a7b          0   0.280298\n",
       "db308a34-ade6-4f0d-9779-586c5be188c7          0   0.398313\n",
       "1199b37d-f610-4bb8-bf18-15267dec61fa          0   0.863671\n",
       "6b2d3b2f-9990-449c-9333-012b578e39c8          0   0.166934"
      ]
     },
     "execution_count": 108,
     "metadata": {},
     "output_type": "execute_result"
    }
   ],
   "source": [
    "# Creating a Datarane of Predicted Probabilities and Target variable \n",
    "y_train_pred = res.predict(X_train_sm)\n",
    "y_train_pred = y_train_pred.values.reshape(-1)\n",
    "y_train_pred_final = pd.DataFrame({'Prospect ID':X_train[\"Prospect ID\"],'Converted':y_train.values, 'Conv_Prob':y_train_pred})\n",
    "y_train_pred_final.set_index('Prospect ID',inplace=True)\n",
    "y_train_pred_final.head()"
   ]
  },
  {
   "cell_type": "code",
   "execution_count": 109,
   "id": "812f0d98",
   "metadata": {},
   "outputs": [],
   "source": [
    "# Setting cutoff at .5\n",
    "y_train_pred_final['predicted'] = y_train_pred_final.Conv_Prob.map(lambda x: 1 if x > 0.5 else 0)"
   ]
  },
  {
   "cell_type": "code",
   "execution_count": 110,
   "id": "5229aa01",
   "metadata": {},
   "outputs": [
    {
     "name": "stdout",
     "output_type": "stream",
     "text": [
      "[[3551  451]\n",
      " [ 746 1720]]\n"
     ]
    }
   ],
   "source": [
    "confusion = metrics.confusion_matrix(y_train_pred_final.Converted, y_train_pred_final.predicted )\n",
    "print(confusion)"
   ]
  },
  {
   "cell_type": "code",
   "execution_count": 111,
   "id": "aede5fef",
   "metadata": {},
   "outputs": [
    {
     "name": "stdout",
     "output_type": "stream",
     "text": [
      "0.814935064935065\n"
     ]
    }
   ],
   "source": [
    "print(metrics.accuracy_score(y_train_pred_final.Converted, y_train_pred_final.predicted))"
   ]
  },
  {
   "cell_type": "markdown",
   "id": "0c7c9e9f",
   "metadata": {},
   "source": [
    "Acuracy not affected by dropping the variable"
   ]
  },
  {
   "cell_type": "code",
   "execution_count": 112,
   "id": "27045b56",
   "metadata": {},
   "outputs": [
    {
     "data": {
      "text/html": [
       "<div>\n",
       "<style scoped>\n",
       "    .dataframe tbody tr th:only-of-type {\n",
       "        vertical-align: middle;\n",
       "    }\n",
       "\n",
       "    .dataframe tbody tr th {\n",
       "        vertical-align: top;\n",
       "    }\n",
       "\n",
       "    .dataframe thead th {\n",
       "        text-align: right;\n",
       "    }\n",
       "</style>\n",
       "<table border=\"1\" class=\"dataframe\">\n",
       "  <thead>\n",
       "    <tr style=\"text-align: right;\">\n",
       "      <th></th>\n",
       "      <th>Features</th>\n",
       "      <th>VIF</th>\n",
       "    </tr>\n",
       "  </thead>\n",
       "  <tbody>\n",
       "    <tr>\n",
       "      <th>2</th>\n",
       "      <td>Page Views Per Visit</td>\n",
       "      <td>5.72</td>\n",
       "    </tr>\n",
       "    <tr>\n",
       "      <th>0</th>\n",
       "      <td>TotalVisits</td>\n",
       "      <td>4.83</td>\n",
       "    </tr>\n",
       "    <tr>\n",
       "      <th>11</th>\n",
       "      <td>What is your current occupation_Unemployed</td>\n",
       "      <td>2.90</td>\n",
       "    </tr>\n",
       "    <tr>\n",
       "      <th>13</th>\n",
       "      <td>City_Not Mentioned</td>\n",
       "      <td>2.40</td>\n",
       "    </tr>\n",
       "    <tr>\n",
       "      <th>1</th>\n",
       "      <td>Total Time Spent on Website</td>\n",
       "      <td>2.11</td>\n",
       "    </tr>\n",
       "    <tr>\n",
       "      <th>5</th>\n",
       "      <td>Lead Source_Olark Chat</td>\n",
       "      <td>1.99</td>\n",
       "    </tr>\n",
       "    <tr>\n",
       "      <th>3</th>\n",
       "      <td>A free copy of Mastering The Interview</td>\n",
       "      <td>1.83</td>\n",
       "    </tr>\n",
       "    <tr>\n",
       "      <th>4</th>\n",
       "      <td>Lead Origin_Lead Add Form</td>\n",
       "      <td>1.70</td>\n",
       "    </tr>\n",
       "    <tr>\n",
       "      <th>16</th>\n",
       "      <td>Last Notable Activity_SMS Sent</td>\n",
       "      <td>1.68</td>\n",
       "    </tr>\n",
       "    <tr>\n",
       "      <th>14</th>\n",
       "      <td>Last Notable Activity_Email Opened</td>\n",
       "      <td>1.67</td>\n",
       "    </tr>\n",
       "    <tr>\n",
       "      <th>12</th>\n",
       "      <td>What is your current occupation_Working Profes...</td>\n",
       "      <td>1.41</td>\n",
       "    </tr>\n",
       "    <tr>\n",
       "      <th>6</th>\n",
       "      <td>Lead Source_Welingak Website</td>\n",
       "      <td>1.24</td>\n",
       "    </tr>\n",
       "    <tr>\n",
       "      <th>10</th>\n",
       "      <td>What is your current occupation_Student</td>\n",
       "      <td>1.06</td>\n",
       "    </tr>\n",
       "    <tr>\n",
       "      <th>15</th>\n",
       "      <td>Last Notable Activity_Other</td>\n",
       "      <td>1.04</td>\n",
       "    </tr>\n",
       "    <tr>\n",
       "      <th>9</th>\n",
       "      <td>What is your current occupation_Other</td>\n",
       "      <td>1.02</td>\n",
       "    </tr>\n",
       "    <tr>\n",
       "      <th>7</th>\n",
       "      <td>Specialization_Hospitality Management</td>\n",
       "      <td>1.02</td>\n",
       "    </tr>\n",
       "    <tr>\n",
       "      <th>8</th>\n",
       "      <td>Specialization_Retail Management</td>\n",
       "      <td>1.02</td>\n",
       "    </tr>\n",
       "  </tbody>\n",
       "</table>\n",
       "</div>"
      ],
      "text/plain": [
       "                                             Features   VIF\n",
       "2                                Page Views Per Visit  5.72\n",
       "0                                         TotalVisits  4.83\n",
       "11         What is your current occupation_Unemployed  2.90\n",
       "13                                 City_Not Mentioned  2.40\n",
       "1                         Total Time Spent on Website  2.11\n",
       "5                              Lead Source_Olark Chat  1.99\n",
       "3              A free copy of Mastering The Interview  1.83\n",
       "4                           Lead Origin_Lead Add Form  1.70\n",
       "16                     Last Notable Activity_SMS Sent  1.68\n",
       "14                 Last Notable Activity_Email Opened  1.67\n",
       "12  What is your current occupation_Working Profes...  1.41\n",
       "6                        Lead Source_Welingak Website  1.24\n",
       "10            What is your current occupation_Student  1.06\n",
       "15                        Last Notable Activity_Other  1.04\n",
       "9               What is your current occupation_Other  1.02\n",
       "7               Specialization_Hospitality Management  1.02\n",
       "8                    Specialization_Retail Management  1.02"
      ]
     },
     "execution_count": 112,
     "metadata": {},
     "output_type": "execute_result"
    }
   ],
   "source": [
    "# Create a dataframe that will contain the names of all the feature variables and their respective VIFs\n",
    "vif = pd.DataFrame()\n",
    "vif['Features'] = X_train_1[col].columns\n",
    "vif['VIF'] = [variance_inflation_factor(X_train_1[col].values, i) for i in range(X_train_1[col].shape[1])]\n",
    "vif['VIF'] = round(vif['VIF'], 2)\n",
    "vif = vif.sort_values(by = \"VIF\", ascending = False)\n",
    "vif"
   ]
  },
  {
   "cell_type": "code",
   "execution_count": 113,
   "id": "f7d7d3b0",
   "metadata": {},
   "outputs": [],
   "source": [
    "# Significance level for 'Specialization_Retail Management' is 17% whereas max VIF is 5.7 \n",
    "# drop 'Specialization_Retail Management'\n",
    "col = col.drop(\"Specialization_Retail Management\")"
   ]
  },
  {
   "cell_type": "code",
   "execution_count": 114,
   "id": "56f7098f",
   "metadata": {},
   "outputs": [
    {
     "data": {
      "text/html": [
       "<table class=\"simpletable\">\n",
       "<caption>Generalized Linear Model Regression Results</caption>\n",
       "<tr>\n",
       "  <th>Dep. Variable:</th>       <td>Converted</td>    <th>  No. Observations:  </th>  <td>  6468</td> \n",
       "</tr>\n",
       "<tr>\n",
       "  <th>Model:</th>                  <td>GLM</td>       <th>  Df Residuals:      </th>  <td>  6451</td> \n",
       "</tr>\n",
       "<tr>\n",
       "  <th>Model Family:</th>        <td>Binomial</td>     <th>  Df Model:          </th>  <td>    16</td> \n",
       "</tr>\n",
       "<tr>\n",
       "  <th>Link Function:</th>         <td>Logit</td>      <th>  Scale:             </th> <td>  1.0000</td>\n",
       "</tr>\n",
       "<tr>\n",
       "  <th>Method:</th>                <td>IRLS</td>       <th>  Log-Likelihood:    </th> <td> -2649.0</td>\n",
       "</tr>\n",
       "<tr>\n",
       "  <th>Date:</th>            <td>Fri, 03 Mar 2023</td> <th>  Deviance:          </th> <td>  5297.9</td>\n",
       "</tr>\n",
       "<tr>\n",
       "  <th>Time:</th>                <td>16:58:20</td>     <th>  Pearson chi2:      </th> <td>6.80e+03</td>\n",
       "</tr>\n",
       "<tr>\n",
       "  <th>No. Iterations:</th>          <td>7</td>        <th>  Pseudo R-squ. (CS):</th>  <td>0.3997</td> \n",
       "</tr>\n",
       "<tr>\n",
       "  <th>Covariance Type:</th>     <td>nonrobust</td>    <th>                     </th>     <td> </td>   \n",
       "</tr>\n",
       "</table>\n",
       "<table class=\"simpletable\">\n",
       "<tr>\n",
       "                            <td></td>                              <th>coef</th>     <th>std err</th>      <th>z</th>      <th>P>|z|</th>  <th>[0.025</th>    <th>0.975]</th>  \n",
       "</tr>\n",
       "<tr>\n",
       "  <th>const</th>                                                <td>   -3.4825</td> <td>    0.145</td> <td>  -24.093</td> <td> 0.000</td> <td>   -3.766</td> <td>   -3.199</td>\n",
       "</tr>\n",
       "<tr>\n",
       "  <th>TotalVisits</th>                                          <td>    1.5351</td> <td>    0.206</td> <td>    7.439</td> <td> 0.000</td> <td>    1.131</td> <td>    1.940</td>\n",
       "</tr>\n",
       "<tr>\n",
       "  <th>Total Time Spent on Website</th>                          <td>    4.5433</td> <td>    0.166</td> <td>   27.373</td> <td> 0.000</td> <td>    4.218</td> <td>    4.869</td>\n",
       "</tr>\n",
       "<tr>\n",
       "  <th>Page Views Per Visit</th>                                 <td>   -1.1009</td> <td>    0.222</td> <td>   -4.950</td> <td> 0.000</td> <td>   -1.537</td> <td>   -0.665</td>\n",
       "</tr>\n",
       "<tr>\n",
       "  <th>A free copy of Mastering The Interview</th>               <td>   -0.4811</td> <td>    0.087</td> <td>   -5.519</td> <td> 0.000</td> <td>   -0.652</td> <td>   -0.310</td>\n",
       "</tr>\n",
       "<tr>\n",
       "  <th>Lead Origin_Lead Add Form</th>                            <td>    3.5972</td> <td>    0.205</td> <td>   17.514</td> <td> 0.000</td> <td>    3.195</td> <td>    4.000</td>\n",
       "</tr>\n",
       "<tr>\n",
       "  <th>Lead Source_Olark Chat</th>                               <td>    1.3058</td> <td>    0.130</td> <td>   10.020</td> <td> 0.000</td> <td>    1.050</td> <td>    1.561</td>\n",
       "</tr>\n",
       "<tr>\n",
       "  <th>Lead Source_Welingak Website</th>                         <td>    2.0910</td> <td>    0.744</td> <td>    2.811</td> <td> 0.005</td> <td>    0.633</td> <td>    3.549</td>\n",
       "</tr>\n",
       "<tr>\n",
       "  <th>Specialization_Hospitality Management</th>                <td>   -0.9923</td> <td>    0.326</td> <td>   -3.042</td> <td> 0.002</td> <td>   -1.632</td> <td>   -0.353</td>\n",
       "</tr>\n",
       "<tr>\n",
       "  <th>What is your current occupation_Other</th>                <td>    1.8094</td> <td>    0.513</td> <td>    3.530</td> <td> 0.000</td> <td>    0.805</td> <td>    2.814</td>\n",
       "</tr>\n",
       "<tr>\n",
       "  <th>What is your current occupation_Student</th>              <td>    0.9794</td> <td>    0.238</td> <td>    4.117</td> <td> 0.000</td> <td>    0.513</td> <td>    1.446</td>\n",
       "</tr>\n",
       "<tr>\n",
       "  <th>What is your current occupation_Unemployed</th>           <td>    1.0062</td> <td>    0.088</td> <td>   11.476</td> <td> 0.000</td> <td>    0.834</td> <td>    1.178</td>\n",
       "</tr>\n",
       "<tr>\n",
       "  <th>What is your current occupation_Working Professional</th> <td>    3.5727</td> <td>    0.198</td> <td>   18.005</td> <td> 0.000</td> <td>    3.184</td> <td>    3.962</td>\n",
       "</tr>\n",
       "<tr>\n",
       "  <th>City_Not Mentioned</th>                                   <td>   -0.4369</td> <td>    0.096</td> <td>   -4.539</td> <td> 0.000</td> <td>   -0.626</td> <td>   -0.248</td>\n",
       "</tr>\n",
       "<tr>\n",
       "  <th>Last Notable Activity_Email Opened</th>                   <td>    0.7357</td> <td>    0.084</td> <td>    8.809</td> <td> 0.000</td> <td>    0.572</td> <td>    0.899</td>\n",
       "</tr>\n",
       "<tr>\n",
       "  <th>Last Notable Activity_Other</th>                          <td>    0.9134</td> <td>    0.253</td> <td>    3.608</td> <td> 0.000</td> <td>    0.417</td> <td>    1.410</td>\n",
       "</tr>\n",
       "<tr>\n",
       "  <th>Last Notable Activity_SMS Sent</th>                       <td>    1.9715</td> <td>    0.090</td> <td>   21.787</td> <td> 0.000</td> <td>    1.794</td> <td>    2.149</td>\n",
       "</tr>\n",
       "</table>"
      ],
      "text/plain": [
       "<class 'statsmodels.iolib.summary.Summary'>\n",
       "\"\"\"\n",
       "                 Generalized Linear Model Regression Results                  \n",
       "==============================================================================\n",
       "Dep. Variable:              Converted   No. Observations:                 6468\n",
       "Model:                            GLM   Df Residuals:                     6451\n",
       "Model Family:                Binomial   Df Model:                           16\n",
       "Link Function:                  Logit   Scale:                          1.0000\n",
       "Method:                          IRLS   Log-Likelihood:                -2649.0\n",
       "Date:                Fri, 03 Mar 2023   Deviance:                       5297.9\n",
       "Time:                        16:58:20   Pearson chi2:                 6.80e+03\n",
       "No. Iterations:                     7   Pseudo R-squ. (CS):             0.3997\n",
       "Covariance Type:            nonrobust                                         \n",
       "========================================================================================================================\n",
       "                                                           coef    std err          z      P>|z|      [0.025      0.975]\n",
       "------------------------------------------------------------------------------------------------------------------------\n",
       "const                                                   -3.4825      0.145    -24.093      0.000      -3.766      -3.199\n",
       "TotalVisits                                              1.5351      0.206      7.439      0.000       1.131       1.940\n",
       "Total Time Spent on Website                              4.5433      0.166     27.373      0.000       4.218       4.869\n",
       "Page Views Per Visit                                    -1.1009      0.222     -4.950      0.000      -1.537      -0.665\n",
       "A free copy of Mastering The Interview                  -0.4811      0.087     -5.519      0.000      -0.652      -0.310\n",
       "Lead Origin_Lead Add Form                                3.5972      0.205     17.514      0.000       3.195       4.000\n",
       "Lead Source_Olark Chat                                   1.3058      0.130     10.020      0.000       1.050       1.561\n",
       "Lead Source_Welingak Website                             2.0910      0.744      2.811      0.005       0.633       3.549\n",
       "Specialization_Hospitality Management                   -0.9923      0.326     -3.042      0.002      -1.632      -0.353\n",
       "What is your current occupation_Other                    1.8094      0.513      3.530      0.000       0.805       2.814\n",
       "What is your current occupation_Student                  0.9794      0.238      4.117      0.000       0.513       1.446\n",
       "What is your current occupation_Unemployed               1.0062      0.088     11.476      0.000       0.834       1.178\n",
       "What is your current occupation_Working Professional     3.5727      0.198     18.005      0.000       3.184       3.962\n",
       "City_Not Mentioned                                      -0.4369      0.096     -4.539      0.000      -0.626      -0.248\n",
       "Last Notable Activity_Email Opened                       0.7357      0.084      8.809      0.000       0.572       0.899\n",
       "Last Notable Activity_Other                              0.9134      0.253      3.608      0.000       0.417       1.410\n",
       "Last Notable Activity_SMS Sent                           1.9715      0.090     21.787      0.000       1.794       2.149\n",
       "========================================================================================================================\n",
       "\"\"\""
      ]
     },
     "execution_count": 114,
     "metadata": {},
     "output_type": "execute_result"
    }
   ],
   "source": [
    "# Check the model\n",
    "X_train_sm = sm.add_constant(X_train_1[col])\n",
    "logm2 = sm.GLM(y_train,X_train_sm, family = sm.families.Binomial())\n",
    "res = logm2.fit()\n",
    "res.summary()"
   ]
  },
  {
   "cell_type": "code",
   "execution_count": 115,
   "id": "d8b1af79",
   "metadata": {},
   "outputs": [
    {
     "data": {
      "text/html": [
       "<div>\n",
       "<style scoped>\n",
       "    .dataframe tbody tr th:only-of-type {\n",
       "        vertical-align: middle;\n",
       "    }\n",
       "\n",
       "    .dataframe tbody tr th {\n",
       "        vertical-align: top;\n",
       "    }\n",
       "\n",
       "    .dataframe thead th {\n",
       "        text-align: right;\n",
       "    }\n",
       "</style>\n",
       "<table border=\"1\" class=\"dataframe\">\n",
       "  <thead>\n",
       "    <tr style=\"text-align: right;\">\n",
       "      <th></th>\n",
       "      <th>Converted</th>\n",
       "      <th>Conv_Prob</th>\n",
       "    </tr>\n",
       "    <tr>\n",
       "      <th>Prospect ID</th>\n",
       "      <th></th>\n",
       "      <th></th>\n",
       "    </tr>\n",
       "  </thead>\n",
       "  <tbody>\n",
       "    <tr>\n",
       "      <th>f3af2d98-02db-45d7-bbf6-c641d6b4f4c3</th>\n",
       "      <td>0</td>\n",
       "      <td>0.294903</td>\n",
       "    </tr>\n",
       "    <tr>\n",
       "      <th>207aaf73-a121-41b8-96bb-b0d5c38e7a7b</th>\n",
       "      <td>0</td>\n",
       "      <td>0.278500</td>\n",
       "    </tr>\n",
       "    <tr>\n",
       "      <th>db308a34-ade6-4f0d-9779-586c5be188c7</th>\n",
       "      <td>0</td>\n",
       "      <td>0.398271</td>\n",
       "    </tr>\n",
       "    <tr>\n",
       "      <th>1199b37d-f610-4bb8-bf18-15267dec61fa</th>\n",
       "      <td>0</td>\n",
       "      <td>0.862344</td>\n",
       "    </tr>\n",
       "    <tr>\n",
       "      <th>6b2d3b2f-9990-449c-9333-012b578e39c8</th>\n",
       "      <td>0</td>\n",
       "      <td>0.166957</td>\n",
       "    </tr>\n",
       "  </tbody>\n",
       "</table>\n",
       "</div>"
      ],
      "text/plain": [
       "                                      Converted  Conv_Prob\n",
       "Prospect ID                                               \n",
       "f3af2d98-02db-45d7-bbf6-c641d6b4f4c3          0   0.294903\n",
       "207aaf73-a121-41b8-96bb-b0d5c38e7a7b          0   0.278500\n",
       "db308a34-ade6-4f0d-9779-586c5be188c7          0   0.398271\n",
       "1199b37d-f610-4bb8-bf18-15267dec61fa          0   0.862344\n",
       "6b2d3b2f-9990-449c-9333-012b578e39c8          0   0.166957"
      ]
     },
     "execution_count": 115,
     "metadata": {},
     "output_type": "execute_result"
    }
   ],
   "source": [
    "# Creating a Datarane of Predicted Probabilities and Target variable\n",
    "y_train_pred = res.predict(X_train_sm)\n",
    "y_train_pred = y_train_pred.values.reshape(-1)\n",
    "y_train_pred_final = pd.DataFrame({'Prospect ID':X_train[\"Prospect ID\"],'Converted':y_train.values, 'Conv_Prob':y_train_pred})\n",
    "y_train_pred_final.set_index('Prospect ID',inplace=True)\n",
    "y_train_pred_final.head()"
   ]
  },
  {
   "cell_type": "code",
   "execution_count": 116,
   "id": "2163021c",
   "metadata": {},
   "outputs": [],
   "source": [
    "# Setting cutoff at .5\n",
    "y_train_pred_final['predicted'] = y_train_pred_final.Conv_Prob.map(lambda x: 1 if x > 0.5 else 0)"
   ]
  },
  {
   "cell_type": "code",
   "execution_count": 117,
   "id": "fbd55e14",
   "metadata": {},
   "outputs": [
    {
     "name": "stdout",
     "output_type": "stream",
     "text": [
      "[[3549  453]\n",
      " [ 745 1721]]\n"
     ]
    }
   ],
   "source": [
    "\n",
    "confusion = metrics.confusion_matrix(y_train_pred_final.Converted, y_train_pred_final.predicted )\n",
    "print(confusion)"
   ]
  },
  {
   "cell_type": "code",
   "execution_count": 118,
   "id": "77bf9d23",
   "metadata": {},
   "outputs": [
    {
     "name": "stdout",
     "output_type": "stream",
     "text": [
      "0.8147804576376005\n"
     ]
    }
   ],
   "source": [
    "# Accuracy\n",
    "print(metrics.accuracy_score(y_train_pred_final.Converted, y_train_pred_final.predicted))"
   ]
  },
  {
   "cell_type": "markdown",
   "id": "a530c06e",
   "metadata": {},
   "source": [
    "Acuracy not affected by dropping the variable"
   ]
  },
  {
   "cell_type": "code",
   "execution_count": 119,
   "id": "767053c1",
   "metadata": {},
   "outputs": [
    {
     "data": {
      "text/html": [
       "<div>\n",
       "<style scoped>\n",
       "    .dataframe tbody tr th:only-of-type {\n",
       "        vertical-align: middle;\n",
       "    }\n",
       "\n",
       "    .dataframe tbody tr th {\n",
       "        vertical-align: top;\n",
       "    }\n",
       "\n",
       "    .dataframe thead th {\n",
       "        text-align: right;\n",
       "    }\n",
       "</style>\n",
       "<table border=\"1\" class=\"dataframe\">\n",
       "  <thead>\n",
       "    <tr style=\"text-align: right;\">\n",
       "      <th></th>\n",
       "      <th>Features</th>\n",
       "      <th>VIF</th>\n",
       "    </tr>\n",
       "  </thead>\n",
       "  <tbody>\n",
       "    <tr>\n",
       "      <th>2</th>\n",
       "      <td>Page Views Per Visit</td>\n",
       "      <td>5.72</td>\n",
       "    </tr>\n",
       "    <tr>\n",
       "      <th>0</th>\n",
       "      <td>TotalVisits</td>\n",
       "      <td>4.83</td>\n",
       "    </tr>\n",
       "    <tr>\n",
       "      <th>10</th>\n",
       "      <td>What is your current occupation_Unemployed</td>\n",
       "      <td>2.90</td>\n",
       "    </tr>\n",
       "    <tr>\n",
       "      <th>12</th>\n",
       "      <td>City_Not Mentioned</td>\n",
       "      <td>2.39</td>\n",
       "    </tr>\n",
       "    <tr>\n",
       "      <th>1</th>\n",
       "      <td>Total Time Spent on Website</td>\n",
       "      <td>2.11</td>\n",
       "    </tr>\n",
       "    <tr>\n",
       "      <th>5</th>\n",
       "      <td>Lead Source_Olark Chat</td>\n",
       "      <td>1.99</td>\n",
       "    </tr>\n",
       "    <tr>\n",
       "      <th>3</th>\n",
       "      <td>A free copy of Mastering The Interview</td>\n",
       "      <td>1.83</td>\n",
       "    </tr>\n",
       "    <tr>\n",
       "      <th>4</th>\n",
       "      <td>Lead Origin_Lead Add Form</td>\n",
       "      <td>1.70</td>\n",
       "    </tr>\n",
       "    <tr>\n",
       "      <th>15</th>\n",
       "      <td>Last Notable Activity_SMS Sent</td>\n",
       "      <td>1.68</td>\n",
       "    </tr>\n",
       "    <tr>\n",
       "      <th>13</th>\n",
       "      <td>Last Notable Activity_Email Opened</td>\n",
       "      <td>1.67</td>\n",
       "    </tr>\n",
       "    <tr>\n",
       "      <th>11</th>\n",
       "      <td>What is your current occupation_Working Profes...</td>\n",
       "      <td>1.41</td>\n",
       "    </tr>\n",
       "    <tr>\n",
       "      <th>6</th>\n",
       "      <td>Lead Source_Welingak Website</td>\n",
       "      <td>1.24</td>\n",
       "    </tr>\n",
       "    <tr>\n",
       "      <th>9</th>\n",
       "      <td>What is your current occupation_Student</td>\n",
       "      <td>1.06</td>\n",
       "    </tr>\n",
       "    <tr>\n",
       "      <th>14</th>\n",
       "      <td>Last Notable Activity_Other</td>\n",
       "      <td>1.04</td>\n",
       "    </tr>\n",
       "    <tr>\n",
       "      <th>7</th>\n",
       "      <td>Specialization_Hospitality Management</td>\n",
       "      <td>1.02</td>\n",
       "    </tr>\n",
       "    <tr>\n",
       "      <th>8</th>\n",
       "      <td>What is your current occupation_Other</td>\n",
       "      <td>1.02</td>\n",
       "    </tr>\n",
       "  </tbody>\n",
       "</table>\n",
       "</div>"
      ],
      "text/plain": [
       "                                             Features   VIF\n",
       "2                                Page Views Per Visit  5.72\n",
       "0                                         TotalVisits  4.83\n",
       "10         What is your current occupation_Unemployed  2.90\n",
       "12                                 City_Not Mentioned  2.39\n",
       "1                         Total Time Spent on Website  2.11\n",
       "5                              Lead Source_Olark Chat  1.99\n",
       "3              A free copy of Mastering The Interview  1.83\n",
       "4                           Lead Origin_Lead Add Form  1.70\n",
       "15                     Last Notable Activity_SMS Sent  1.68\n",
       "13                 Last Notable Activity_Email Opened  1.67\n",
       "11  What is your current occupation_Working Profes...  1.41\n",
       "6                        Lead Source_Welingak Website  1.24\n",
       "9             What is your current occupation_Student  1.06\n",
       "14                        Last Notable Activity_Other  1.04\n",
       "7               Specialization_Hospitality Management  1.02\n",
       "8               What is your current occupation_Other  1.02"
      ]
     },
     "execution_count": 119,
     "metadata": {},
     "output_type": "execute_result"
    }
   ],
   "source": [
    "vif = pd.DataFrame()\n",
    "vif['Features'] = X_train_1[col].columns\n",
    "vif['VIF'] = [variance_inflation_factor(X_train_1[col].values, i) for i in range(X_train_1[col].shape[1])]\n",
    "vif['VIF'] = round(vif['VIF'], 2)\n",
    "vif = vif.sort_values(by = \"VIF\", ascending = False)\n",
    "vif"
   ]
  },
  {
   "cell_type": "code",
   "execution_count": 120,
   "id": "bb5dedb9",
   "metadata": {},
   "outputs": [],
   "source": [
    "# All variabels are significant drop ma VIF variable\n",
    "col = col.drop(\"Page Views Per Visit\")"
   ]
  },
  {
   "cell_type": "code",
   "execution_count": 121,
   "id": "613cd514",
   "metadata": {},
   "outputs": [
    {
     "data": {
      "text/html": [
       "<table class=\"simpletable\">\n",
       "<caption>Generalized Linear Model Regression Results</caption>\n",
       "<tr>\n",
       "  <th>Dep. Variable:</th>       <td>Converted</td>    <th>  No. Observations:  </th>  <td>  6468</td> \n",
       "</tr>\n",
       "<tr>\n",
       "  <th>Model:</th>                  <td>GLM</td>       <th>  Df Residuals:      </th>  <td>  6452</td> \n",
       "</tr>\n",
       "<tr>\n",
       "  <th>Model Family:</th>        <td>Binomial</td>     <th>  Df Model:          </th>  <td>    15</td> \n",
       "</tr>\n",
       "<tr>\n",
       "  <th>Link Function:</th>         <td>Logit</td>      <th>  Scale:             </th> <td>  1.0000</td>\n",
       "</tr>\n",
       "<tr>\n",
       "  <th>Method:</th>                <td>IRLS</td>       <th>  Log-Likelihood:    </th> <td> -2661.4</td>\n",
       "</tr>\n",
       "<tr>\n",
       "  <th>Date:</th>            <td>Fri, 03 Mar 2023</td> <th>  Deviance:          </th> <td>  5322.8</td>\n",
       "</tr>\n",
       "<tr>\n",
       "  <th>Time:</th>                <td>16:58:20</td>     <th>  Pearson chi2:      </th> <td>6.79e+03</td>\n",
       "</tr>\n",
       "<tr>\n",
       "  <th>No. Iterations:</th>          <td>7</td>        <th>  Pseudo R-squ. (CS):</th>  <td>0.3973</td> \n",
       "</tr>\n",
       "<tr>\n",
       "  <th>Covariance Type:</th>     <td>nonrobust</td>    <th>                     </th>     <td> </td>   \n",
       "</tr>\n",
       "</table>\n",
       "<table class=\"simpletable\">\n",
       "<tr>\n",
       "                            <td></td>                              <th>coef</th>     <th>std err</th>      <th>z</th>      <th>P>|z|</th>  <th>[0.025</th>    <th>0.975]</th>  \n",
       "</tr>\n",
       "<tr>\n",
       "  <th>const</th>                                                <td>   -3.7318</td> <td>    0.137</td> <td>  -27.288</td> <td> 0.000</td> <td>   -4.000</td> <td>   -3.464</td>\n",
       "</tr>\n",
       "<tr>\n",
       "  <th>TotalVisits</th>                                          <td>    0.9757</td> <td>    0.174</td> <td>    5.612</td> <td> 0.000</td> <td>    0.635</td> <td>    1.316</td>\n",
       "</tr>\n",
       "<tr>\n",
       "  <th>Total Time Spent on Website</th>                          <td>    4.5308</td> <td>    0.166</td> <td>   27.363</td> <td> 0.000</td> <td>    4.206</td> <td>    4.855</td>\n",
       "</tr>\n",
       "<tr>\n",
       "  <th>A free copy of Mastering The Interview</th>               <td>   -0.4636</td> <td>    0.087</td> <td>   -5.335</td> <td> 0.000</td> <td>   -0.634</td> <td>   -0.293</td>\n",
       "</tr>\n",
       "<tr>\n",
       "  <th>Lead Origin_Lead Add Form</th>                            <td>    3.8260</td> <td>    0.200</td> <td>   19.086</td> <td> 0.000</td> <td>    3.433</td> <td>    4.219</td>\n",
       "</tr>\n",
       "<tr>\n",
       "  <th>Lead Source_Olark Chat</th>                               <td>    1.5141</td> <td>    0.124</td> <td>   12.214</td> <td> 0.000</td> <td>    1.271</td> <td>    1.757</td>\n",
       "</tr>\n",
       "<tr>\n",
       "  <th>Lead Source_Welingak Website</th>                         <td>    2.0669</td> <td>    0.743</td> <td>    2.780</td> <td> 0.005</td> <td>    0.610</td> <td>    3.524</td>\n",
       "</tr>\n",
       "<tr>\n",
       "  <th>Specialization_Hospitality Management</th>                <td>   -1.0225</td> <td>    0.326</td> <td>   -3.133</td> <td> 0.002</td> <td>   -1.662</td> <td>   -0.383</td>\n",
       "</tr>\n",
       "<tr>\n",
       "  <th>What is your current occupation_Other</th>                <td>    1.8294</td> <td>    0.519</td> <td>    3.524</td> <td> 0.000</td> <td>    0.812</td> <td>    2.847</td>\n",
       "</tr>\n",
       "<tr>\n",
       "  <th>What is your current occupation_Student</th>              <td>    0.9938</td> <td>    0.239</td> <td>    4.166</td> <td> 0.000</td> <td>    0.526</td> <td>    1.461</td>\n",
       "</tr>\n",
       "<tr>\n",
       "  <th>What is your current occupation_Unemployed</th>           <td>    1.0075</td> <td>    0.087</td> <td>   11.525</td> <td> 0.000</td> <td>    0.836</td> <td>    1.179</td>\n",
       "</tr>\n",
       "<tr>\n",
       "  <th>What is your current occupation_Working Professional</th> <td>    3.5612</td> <td>    0.198</td> <td>   17.990</td> <td> 0.000</td> <td>    3.173</td> <td>    3.949</td>\n",
       "</tr>\n",
       "<tr>\n",
       "  <th>City_Not Mentioned</th>                                   <td>   -0.3743</td> <td>    0.095</td> <td>   -3.936</td> <td> 0.000</td> <td>   -0.561</td> <td>   -0.188</td>\n",
       "</tr>\n",
       "<tr>\n",
       "  <th>Last Notable Activity_Email Opened</th>                   <td>    0.7082</td> <td>    0.083</td> <td>    8.524</td> <td> 0.000</td> <td>    0.545</td> <td>    0.871</td>\n",
       "</tr>\n",
       "<tr>\n",
       "  <th>Last Notable Activity_Other</th>                          <td>    0.9130</td> <td>    0.253</td> <td>    3.612</td> <td> 0.000</td> <td>    0.418</td> <td>    1.408</td>\n",
       "</tr>\n",
       "<tr>\n",
       "  <th>Last Notable Activity_SMS Sent</th>                       <td>    1.9147</td> <td>    0.089</td> <td>   21.444</td> <td> 0.000</td> <td>    1.740</td> <td>    2.090</td>\n",
       "</tr>\n",
       "</table>"
      ],
      "text/plain": [
       "<class 'statsmodels.iolib.summary.Summary'>\n",
       "\"\"\"\n",
       "                 Generalized Linear Model Regression Results                  \n",
       "==============================================================================\n",
       "Dep. Variable:              Converted   No. Observations:                 6468\n",
       "Model:                            GLM   Df Residuals:                     6452\n",
       "Model Family:                Binomial   Df Model:                           15\n",
       "Link Function:                  Logit   Scale:                          1.0000\n",
       "Method:                          IRLS   Log-Likelihood:                -2661.4\n",
       "Date:                Fri, 03 Mar 2023   Deviance:                       5322.8\n",
       "Time:                        16:58:20   Pearson chi2:                 6.79e+03\n",
       "No. Iterations:                     7   Pseudo R-squ. (CS):             0.3973\n",
       "Covariance Type:            nonrobust                                         \n",
       "========================================================================================================================\n",
       "                                                           coef    std err          z      P>|z|      [0.025      0.975]\n",
       "------------------------------------------------------------------------------------------------------------------------\n",
       "const                                                   -3.7318      0.137    -27.288      0.000      -4.000      -3.464\n",
       "TotalVisits                                              0.9757      0.174      5.612      0.000       0.635       1.316\n",
       "Total Time Spent on Website                              4.5308      0.166     27.363      0.000       4.206       4.855\n",
       "A free copy of Mastering The Interview                  -0.4636      0.087     -5.335      0.000      -0.634      -0.293\n",
       "Lead Origin_Lead Add Form                                3.8260      0.200     19.086      0.000       3.433       4.219\n",
       "Lead Source_Olark Chat                                   1.5141      0.124     12.214      0.000       1.271       1.757\n",
       "Lead Source_Welingak Website                             2.0669      0.743      2.780      0.005       0.610       3.524\n",
       "Specialization_Hospitality Management                   -1.0225      0.326     -3.133      0.002      -1.662      -0.383\n",
       "What is your current occupation_Other                    1.8294      0.519      3.524      0.000       0.812       2.847\n",
       "What is your current occupation_Student                  0.9938      0.239      4.166      0.000       0.526       1.461\n",
       "What is your current occupation_Unemployed               1.0075      0.087     11.525      0.000       0.836       1.179\n",
       "What is your current occupation_Working Professional     3.5612      0.198     17.990      0.000       3.173       3.949\n",
       "City_Not Mentioned                                      -0.3743      0.095     -3.936      0.000      -0.561      -0.188\n",
       "Last Notable Activity_Email Opened                       0.7082      0.083      8.524      0.000       0.545       0.871\n",
       "Last Notable Activity_Other                              0.9130      0.253      3.612      0.000       0.418       1.408\n",
       "Last Notable Activity_SMS Sent                           1.9147      0.089     21.444      0.000       1.740       2.090\n",
       "========================================================================================================================\n",
       "\"\"\""
      ]
     },
     "execution_count": 121,
     "metadata": {},
     "output_type": "execute_result"
    }
   ],
   "source": [
    "X_train_sm = sm.add_constant(X_train_1[col])\n",
    "logm2 = sm.GLM(y_train,X_train_sm, family = sm.families.Binomial())\n",
    "res = logm2.fit()\n",
    "res.summary()"
   ]
  },
  {
   "cell_type": "code",
   "execution_count": 122,
   "id": "26326c94",
   "metadata": {},
   "outputs": [
    {
     "data": {
      "text/html": [
       "<div>\n",
       "<style scoped>\n",
       "    .dataframe tbody tr th:only-of-type {\n",
       "        vertical-align: middle;\n",
       "    }\n",
       "\n",
       "    .dataframe tbody tr th {\n",
       "        vertical-align: top;\n",
       "    }\n",
       "\n",
       "    .dataframe thead th {\n",
       "        text-align: right;\n",
       "    }\n",
       "</style>\n",
       "<table border=\"1\" class=\"dataframe\">\n",
       "  <thead>\n",
       "    <tr style=\"text-align: right;\">\n",
       "      <th></th>\n",
       "      <th>Converted</th>\n",
       "      <th>Conv_Prob</th>\n",
       "    </tr>\n",
       "    <tr>\n",
       "      <th>Prospect ID</th>\n",
       "      <th></th>\n",
       "      <th></th>\n",
       "    </tr>\n",
       "  </thead>\n",
       "  <tbody>\n",
       "    <tr>\n",
       "      <th>f3af2d98-02db-45d7-bbf6-c641d6b4f4c3</th>\n",
       "      <td>0</td>\n",
       "      <td>0.293959</td>\n",
       "    </tr>\n",
       "    <tr>\n",
       "      <th>207aaf73-a121-41b8-96bb-b0d5c38e7a7b</th>\n",
       "      <td>0</td>\n",
       "      <td>0.232136</td>\n",
       "    </tr>\n",
       "    <tr>\n",
       "      <th>db308a34-ade6-4f0d-9779-586c5be188c7</th>\n",
       "      <td>0</td>\n",
       "      <td>0.431789</td>\n",
       "    </tr>\n",
       "    <tr>\n",
       "      <th>1199b37d-f610-4bb8-bf18-15267dec61fa</th>\n",
       "      <td>0</td>\n",
       "      <td>0.884274</td>\n",
       "    </tr>\n",
       "    <tr>\n",
       "      <th>6b2d3b2f-9990-449c-9333-012b578e39c8</th>\n",
       "      <td>0</td>\n",
       "      <td>0.170174</td>\n",
       "    </tr>\n",
       "  </tbody>\n",
       "</table>\n",
       "</div>"
      ],
      "text/plain": [
       "                                      Converted  Conv_Prob\n",
       "Prospect ID                                               \n",
       "f3af2d98-02db-45d7-bbf6-c641d6b4f4c3          0   0.293959\n",
       "207aaf73-a121-41b8-96bb-b0d5c38e7a7b          0   0.232136\n",
       "db308a34-ade6-4f0d-9779-586c5be188c7          0   0.431789\n",
       "1199b37d-f610-4bb8-bf18-15267dec61fa          0   0.884274\n",
       "6b2d3b2f-9990-449c-9333-012b578e39c8          0   0.170174"
      ]
     },
     "execution_count": 122,
     "metadata": {},
     "output_type": "execute_result"
    }
   ],
   "source": [
    "# Creating a Datarane of Predicted Probabilities and Target variable\n",
    "y_train_pred = res.predict(X_train_sm)\n",
    "y_train_pred = y_train_pred.values.reshape(-1)\n",
    "y_train_pred_final = pd.DataFrame({'Prospect ID':X_train[\"Prospect ID\"],'Converted':y_train.values, 'Conv_Prob':y_train_pred})\n",
    "y_train_pred_final.set_index('Prospect ID',inplace=True)\n",
    "y_train_pred_final.head()"
   ]
  },
  {
   "cell_type": "code",
   "execution_count": 123,
   "id": "8fa119d9",
   "metadata": {},
   "outputs": [],
   "source": [
    "# Setting cutoff at .5\n",
    "y_train_pred_final['predicted'] = y_train_pred_final.Conv_Prob.map(lambda x: 1 if x > 0.5 else 0)"
   ]
  },
  {
   "cell_type": "code",
   "execution_count": 124,
   "id": "7a3579ae",
   "metadata": {},
   "outputs": [
    {
     "name": "stdout",
     "output_type": "stream",
     "text": [
      "[[3557  445]\n",
      " [ 746 1720]]\n"
     ]
    }
   ],
   "source": [
    "confusion = metrics.confusion_matrix(y_train_pred_final.Converted, y_train_pred_final.predicted )\n",
    "print(confusion)"
   ]
  },
  {
   "cell_type": "code",
   "execution_count": 125,
   "id": "7456ee6a",
   "metadata": {},
   "outputs": [
    {
     "name": "stdout",
     "output_type": "stream",
     "text": [
      "0.8158627087198516\n"
     ]
    }
   ],
   "source": [
    "# Accuracy\n",
    "print(metrics.accuracy_score(y_train_pred_final.Converted, y_train_pred_final.predicted))"
   ]
  },
  {
   "cell_type": "markdown",
   "id": "538820ce",
   "metadata": {},
   "source": [
    "No Significant change in accuracy"
   ]
  },
  {
   "cell_type": "code",
   "execution_count": 126,
   "id": "27c1ee4c",
   "metadata": {},
   "outputs": [
    {
     "data": {
      "text/html": [
       "<div>\n",
       "<style scoped>\n",
       "    .dataframe tbody tr th:only-of-type {\n",
       "        vertical-align: middle;\n",
       "    }\n",
       "\n",
       "    .dataframe tbody tr th {\n",
       "        vertical-align: top;\n",
       "    }\n",
       "\n",
       "    .dataframe thead th {\n",
       "        text-align: right;\n",
       "    }\n",
       "</style>\n",
       "<table border=\"1\" class=\"dataframe\">\n",
       "  <thead>\n",
       "    <tr style=\"text-align: right;\">\n",
       "      <th></th>\n",
       "      <th>Features</th>\n",
       "      <th>VIF</th>\n",
       "    </tr>\n",
       "  </thead>\n",
       "  <tbody>\n",
       "    <tr>\n",
       "      <th>9</th>\n",
       "      <td>What is your current occupation_Unemployed</td>\n",
       "      <td>2.81</td>\n",
       "    </tr>\n",
       "    <tr>\n",
       "      <th>0</th>\n",
       "      <td>TotalVisits</td>\n",
       "      <td>2.58</td>\n",
       "    </tr>\n",
       "    <tr>\n",
       "      <th>11</th>\n",
       "      <td>City_Not Mentioned</td>\n",
       "      <td>2.37</td>\n",
       "    </tr>\n",
       "    <tr>\n",
       "      <th>1</th>\n",
       "      <td>Total Time Spent on Website</td>\n",
       "      <td>2.08</td>\n",
       "    </tr>\n",
       "    <tr>\n",
       "      <th>4</th>\n",
       "      <td>Lead Source_Olark Chat</td>\n",
       "      <td>1.92</td>\n",
       "    </tr>\n",
       "    <tr>\n",
       "      <th>2</th>\n",
       "      <td>A free copy of Mastering The Interview</td>\n",
       "      <td>1.79</td>\n",
       "    </tr>\n",
       "    <tr>\n",
       "      <th>3</th>\n",
       "      <td>Lead Origin_Lead Add Form</td>\n",
       "      <td>1.65</td>\n",
       "    </tr>\n",
       "    <tr>\n",
       "      <th>14</th>\n",
       "      <td>Last Notable Activity_SMS Sent</td>\n",
       "      <td>1.64</td>\n",
       "    </tr>\n",
       "    <tr>\n",
       "      <th>12</th>\n",
       "      <td>Last Notable Activity_Email Opened</td>\n",
       "      <td>1.63</td>\n",
       "    </tr>\n",
       "    <tr>\n",
       "      <th>10</th>\n",
       "      <td>What is your current occupation_Working Profes...</td>\n",
       "      <td>1.41</td>\n",
       "    </tr>\n",
       "    <tr>\n",
       "      <th>5</th>\n",
       "      <td>Lead Source_Welingak Website</td>\n",
       "      <td>1.24</td>\n",
       "    </tr>\n",
       "    <tr>\n",
       "      <th>8</th>\n",
       "      <td>What is your current occupation_Student</td>\n",
       "      <td>1.06</td>\n",
       "    </tr>\n",
       "    <tr>\n",
       "      <th>13</th>\n",
       "      <td>Last Notable Activity_Other</td>\n",
       "      <td>1.04</td>\n",
       "    </tr>\n",
       "    <tr>\n",
       "      <th>6</th>\n",
       "      <td>Specialization_Hospitality Management</td>\n",
       "      <td>1.02</td>\n",
       "    </tr>\n",
       "    <tr>\n",
       "      <th>7</th>\n",
       "      <td>What is your current occupation_Other</td>\n",
       "      <td>1.02</td>\n",
       "    </tr>\n",
       "  </tbody>\n",
       "</table>\n",
       "</div>"
      ],
      "text/plain": [
       "                                             Features   VIF\n",
       "9          What is your current occupation_Unemployed  2.81\n",
       "0                                         TotalVisits  2.58\n",
       "11                                 City_Not Mentioned  2.37\n",
       "1                         Total Time Spent on Website  2.08\n",
       "4                              Lead Source_Olark Chat  1.92\n",
       "2              A free copy of Mastering The Interview  1.79\n",
       "3                           Lead Origin_Lead Add Form  1.65\n",
       "14                     Last Notable Activity_SMS Sent  1.64\n",
       "12                 Last Notable Activity_Email Opened  1.63\n",
       "10  What is your current occupation_Working Profes...  1.41\n",
       "5                        Lead Source_Welingak Website  1.24\n",
       "8             What is your current occupation_Student  1.06\n",
       "13                        Last Notable Activity_Other  1.04\n",
       "6               Specialization_Hospitality Management  1.02\n",
       "7               What is your current occupation_Other  1.02"
      ]
     },
     "execution_count": 126,
     "metadata": {},
     "output_type": "execute_result"
    }
   ],
   "source": [
    "vif = pd.DataFrame()\n",
    "vif['Features'] = X_train_1[col].columns\n",
    "vif['VIF'] = [variance_inflation_factor(X_train_1[col].values, i) for i in range(X_train_1[col].shape[1])]\n",
    "vif['VIF'] = round(vif['VIF'], 2)\n",
    "vif = vif.sort_values(by = \"VIF\", ascending = False)\n",
    "vif"
   ]
  },
  {
   "cell_type": "markdown",
   "id": "bc61b81a",
   "metadata": {},
   "source": [
    "All Features are significant and VIF less than 3\n",
    "And accuracy 81.6 % \n",
    "Appearws to be a good model"
   ]
  },
  {
   "cell_type": "markdown",
   "id": "39243ae9",
   "metadata": {},
   "source": [
    "## Metrics"
   ]
  },
  {
   "cell_type": "code",
   "execution_count": 127,
   "id": "b160768b",
   "metadata": {},
   "outputs": [],
   "source": [
    "TP = confusion[1,1] # true positive \n",
    "TN = confusion[0,0] # true negatives\n",
    "FP = confusion[0,1] # false positives\n",
    "FN = confusion[1,0] # false negatives"
   ]
  },
  {
   "cell_type": "code",
   "execution_count": 128,
   "id": "d75a5a36",
   "metadata": {},
   "outputs": [
    {
     "data": {
      "text/plain": [
       "0.6974858069748581"
      ]
     },
     "execution_count": 128,
     "metadata": {},
     "output_type": "execute_result"
    }
   ],
   "source": [
    "# Sensitivity of  logistic regression model\n",
    "TP / float(TP+FN)"
   ]
  },
  {
   "cell_type": "code",
   "execution_count": 129,
   "id": "2ebfca3f",
   "metadata": {},
   "outputs": [
    {
     "data": {
      "text/plain": [
       "0.8888055972013993"
      ]
     },
     "execution_count": 129,
     "metadata": {},
     "output_type": "execute_result"
    }
   ],
   "source": [
    "# Let us calculate specificity\n",
    "TN / float(TN+FP)"
   ]
  },
  {
   "cell_type": "code",
   "execution_count": 130,
   "id": "700f3c24",
   "metadata": {},
   "outputs": [
    {
     "name": "stdout",
     "output_type": "stream",
     "text": [
      "0.1111944027986007\n"
     ]
    }
   ],
   "source": [
    "# Calculate false postive rate - predicting churn when customer does not have churned\n",
    "print(FP/ float(TN+FP))"
   ]
  },
  {
   "cell_type": "code",
   "execution_count": 131,
   "id": "23f8f6dc",
   "metadata": {},
   "outputs": [
    {
     "name": "stdout",
     "output_type": "stream",
     "text": [
      "0.7944572748267898\n"
     ]
    }
   ],
   "source": [
    "# positive predictive value \n",
    "print (TP / float(TP+FP))"
   ]
  },
  {
   "cell_type": "code",
   "execution_count": 132,
   "id": "20c6cea4",
   "metadata": {},
   "outputs": [
    {
     "name": "stdout",
     "output_type": "stream",
     "text": [
      "0.826632581919591\n"
     ]
    }
   ],
   "source": [
    "# Negative predictive value\n",
    "print (TN / float(TN+ FN))"
   ]
  },
  {
   "cell_type": "markdown",
   "id": "6bbb0bea",
   "metadata": {},
   "source": [
    "## Plotting the ROC Curve"
   ]
  },
  {
   "cell_type": "code",
   "execution_count": 133,
   "id": "c38b4054",
   "metadata": {},
   "outputs": [],
   "source": [
    "def draw_roc( actual, probs ):\n",
    "    fpr, tpr, thresholds = metrics.roc_curve( actual, probs,\n",
    "                                              drop_intermediate = False )\n",
    "    auc_score = metrics.roc_auc_score( actual, probs )\n",
    "    plt.figure(figsize=(5, 5))\n",
    "    plt.plot( fpr, tpr, label='ROC curve (area = %0.2f)' % auc_score )\n",
    "    plt.plot([0, 1], [0, 1], 'k--')\n",
    "    plt.xlim([0.0, 1.0])\n",
    "    plt.ylim([0.0, 1.05])\n",
    "    plt.xlabel('False Positive Rate or [1 - True Negative Rate]')\n",
    "    plt.ylabel('True Positive Rate')\n",
    "    plt.title('Receiver operating characteristic example')\n",
    "    plt.legend(loc=\"lower right\")\n",
    "    plt.show()\n",
    "\n",
    "    return None"
   ]
  },
  {
   "cell_type": "code",
   "execution_count": 134,
   "id": "c000610b",
   "metadata": {},
   "outputs": [],
   "source": [
    "fpr, tpr, thresholds = metrics.roc_curve( y_train_pred_final.Converted, y_train_pred_final.Conv_Prob, drop_intermediate = False )"
   ]
  },
  {
   "cell_type": "code",
   "execution_count": 135,
   "id": "94f26519",
   "metadata": {},
   "outputs": [
    {
     "data": {
      "image/png": "[encoded data removed]",
      "text/plain": [
       "<Figure size 360x360 with 1 Axes>"
      ]
     },
     "metadata": {
      "needs_background": "light"
     },
     "output_type": "display_data"
    }
   ],
   "source": [
    "draw_roc(y_train_pred_final.Converted, y_train_pred_final.Conv_Prob)"
   ]
  },
  {
   "cell_type": "markdown",
   "id": "3328e151",
   "metadata": {},
   "source": [
    "# Finding Optimal Cutoff Point"
   ]
  },
  {
   "cell_type": "code",
   "execution_count": 136,
   "id": "24ef81cf",
   "metadata": {},
   "outputs": [
    {
     "data": {
      "text/html": [
       "<div>\n",
       "<style scoped>\n",
       "    .dataframe tbody tr th:only-of-type {\n",
       "        vertical-align: middle;\n",
       "    }\n",
       "\n",
       "    .dataframe tbody tr th {\n",
       "        vertical-align: top;\n",
       "    }\n",
       "\n",
       "    .dataframe thead th {\n",
       "        text-align: right;\n",
       "    }\n",
       "</style>\n",
       "<table border=\"1\" class=\"dataframe\">\n",
       "  <thead>\n",
       "    <tr style=\"text-align: right;\">\n",
       "      <th></th>\n",
       "      <th>Converted</th>\n",
       "      <th>Conv_Prob</th>\n",
       "      <th>predicted</th>\n",
       "      <th>0.0</th>\n",
       "      <th>0.1</th>\n",
       "      <th>0.2</th>\n",
       "      <th>0.3</th>\n",
       "      <th>0.4</th>\n",
       "      <th>0.5</th>\n",
       "      <th>0.6</th>\n",
       "      <th>0.7</th>\n",
       "      <th>0.8</th>\n",
       "      <th>0.9</th>\n",
       "    </tr>\n",
       "    <tr>\n",
       "      <th>Prospect ID</th>\n",
       "      <th></th>\n",
       "      <th></th>\n",
       "      <th></th>\n",
       "      <th></th>\n",
       "      <th></th>\n",
       "      <th></th>\n",
       "      <th></th>\n",
       "      <th></th>\n",
       "      <th></th>\n",
       "      <th></th>\n",
       "      <th></th>\n",
       "      <th></th>\n",
       "      <th></th>\n",
       "    </tr>\n",
       "  </thead>\n",
       "  <tbody>\n",
       "    <tr>\n",
       "      <th>f3af2d98-02db-45d7-bbf6-c641d6b4f4c3</th>\n",
       "      <td>0</td>\n",
       "      <td>0.293959</td>\n",
       "      <td>0</td>\n",
       "      <td>1</td>\n",
       "      <td>1</td>\n",
       "      <td>1</td>\n",
       "      <td>0</td>\n",
       "      <td>0</td>\n",
       "      <td>0</td>\n",
       "      <td>0</td>\n",
       "      <td>0</td>\n",
       "      <td>0</td>\n",
       "      <td>0</td>\n",
       "    </tr>\n",
       "    <tr>\n",
       "      <th>207aaf73-a121-41b8-96bb-b0d5c38e7a7b</th>\n",
       "      <td>0</td>\n",
       "      <td>0.232136</td>\n",
       "      <td>0</td>\n",
       "      <td>1</td>\n",
       "      <td>1</td>\n",
       "      <td>1</td>\n",
       "      <td>0</td>\n",
       "      <td>0</td>\n",
       "      <td>0</td>\n",
       "      <td>0</td>\n",
       "      <td>0</td>\n",
       "      <td>0</td>\n",
       "      <td>0</td>\n",
       "    </tr>\n",
       "    <tr>\n",
       "      <th>db308a34-ade6-4f0d-9779-586c5be188c7</th>\n",
       "      <td>0</td>\n",
       "      <td>0.431789</td>\n",
       "      <td>0</td>\n",
       "      <td>1</td>\n",
       "      <td>1</td>\n",
       "      <td>1</td>\n",
       "      <td>1</td>\n",
       "      <td>1</td>\n",
       "      <td>0</td>\n",
       "      <td>0</td>\n",
       "      <td>0</td>\n",
       "      <td>0</td>\n",
       "      <td>0</td>\n",
       "    </tr>\n",
       "    <tr>\n",
       "      <th>1199b37d-f610-4bb8-bf18-15267dec61fa</th>\n",
       "      <td>0</td>\n",
       "      <td>0.884274</td>\n",
       "      <td>1</td>\n",
       "      <td>1</td>\n",
       "      <td>1</td>\n",
       "      <td>1</td>\n",
       "      <td>1</td>\n",
       "      <td>1</td>\n",
       "      <td>1</td>\n",
       "      <td>1</td>\n",
       "      <td>1</td>\n",
       "      <td>1</td>\n",
       "      <td>0</td>\n",
       "    </tr>\n",
       "    <tr>\n",
       "      <th>6b2d3b2f-9990-449c-9333-012b578e39c8</th>\n",
       "      <td>0</td>\n",
       "      <td>0.170174</td>\n",
       "      <td>0</td>\n",
       "      <td>1</td>\n",
       "      <td>1</td>\n",
       "      <td>0</td>\n",
       "      <td>0</td>\n",
       "      <td>0</td>\n",
       "      <td>0</td>\n",
       "      <td>0</td>\n",
       "      <td>0</td>\n",
       "      <td>0</td>\n",
       "      <td>0</td>\n",
       "    </tr>\n",
       "  </tbody>\n",
       "</table>\n",
       "</div>"
      ],
      "text/plain": [
       "                                      Converted  Conv_Prob  predicted  0.0  \\\n",
       "Prospect ID                                                                  \n",
       "f3af2d98-02db-45d7-bbf6-c641d6b4f4c3          0   0.293959          0    1   \n",
       "207aaf73-a121-41b8-96bb-b0d5c38e7a7b          0   0.232136          0    1   \n",
       "db308a34-ade6-4f0d-9779-586c5be188c7          0   0.431789          0    1   \n",
       "1199b37d-f610-4bb8-bf18-15267dec61fa          0   0.884274          1    1   \n",
       "6b2d3b2f-9990-449c-9333-012b578e39c8          0   0.170174          0    1   \n",
       "\n",
       "                                      0.1  0.2  0.3  0.4  0.5  0.6  0.7  0.8  \\\n",
       "Prospect ID                                                                    \n",
       "f3af2d98-02db-45d7-bbf6-c641d6b4f4c3    1    1    0    0    0    0    0    0   \n",
       "207aaf73-a121-41b8-96bb-b0d5c38e7a7b    1    1    0    0    0    0    0    0   \n",
       "db308a34-ade6-4f0d-9779-586c5be188c7    1    1    1    1    0    0    0    0   \n",
       "1199b37d-f610-4bb8-bf18-15267dec61fa    1    1    1    1    1    1    1    1   \n",
       "6b2d3b2f-9990-449c-9333-012b578e39c8    1    0    0    0    0    0    0    0   \n",
       "\n",
       "                                      0.9  \n",
       "Prospect ID                                \n",
       "f3af2d98-02db-45d7-bbf6-c641d6b4f4c3    0  \n",
       "207aaf73-a121-41b8-96bb-b0d5c38e7a7b    0  \n",
       "db308a34-ade6-4f0d-9779-586c5be188c7    0  \n",
       "1199b37d-f610-4bb8-bf18-15267dec61fa    0  \n",
       "6b2d3b2f-9990-449c-9333-012b578e39c8    0  "
      ]
     },
     "execution_count": 136,
     "metadata": {},
     "output_type": "execute_result"
    }
   ],
   "source": [
    "numbers = [float(x)/10 for x in range(10)]\n",
    "for i in numbers:\n",
    "    y_train_pred_final[i]= y_train_pred_final.Conv_Prob.map(lambda x: 1 if x > i else 0)\n",
    "y_train_pred_final.head()"
   ]
  },
  {
   "cell_type": "code",
   "execution_count": 137,
   "id": "d5861452",
   "metadata": {},
   "outputs": [
    {
     "name": "stdout",
     "output_type": "stream",
     "text": [
      "     prob  accuracy     sensi     speci\n",
      "0.0   0.0  0.381262  1.000000  0.000000\n",
      "0.1   0.1  0.627087  0.968775  0.416542\n",
      "0.2   0.2  0.766234  0.910381  0.677411\n",
      "0.3   0.3  0.801175  0.837794  0.778611\n",
      "0.4   0.4  0.811998  0.765207  0.840830\n",
      "0.5   0.5  0.815863  0.697486  0.888806\n",
      "0.6   0.6  0.802721  0.603001  0.925787\n",
      "0.7   0.7  0.782313  0.513788  0.947776\n",
      "0.8   0.8  0.760049  0.421736  0.968516\n",
      "0.9   0.9  0.719079  0.285077  0.986507\n"
     ]
    }
   ],
   "source": [
    "# Now let's calculate accuracy sensitivity and specificity for various probability cutoffs.\n",
    "cutoff_df = pd.DataFrame( columns = ['prob','accuracy','sensi','speci'])\n",
    "from sklearn.metrics import confusion_matrix\n",
    "\n",
    "# TP = confusion[1,1] # true positive \n",
    "# TN = confusion[0,0] # true negatives\n",
    "# FP = confusion[0,1] # false positives\n",
    "# FN = confusion[1,0] # false negatives\n",
    "\n",
    "num = [0.0,0.1,0.2,0.3,0.4,0.5,0.6,0.7,0.8,0.9]\n",
    "for i in num:\n",
    "    cm1 = metrics.confusion_matrix(y_train_pred_final.Converted, y_train_pred_final[i] )\n",
    "    total1=sum(sum(cm1))\n",
    "    accuracy = (cm1[0,0]+cm1[1,1])/total1\n",
    "    \n",
    "    speci = cm1[0,0]/(cm1[0,0]+cm1[0,1])\n",
    "    sensi = cm1[1,1]/(cm1[1,0]+cm1[1,1])\n",
    "    cutoff_df.loc[i] =[ i ,accuracy,sensi,speci]\n",
    "print(cutoff_df)"
   ]
  },
  {
   "cell_type": "code",
   "execution_count": 138,
   "id": "503bbfe3",
   "metadata": {},
   "outputs": [
    {
     "data": {
      "image/png": "[encoded data removed]",
      "text/plain": [
       "<Figure size 432x288 with 1 Axes>"
      ]
     },
     "metadata": {
      "needs_background": "light"
     },
     "output_type": "display_data"
    }
   ],
   "source": [
    "cutoff_df.plot.line(x='prob', y=['accuracy','sensi','speci'])\n",
    "\n",
    "plt.show()"
   ]
  },
  {
   "cell_type": "code",
   "execution_count": 139,
   "id": "e95e24be",
   "metadata": {},
   "outputs": [
    {
     "data": {
      "text/html": [
       "<div>\n",
       "<style scoped>\n",
       "    .dataframe tbody tr th:only-of-type {\n",
       "        vertical-align: middle;\n",
       "    }\n",
       "\n",
       "    .dataframe tbody tr th {\n",
       "        vertical-align: top;\n",
       "    }\n",
       "\n",
       "    .dataframe thead th {\n",
       "        text-align: right;\n",
       "    }\n",
       "</style>\n",
       "<table border=\"1\" class=\"dataframe\">\n",
       "  <thead>\n",
       "    <tr style=\"text-align: right;\">\n",
       "      <th></th>\n",
       "      <th>Converted</th>\n",
       "      <th>Conv_Prob</th>\n",
       "      <th>predicted</th>\n",
       "      <th>0.0</th>\n",
       "      <th>0.1</th>\n",
       "      <th>0.2</th>\n",
       "      <th>0.3</th>\n",
       "      <th>0.4</th>\n",
       "      <th>0.5</th>\n",
       "      <th>0.6</th>\n",
       "      <th>0.7</th>\n",
       "      <th>0.8</th>\n",
       "      <th>0.9</th>\n",
       "      <th>Optimal</th>\n",
       "    </tr>\n",
       "    <tr>\n",
       "      <th>Prospect ID</th>\n",
       "      <th></th>\n",
       "      <th></th>\n",
       "      <th></th>\n",
       "      <th></th>\n",
       "      <th></th>\n",
       "      <th></th>\n",
       "      <th></th>\n",
       "      <th></th>\n",
       "      <th></th>\n",
       "      <th></th>\n",
       "      <th></th>\n",
       "      <th></th>\n",
       "      <th></th>\n",
       "      <th></th>\n",
       "    </tr>\n",
       "  </thead>\n",
       "  <tbody>\n",
       "    <tr>\n",
       "      <th>f3af2d98-02db-45d7-bbf6-c641d6b4f4c3</th>\n",
       "      <td>0</td>\n",
       "      <td>0.293959</td>\n",
       "      <td>0</td>\n",
       "      <td>1</td>\n",
       "      <td>1</td>\n",
       "      <td>1</td>\n",
       "      <td>0</td>\n",
       "      <td>0</td>\n",
       "      <td>0</td>\n",
       "      <td>0</td>\n",
       "      <td>0</td>\n",
       "      <td>0</td>\n",
       "      <td>0</td>\n",
       "      <td>0</td>\n",
       "    </tr>\n",
       "    <tr>\n",
       "      <th>207aaf73-a121-41b8-96bb-b0d5c38e7a7b</th>\n",
       "      <td>0</td>\n",
       "      <td>0.232136</td>\n",
       "      <td>0</td>\n",
       "      <td>1</td>\n",
       "      <td>1</td>\n",
       "      <td>1</td>\n",
       "      <td>0</td>\n",
       "      <td>0</td>\n",
       "      <td>0</td>\n",
       "      <td>0</td>\n",
       "      <td>0</td>\n",
       "      <td>0</td>\n",
       "      <td>0</td>\n",
       "      <td>0</td>\n",
       "    </tr>\n",
       "    <tr>\n",
       "      <th>db308a34-ade6-4f0d-9779-586c5be188c7</th>\n",
       "      <td>0</td>\n",
       "      <td>0.431789</td>\n",
       "      <td>0</td>\n",
       "      <td>1</td>\n",
       "      <td>1</td>\n",
       "      <td>1</td>\n",
       "      <td>1</td>\n",
       "      <td>1</td>\n",
       "      <td>0</td>\n",
       "      <td>0</td>\n",
       "      <td>0</td>\n",
       "      <td>0</td>\n",
       "      <td>0</td>\n",
       "      <td>1</td>\n",
       "    </tr>\n",
       "    <tr>\n",
       "      <th>1199b37d-f610-4bb8-bf18-15267dec61fa</th>\n",
       "      <td>0</td>\n",
       "      <td>0.884274</td>\n",
       "      <td>1</td>\n",
       "      <td>1</td>\n",
       "      <td>1</td>\n",
       "      <td>1</td>\n",
       "      <td>1</td>\n",
       "      <td>1</td>\n",
       "      <td>1</td>\n",
       "      <td>1</td>\n",
       "      <td>1</td>\n",
       "      <td>1</td>\n",
       "      <td>0</td>\n",
       "      <td>1</td>\n",
       "    </tr>\n",
       "    <tr>\n",
       "      <th>6b2d3b2f-9990-449c-9333-012b578e39c8</th>\n",
       "      <td>0</td>\n",
       "      <td>0.170174</td>\n",
       "      <td>0</td>\n",
       "      <td>1</td>\n",
       "      <td>1</td>\n",
       "      <td>0</td>\n",
       "      <td>0</td>\n",
       "      <td>0</td>\n",
       "      <td>0</td>\n",
       "      <td>0</td>\n",
       "      <td>0</td>\n",
       "      <td>0</td>\n",
       "      <td>0</td>\n",
       "      <td>0</td>\n",
       "    </tr>\n",
       "  </tbody>\n",
       "</table>\n",
       "</div>"
      ],
      "text/plain": [
       "                                      Converted  Conv_Prob  predicted  0.0  \\\n",
       "Prospect ID                                                                  \n",
       "f3af2d98-02db-45d7-bbf6-c641d6b4f4c3          0   0.293959          0    1   \n",
       "207aaf73-a121-41b8-96bb-b0d5c38e7a7b          0   0.232136          0    1   \n",
       "db308a34-ade6-4f0d-9779-586c5be188c7          0   0.431789          0    1   \n",
       "1199b37d-f610-4bb8-bf18-15267dec61fa          0   0.884274          1    1   \n",
       "6b2d3b2f-9990-449c-9333-012b578e39c8          0   0.170174          0    1   \n",
       "\n",
       "                                      0.1  0.2  0.3  0.4  0.5  0.6  0.7  0.8  \\\n",
       "Prospect ID                                                                    \n",
       "f3af2d98-02db-45d7-bbf6-c641d6b4f4c3    1    1    0    0    0    0    0    0   \n",
       "207aaf73-a121-41b8-96bb-b0d5c38e7a7b    1    1    0    0    0    0    0    0   \n",
       "db308a34-ade6-4f0d-9779-586c5be188c7    1    1    1    1    0    0    0    0   \n",
       "1199b37d-f610-4bb8-bf18-15267dec61fa    1    1    1    1    1    1    1    1   \n",
       "6b2d3b2f-9990-449c-9333-012b578e39c8    1    0    0    0    0    0    0    0   \n",
       "\n",
       "                                      0.9  Optimal  \n",
       "Prospect ID                                         \n",
       "f3af2d98-02db-45d7-bbf6-c641d6b4f4c3    0        0  \n",
       "207aaf73-a121-41b8-96bb-b0d5c38e7a7b    0        0  \n",
       "db308a34-ade6-4f0d-9779-586c5be188c7    0        1  \n",
       "1199b37d-f610-4bb8-bf18-15267dec61fa    0        1  \n",
       "6b2d3b2f-9990-449c-9333-012b578e39c8    0        0  "
      ]
     },
     "execution_count": 139,
     "metadata": {},
     "output_type": "execute_result"
    }
   ],
   "source": [
    "# Adding Optimil Prediction Column at cut of .34, that is if predicted probability is grater than .34 pridction =1\n",
    "y_train_pred_final['Optimal'] = y_train_pred_final.Conv_Prob.map( lambda x: 1 if x > 0.34 else 0)\n",
    "\n",
    "y_train_pred_final.head()"
   ]
  },
  {
   "cell_type": "code",
   "execution_count": 140,
   "id": "ced4abd5",
   "metadata": {},
   "outputs": [
    {
     "data": {
      "text/plain": [
       "array([[3240,  762],\n",
       "       [ 482, 1984]], dtype=int64)"
      ]
     },
     "execution_count": 140,
     "metadata": {},
     "output_type": "execute_result"
    }
   ],
   "source": [
    "confusion2 = metrics.confusion_matrix(y_train_pred_final.Converted, y_train_pred_final.Optimal )\n",
    "confusion2"
   ]
  },
  {
   "cell_type": "code",
   "execution_count": 141,
   "id": "8c03ecb4",
   "metadata": {},
   "outputs": [
    {
     "data": {
      "text/plain": [
       "0.8076685219542362"
      ]
     },
     "execution_count": 141,
     "metadata": {},
     "output_type": "execute_result"
    }
   ],
   "source": [
    "metrics.accuracy_score(y_train_pred_final.Converted, y_train_pred_final['Optimal'])"
   ]
  },
  {
   "cell_type": "code",
   "execution_count": 142,
   "id": "081f48ed",
   "metadata": {},
   "outputs": [
    {
     "data": {
      "text/plain": [
       "0.8095952023988006"
      ]
     },
     "execution_count": 142,
     "metadata": {},
     "output_type": "execute_result"
    }
   ],
   "source": [
    "# Let us calculate specificity\n",
    "confusion2[0,0] / float(confusion2[0,0]+confusion2[0,1])"
   ]
  },
  {
   "cell_type": "code",
   "execution_count": 143,
   "id": "591842ad",
   "metadata": {},
   "outputs": [
    {
     "data": {
      "text/plain": [
       "0.8045417680454177"
      ]
     },
     "execution_count": 143,
     "metadata": {},
     "output_type": "execute_result"
    }
   ],
   "source": [
    "# Sensitivity of  logistic regression model\n",
    "confusion2[1,1] / float(confusion2[1,0]+confusion2[1,1])"
   ]
  },
  {
   "cell_type": "markdown",
   "id": "5678a865",
   "metadata": {},
   "source": [
    "For optimal cut off the specifity, Accuracy and Sensitivity is approx. same as shown by graph "
   ]
  },
  {
   "cell_type": "code",
   "execution_count": 144,
   "id": "308b0733",
   "metadata": {},
   "outputs": [
    {
     "data": {
      "text/plain": [
       "0.7225054624908959"
      ]
     },
     "execution_count": 144,
     "metadata": {},
     "output_type": "execute_result"
    }
   ],
   "source": [
    "# Positive predictive value(Precession) \n",
    "confusion2[1,1] / float(confusion2[0,1]+confusion2[1,1])\n"
   ]
  },
  {
   "cell_type": "code",
   "execution_count": 145,
   "id": "2ff13b6a",
   "metadata": {},
   "outputs": [
    {
     "data": {
      "text/plain": [
       "0.8045417680454177"
      ]
     },
     "execution_count": 145,
     "metadata": {},
     "output_type": "execute_result"
    }
   ],
   "source": [
    "# Recall\n",
    "confusion2[1,1] / float(confusion2[1,0]+confusion2[1,1])"
   ]
  },
  {
   "cell_type": "markdown",
   "id": "54c551aa",
   "metadata": {},
   "source": [
    "### As Positive Predective value(Precession) is less than 80% for optimal cut off point, we have to set a diffrent cutoff point"
   ]
  },
  {
   "cell_type": "markdown",
   "id": "f7c59132",
   "metadata": {},
   "source": [
    "### Precision and recall tradeoff"
   ]
  },
  {
   "cell_type": "code",
   "execution_count": 146,
   "id": "7105b9e6",
   "metadata": {},
   "outputs": [],
   "source": [
    "from sklearn.metrics import precision_recall_curve"
   ]
  },
  {
   "cell_type": "code",
   "execution_count": 147,
   "id": "75a0017f",
   "metadata": {},
   "outputs": [],
   "source": [
    "p, r, thresholds = precision_recall_curve(y_train_pred_final.Converted, y_train_pred_final.Conv_Prob)"
   ]
  },
  {
   "cell_type": "code",
   "execution_count": 148,
   "id": "3fe431cf",
   "metadata": {},
   "outputs": [
    {
     "data": {
      "image/png": "[encoded data removed]",
      "text/plain": [
       "<Figure size 432x288 with 1 Axes>"
      ]
     },
     "metadata": {
      "needs_background": "light"
     },
     "output_type": "display_data"
    }
   ],
   "source": [
    "plt.plot(thresholds, p[:-1], \"g-\",label=\"precision\")\n",
    "plt.plot(thresholds, r[:-1], \"r-\",label=\"recall\")\n",
    "plt.legend()\n",
    "plt.savefig(\"precession vs recall\",dpi=300, bbox_inches=\"tight\")\n",
    "plt.show()"
   ]
  },
  {
   "cell_type": "markdown",
   "id": "102f25e5",
   "metadata": {},
   "source": [
    "As can be sceen from the plot between precession and recall precession -s equal to recall at cutoff of around .42, but the precession appears to be below 80%"
   ]
  },
  {
   "cell_type": "code",
   "execution_count": 149,
   "id": "d5a42f73",
   "metadata": {},
   "outputs": [
    {
     "data": {
      "text/html": [
       "<div>\n",
       "<style scoped>\n",
       "    .dataframe tbody tr th:only-of-type {\n",
       "        vertical-align: middle;\n",
       "    }\n",
       "\n",
       "    .dataframe tbody tr th {\n",
       "        vertical-align: top;\n",
       "    }\n",
       "\n",
       "    .dataframe thead th {\n",
       "        text-align: right;\n",
       "    }\n",
       "</style>\n",
       "<table border=\"1\" class=\"dataframe\">\n",
       "  <thead>\n",
       "    <tr style=\"text-align: right;\">\n",
       "      <th></th>\n",
       "      <th>Precession</th>\n",
       "      <th>recall</th>\n",
       "      <th>threshold</th>\n",
       "    </tr>\n",
       "  </thead>\n",
       "  <tbody>\n",
       "    <tr>\n",
       "      <th>2937</th>\n",
       "      <td>0.754663</td>\n",
       "      <td>0.754663</td>\n",
       "      <td>0.41709</td>\n",
       "    </tr>\n",
       "  </tbody>\n",
       "</table>\n",
       "</div>"
      ],
      "text/plain": [
       "      Precession    recall  threshold\n",
       "2937    0.754663  0.754663    0.41709"
      ]
     },
     "execution_count": 149,
     "metadata": {},
     "output_type": "execute_result"
    }
   ],
   "source": [
    "Precesion_Recall=pd.DataFrame({\"Precession\":p[0:4890],\"recall\":r[0:4890],\"threshold\":thresholds})\n",
    "Precesion_Recall[Precesion_Recall.Precession==Precesion_Recall.recall]"
   ]
  },
  {
   "cell_type": "code",
   "execution_count": 150,
   "id": "0da79d30",
   "metadata": {},
   "outputs": [
    {
     "data": {
      "text/plain": [
       "array([[3404,  598],\n",
       "       [ 613, 1853]], dtype=int64)"
      ]
     },
     "execution_count": 150,
     "metadata": {},
     "output_type": "execute_result"
    }
   ],
   "source": [
    "y_train_pred_final['final_predicted'] = y_train_pred_final.Conv_Prob.map( lambda x: 1 if x > 0.42 else 0)\n",
    "confusion2 = metrics.confusion_matrix(y_train_pred_final.Converted, y_train_pred_final.final_predicted )\n",
    "confusion2"
   ]
  },
  {
   "cell_type": "markdown",
   "id": "cb43cb8a",
   "metadata": {},
   "source": [
    "### at the point where precession is equal to recall the cutoff is around .42, both precession and recall is  around 75% "
   ]
  },
  {
   "cell_type": "code",
   "execution_count": 151,
   "id": "fa007c22",
   "metadata": {},
   "outputs": [
    {
     "data": {
      "text/html": [
       "<div>\n",
       "<style scoped>\n",
       "    .dataframe tbody tr th:only-of-type {\n",
       "        vertical-align: middle;\n",
       "    }\n",
       "\n",
       "    .dataframe tbody tr th {\n",
       "        vertical-align: top;\n",
       "    }\n",
       "\n",
       "    .dataframe thead th {\n",
       "        text-align: right;\n",
       "    }\n",
       "</style>\n",
       "<table border=\"1\" class=\"dataframe\">\n",
       "  <thead>\n",
       "    <tr style=\"text-align: right;\">\n",
       "      <th></th>\n",
       "      <th>Precession</th>\n",
       "      <th>recall</th>\n",
       "      <th>threshold</th>\n",
       "    </tr>\n",
       "  </thead>\n",
       "  <tbody>\n",
       "    <tr>\n",
       "      <th>3202</th>\n",
       "      <td>0.790168</td>\n",
       "      <td>0.703974</td>\n",
       "      <td>0.491193</td>\n",
       "    </tr>\n",
       "    <tr>\n",
       "      <th>3203</th>\n",
       "      <td>0.790073</td>\n",
       "      <td>0.703569</td>\n",
       "      <td>0.491264</td>\n",
       "    </tr>\n",
       "    <tr>\n",
       "      <th>3208</th>\n",
       "      <td>0.790050</td>\n",
       "      <td>0.701946</td>\n",
       "      <td>0.492846</td>\n",
       "    </tr>\n",
       "    <tr>\n",
       "      <th>3209</th>\n",
       "      <td>0.790411</td>\n",
       "      <td>0.701946</td>\n",
       "      <td>0.492863</td>\n",
       "    </tr>\n",
       "    <tr>\n",
       "      <th>3210</th>\n",
       "      <td>0.790315</td>\n",
       "      <td>0.701541</td>\n",
       "      <td>0.492934</td>\n",
       "    </tr>\n",
       "  </tbody>\n",
       "</table>\n",
       "</div>"
      ],
      "text/plain": [
       "      Precession    recall  threshold\n",
       "3202    0.790168  0.703974   0.491193\n",
       "3203    0.790073  0.703569   0.491264\n",
       "3208    0.790050  0.701946   0.492846\n",
       "3209    0.790411  0.701946   0.492863\n",
       "3210    0.790315  0.701541   0.492934"
      ]
     },
     "execution_count": 151,
     "metadata": {},
     "output_type": "execute_result"
    }
   ],
   "source": [
    "Precesion_Recall.loc[Precesion_Recall.Precession>.79].head()"
   ]
  },
  {
   "cell_type": "code",
   "execution_count": 152,
   "id": "de2752c5",
   "metadata": {},
   "outputs": [
    {
     "data": {
      "text/plain": [
       "array([[3539,  463],\n",
       "       [ 728, 1738]], dtype=int64)"
      ]
     },
     "execution_count": 152,
     "metadata": {},
     "output_type": "execute_result"
    }
   ],
   "source": [
    "y_train_pred_final['final_predicted'] = y_train_pred_final.Conv_Prob.map( lambda x: 1 if x > 0.49 else 0)\n",
    "confusion2 = metrics.confusion_matrix(y_train_pred_final.Converted, y_train_pred_final.final_predicted )\n",
    "confusion2"
   ]
  },
  {
   "cell_type": "code",
   "execution_count": 153,
   "id": "625755b7",
   "metadata": {},
   "outputs": [
    {
     "data": {
      "text/plain": [
       "0.8158627087198516"
      ]
     },
     "execution_count": 153,
     "metadata": {},
     "output_type": "execute_result"
    }
   ],
   "source": [
    "metrics.accuracy_score(y_train_pred_final.Converted, y_train_pred_final['final_predicted'])"
   ]
  },
  {
   "cell_type": "code",
   "execution_count": 154,
   "id": "e0befc85",
   "metadata": {},
   "outputs": [
    {
     "data": {
      "text/plain": [
       "0.8843078460769616"
      ]
     },
     "execution_count": 154,
     "metadata": {},
     "output_type": "execute_result"
    }
   ],
   "source": [
    "# Let us calculate specificity\n",
    "confusion2[0,0] / float(confusion2[0,0]+confusion2[0,1])"
   ]
  },
  {
   "cell_type": "code",
   "execution_count": 155,
   "id": "e98d6462",
   "metadata": {},
   "outputs": [
    {
     "data": {
      "text/plain": [
       "0.7047850770478508"
      ]
     },
     "execution_count": 155,
     "metadata": {},
     "output_type": "execute_result"
    }
   ],
   "source": [
    "# Sensitivity/Recall of  logistic regression model\n",
    "confusion2[1,1] / float(confusion2[1,0]+confusion2[1,1])"
   ]
  },
  {
   "cell_type": "code",
   "execution_count": 156,
   "id": "1c4447b2",
   "metadata": {},
   "outputs": [
    {
     "data": {
      "text/plain": [
       "0.789641072239891"
      ]
     },
     "execution_count": 156,
     "metadata": {},
     "output_type": "execute_result"
    }
   ],
   "source": [
    "# Positive predictive value(Precision) \n",
    "confusion2[1,1] / float(confusion2[0,1]+confusion2[1,1])\n"
   ]
  },
  {
   "cell_type": "markdown",
   "id": "fd6c7959",
   "metadata": {},
   "source": [
    "### with cut off of .49, Precession is close to 80% but sensivity/recall has fallen to around 70, but as the objective of the case study is to have precession of around 80% cut-off of .49 should be chosen"
   ]
  },
  {
   "cell_type": "code",
   "execution_count": 157,
   "id": "f26f26b3",
   "metadata": {},
   "outputs": [],
   "source": [
    "# Adding lead score column\n",
    "y_train_pred_final[\"Lead Score\"]=round(y_train_pred_final[\"Conv_Prob\"]*100,2)"
   ]
  },
  {
   "cell_type": "code",
   "execution_count": 158,
   "id": "ad741472",
   "metadata": {},
   "outputs": [
    {
     "data": {
      "text/html": [
       "<div>\n",
       "<style scoped>\n",
       "    .dataframe tbody tr th:only-of-type {\n",
       "        vertical-align: middle;\n",
       "    }\n",
       "\n",
       "    .dataframe tbody tr th {\n",
       "        vertical-align: top;\n",
       "    }\n",
       "\n",
       "    .dataframe thead th {\n",
       "        text-align: right;\n",
       "    }\n",
       "</style>\n",
       "<table border=\"1\" class=\"dataframe\">\n",
       "  <thead>\n",
       "    <tr style=\"text-align: right;\">\n",
       "      <th></th>\n",
       "      <th>Converted</th>\n",
       "      <th>Conv_Prob</th>\n",
       "      <th>predicted</th>\n",
       "      <th>0.0</th>\n",
       "      <th>0.1</th>\n",
       "      <th>0.2</th>\n",
       "      <th>0.3</th>\n",
       "      <th>0.4</th>\n",
       "      <th>0.5</th>\n",
       "      <th>0.6</th>\n",
       "      <th>0.7</th>\n",
       "      <th>0.8</th>\n",
       "      <th>0.9</th>\n",
       "      <th>Optimal</th>\n",
       "      <th>final_predicted</th>\n",
       "      <th>Lead Score</th>\n",
       "    </tr>\n",
       "    <tr>\n",
       "      <th>Prospect ID</th>\n",
       "      <th></th>\n",
       "      <th></th>\n",
       "      <th></th>\n",
       "      <th></th>\n",
       "      <th></th>\n",
       "      <th></th>\n",
       "      <th></th>\n",
       "      <th></th>\n",
       "      <th></th>\n",
       "      <th></th>\n",
       "      <th></th>\n",
       "      <th></th>\n",
       "      <th></th>\n",
       "      <th></th>\n",
       "      <th></th>\n",
       "      <th></th>\n",
       "    </tr>\n",
       "  </thead>\n",
       "  <tbody>\n",
       "    <tr>\n",
       "      <th>f3af2d98-02db-45d7-bbf6-c641d6b4f4c3</th>\n",
       "      <td>0</td>\n",
       "      <td>0.293959</td>\n",
       "      <td>0</td>\n",
       "      <td>1</td>\n",
       "      <td>1</td>\n",
       "      <td>1</td>\n",
       "      <td>0</td>\n",
       "      <td>0</td>\n",
       "      <td>0</td>\n",
       "      <td>0</td>\n",
       "      <td>0</td>\n",
       "      <td>0</td>\n",
       "      <td>0</td>\n",
       "      <td>0</td>\n",
       "      <td>0</td>\n",
       "      <td>29.40</td>\n",
       "    </tr>\n",
       "    <tr>\n",
       "      <th>207aaf73-a121-41b8-96bb-b0d5c38e7a7b</th>\n",
       "      <td>0</td>\n",
       "      <td>0.232136</td>\n",
       "      <td>0</td>\n",
       "      <td>1</td>\n",
       "      <td>1</td>\n",
       "      <td>1</td>\n",
       "      <td>0</td>\n",
       "      <td>0</td>\n",
       "      <td>0</td>\n",
       "      <td>0</td>\n",
       "      <td>0</td>\n",
       "      <td>0</td>\n",
       "      <td>0</td>\n",
       "      <td>0</td>\n",
       "      <td>0</td>\n",
       "      <td>23.21</td>\n",
       "    </tr>\n",
       "    <tr>\n",
       "      <th>db308a34-ade6-4f0d-9779-586c5be188c7</th>\n",
       "      <td>0</td>\n",
       "      <td>0.431789</td>\n",
       "      <td>0</td>\n",
       "      <td>1</td>\n",
       "      <td>1</td>\n",
       "      <td>1</td>\n",
       "      <td>1</td>\n",
       "      <td>1</td>\n",
       "      <td>0</td>\n",
       "      <td>0</td>\n",
       "      <td>0</td>\n",
       "      <td>0</td>\n",
       "      <td>0</td>\n",
       "      <td>1</td>\n",
       "      <td>0</td>\n",
       "      <td>43.18</td>\n",
       "    </tr>\n",
       "    <tr>\n",
       "      <th>1199b37d-f610-4bb8-bf18-15267dec61fa</th>\n",
       "      <td>0</td>\n",
       "      <td>0.884274</td>\n",
       "      <td>1</td>\n",
       "      <td>1</td>\n",
       "      <td>1</td>\n",
       "      <td>1</td>\n",
       "      <td>1</td>\n",
       "      <td>1</td>\n",
       "      <td>1</td>\n",
       "      <td>1</td>\n",
       "      <td>1</td>\n",
       "      <td>1</td>\n",
       "      <td>0</td>\n",
       "      <td>1</td>\n",
       "      <td>1</td>\n",
       "      <td>88.43</td>\n",
       "    </tr>\n",
       "    <tr>\n",
       "      <th>6b2d3b2f-9990-449c-9333-012b578e39c8</th>\n",
       "      <td>0</td>\n",
       "      <td>0.170174</td>\n",
       "      <td>0</td>\n",
       "      <td>1</td>\n",
       "      <td>1</td>\n",
       "      <td>0</td>\n",
       "      <td>0</td>\n",
       "      <td>0</td>\n",
       "      <td>0</td>\n",
       "      <td>0</td>\n",
       "      <td>0</td>\n",
       "      <td>0</td>\n",
       "      <td>0</td>\n",
       "      <td>0</td>\n",
       "      <td>0</td>\n",
       "      <td>17.02</td>\n",
       "    </tr>\n",
       "  </tbody>\n",
       "</table>\n",
       "</div>"
      ],
      "text/plain": [
       "                                      Converted  Conv_Prob  predicted  0.0  \\\n",
       "Prospect ID                                                                  \n",
       "f3af2d98-02db-45d7-bbf6-c641d6b4f4c3          0   0.293959          0    1   \n",
       "207aaf73-a121-41b8-96bb-b0d5c38e7a7b          0   0.232136          0    1   \n",
       "db308a34-ade6-4f0d-9779-586c5be188c7          0   0.431789          0    1   \n",
       "1199b37d-f610-4bb8-bf18-15267dec61fa          0   0.884274          1    1   \n",
       "6b2d3b2f-9990-449c-9333-012b578e39c8          0   0.170174          0    1   \n",
       "\n",
       "                                      0.1  0.2  0.3  0.4  0.5  0.6  0.7  0.8  \\\n",
       "Prospect ID                                                                    \n",
       "f3af2d98-02db-45d7-bbf6-c641d6b4f4c3    1    1    0    0    0    0    0    0   \n",
       "207aaf73-a121-41b8-96bb-b0d5c38e7a7b    1    1    0    0    0    0    0    0   \n",
       "db308a34-ade6-4f0d-9779-586c5be188c7    1    1    1    1    0    0    0    0   \n",
       "1199b37d-f610-4bb8-bf18-15267dec61fa    1    1    1    1    1    1    1    1   \n",
       "6b2d3b2f-9990-449c-9333-012b578e39c8    1    0    0    0    0    0    0    0   \n",
       "\n",
       "                                      0.9  Optimal  final_predicted  \\\n",
       "Prospect ID                                                           \n",
       "f3af2d98-02db-45d7-bbf6-c641d6b4f4c3    0        0                0   \n",
       "207aaf73-a121-41b8-96bb-b0d5c38e7a7b    0        0                0   \n",
       "db308a34-ade6-4f0d-9779-586c5be188c7    0        1                0   \n",
       "1199b37d-f610-4bb8-bf18-15267dec61fa    0        1                1   \n",
       "6b2d3b2f-9990-449c-9333-012b578e39c8    0        0                0   \n",
       "\n",
       "                                      Lead Score  \n",
       "Prospect ID                                       \n",
       "f3af2d98-02db-45d7-bbf6-c641d6b4f4c3       29.40  \n",
       "207aaf73-a121-41b8-96bb-b0d5c38e7a7b       23.21  \n",
       "db308a34-ade6-4f0d-9779-586c5be188c7       43.18  \n",
       "1199b37d-f610-4bb8-bf18-15267dec61fa       88.43  \n",
       "6b2d3b2f-9990-449c-9333-012b578e39c8       17.02  "
      ]
     },
     "execution_count": 158,
     "metadata": {},
     "output_type": "execute_result"
    }
   ],
   "source": [
    "y_train_pred_final.head()"
   ]
  },
  {
   "cell_type": "markdown",
   "id": "54202e93",
   "metadata": {},
   "source": [
    "### Making predictions on the test set"
   ]
  },
  {
   "cell_type": "code",
   "execution_count": 159,
   "id": "e0572342",
   "metadata": {},
   "outputs": [],
   "source": [
    "# Add const\n",
    "X_test_sm = sm.add_constant(X_test_1[col])"
   ]
  },
  {
   "cell_type": "code",
   "execution_count": 160,
   "id": "18d7017d",
   "metadata": {},
   "outputs": [
    {
     "data": {
      "text/html": [
       "<div>\n",
       "<style scoped>\n",
       "    .dataframe tbody tr th:only-of-type {\n",
       "        vertical-align: middle;\n",
       "    }\n",
       "\n",
       "    .dataframe tbody tr th {\n",
       "        vertical-align: top;\n",
       "    }\n",
       "\n",
       "    .dataframe thead th {\n",
       "        text-align: right;\n",
       "    }\n",
       "</style>\n",
       "<table border=\"1\" class=\"dataframe\">\n",
       "  <thead>\n",
       "    <tr style=\"text-align: right;\">\n",
       "      <th></th>\n",
       "      <th>Converted</th>\n",
       "      <th>Conv_Prob</th>\n",
       "    </tr>\n",
       "    <tr>\n",
       "      <th>Prospect ID</th>\n",
       "      <th></th>\n",
       "      <th></th>\n",
       "    </tr>\n",
       "  </thead>\n",
       "  <tbody>\n",
       "    <tr>\n",
       "      <th>dd53b3eb-ae22-474c-b872-48b05bbe180b</th>\n",
       "      <td>1</td>\n",
       "      <td>0.610453</td>\n",
       "    </tr>\n",
       "    <tr>\n",
       "      <th>7a960b03-466c-4e36-bf12-b755fc77a0b1</th>\n",
       "      <td>1</td>\n",
       "      <td>0.933525</td>\n",
       "    </tr>\n",
       "    <tr>\n",
       "      <th>2bd5fd90-a8fe-413e-9b8a-28e8469c5a5c</th>\n",
       "      <td>1</td>\n",
       "      <td>0.777367</td>\n",
       "    </tr>\n",
       "    <tr>\n",
       "      <th>6eb89ae5-d1e0-4c19-8661-8f9545e0e408</th>\n",
       "      <td>0</td>\n",
       "      <td>0.170174</td>\n",
       "    </tr>\n",
       "    <tr>\n",
       "      <th>f7ed6c72-7d36-413c-b2e0-414213c4ceef</th>\n",
       "      <td>1</td>\n",
       "      <td>0.859352</td>\n",
       "    </tr>\n",
       "  </tbody>\n",
       "</table>\n",
       "</div>"
      ],
      "text/plain": [
       "                                      Converted  Conv_Prob\n",
       "Prospect ID                                               \n",
       "dd53b3eb-ae22-474c-b872-48b05bbe180b          1   0.610453\n",
       "7a960b03-466c-4e36-bf12-b755fc77a0b1          1   0.933525\n",
       "2bd5fd90-a8fe-413e-9b8a-28e8469c5a5c          1   0.777367\n",
       "6eb89ae5-d1e0-4c19-8661-8f9545e0e408          0   0.170174\n",
       "f7ed6c72-7d36-413c-b2e0-414213c4ceef          1   0.859352"
      ]
     },
     "execution_count": 160,
     "metadata": {},
     "output_type": "execute_result"
    }
   ],
   "source": [
    "y_test_pred = res.predict(X_test_sm)\n",
    "y_test_pred = y_test_pred.values.reshape(-1)\n",
    "y_test_pred_final = pd.DataFrame({'Prospect ID':X_test[\"Prospect ID\"],'Converted':y_test.values, 'Conv_Prob':y_test_pred})\n",
    "y_test_pred_final.set_index('Prospect ID',inplace=True)\n",
    "y_test_pred_final.head()"
   ]
  },
  {
   "cell_type": "code",
   "execution_count": 161,
   "id": "7c30d7d2",
   "metadata": {},
   "outputs": [
    {
     "data": {
      "text/html": [
       "<div>\n",
       "<style scoped>\n",
       "    .dataframe tbody tr th:only-of-type {\n",
       "        vertical-align: middle;\n",
       "    }\n",
       "\n",
       "    .dataframe tbody tr th {\n",
       "        vertical-align: top;\n",
       "    }\n",
       "\n",
       "    .dataframe thead th {\n",
       "        text-align: right;\n",
       "    }\n",
       "</style>\n",
       "<table border=\"1\" class=\"dataframe\">\n",
       "  <thead>\n",
       "    <tr style=\"text-align: right;\">\n",
       "      <th></th>\n",
       "      <th>Converted</th>\n",
       "      <th>Conv_Prob</th>\n",
       "      <th>Lead Score</th>\n",
       "    </tr>\n",
       "    <tr>\n",
       "      <th>Prospect ID</th>\n",
       "      <th></th>\n",
       "      <th></th>\n",
       "      <th></th>\n",
       "    </tr>\n",
       "  </thead>\n",
       "  <tbody>\n",
       "    <tr>\n",
       "      <th>dd53b3eb-ae22-474c-b872-48b05bbe180b</th>\n",
       "      <td>1</td>\n",
       "      <td>0.610453</td>\n",
       "      <td>61.05</td>\n",
       "    </tr>\n",
       "    <tr>\n",
       "      <th>7a960b03-466c-4e36-bf12-b755fc77a0b1</th>\n",
       "      <td>1</td>\n",
       "      <td>0.933525</td>\n",
       "      <td>93.35</td>\n",
       "    </tr>\n",
       "    <tr>\n",
       "      <th>2bd5fd90-a8fe-413e-9b8a-28e8469c5a5c</th>\n",
       "      <td>1</td>\n",
       "      <td>0.777367</td>\n",
       "      <td>77.74</td>\n",
       "    </tr>\n",
       "    <tr>\n",
       "      <th>6eb89ae5-d1e0-4c19-8661-8f9545e0e408</th>\n",
       "      <td>0</td>\n",
       "      <td>0.170174</td>\n",
       "      <td>17.02</td>\n",
       "    </tr>\n",
       "    <tr>\n",
       "      <th>f7ed6c72-7d36-413c-b2e0-414213c4ceef</th>\n",
       "      <td>1</td>\n",
       "      <td>0.859352</td>\n",
       "      <td>85.94</td>\n",
       "    </tr>\n",
       "  </tbody>\n",
       "</table>\n",
       "</div>"
      ],
      "text/plain": [
       "                                      Converted  Conv_Prob  Lead Score\n",
       "Prospect ID                                                           \n",
       "dd53b3eb-ae22-474c-b872-48b05bbe180b          1   0.610453       61.05\n",
       "7a960b03-466c-4e36-bf12-b755fc77a0b1          1   0.933525       93.35\n",
       "2bd5fd90-a8fe-413e-9b8a-28e8469c5a5c          1   0.777367       77.74\n",
       "6eb89ae5-d1e0-4c19-8661-8f9545e0e408          0   0.170174       17.02\n",
       "f7ed6c72-7d36-413c-b2e0-414213c4ceef          1   0.859352       85.94"
      ]
     },
     "execution_count": 161,
     "metadata": {},
     "output_type": "execute_result"
    }
   ],
   "source": [
    "y_test_pred_final[\"Lead Score\"]=round(y_test_pred_final[\"Conv_Prob\"]*100,2)\n",
    "y_test_pred_final.head()"
   ]
  },
  {
   "cell_type": "markdown",
   "id": "17ceb0ea",
   "metadata": {},
   "source": [
    "### Using Optimal cutoff point as obtained from ROC curve"
   ]
  },
  {
   "cell_type": "code",
   "execution_count": 162,
   "id": "a34d799a",
   "metadata": {},
   "outputs": [
    {
     "data": {
      "text/plain": [
       "array([[1352,  325],\n",
       "       [ 219,  876]], dtype=int64)"
      ]
     },
     "execution_count": 162,
     "metadata": {},
     "output_type": "execute_result"
    }
   ],
   "source": [
    "y_test_pred_final['final_predicted'] = y_test_pred_final.Conv_Prob.map( lambda x: 1 if x > 0.34 else 0)\n",
    "confusion2 = metrics.confusion_matrix(y_test_pred_final.Converted, y_test_pred_final.final_predicted )\n",
    "confusion2"
   ]
  },
  {
   "cell_type": "code",
   "execution_count": 163,
   "id": "59c862bb",
   "metadata": {},
   "outputs": [
    {
     "data": {
      "text/plain": [
       "0.8158627087198516"
      ]
     },
     "execution_count": 163,
     "metadata": {},
     "output_type": "execute_result"
    }
   ],
   "source": [
    "metrics.accuracy_score(y_train_pred_final.Converted, y_train_pred_final['final_predicted'])"
   ]
  },
  {
   "cell_type": "code",
   "execution_count": 164,
   "id": "36dbc326",
   "metadata": {},
   "outputs": [
    {
     "data": {
      "text/plain": [
       "0.8062015503875969"
      ]
     },
     "execution_count": 164,
     "metadata": {},
     "output_type": "execute_result"
    }
   ],
   "source": [
    "# Let us calculate specificity\n",
    "confusion2[0,0] / float(confusion2[0,0]+confusion2[0,1])"
   ]
  },
  {
   "cell_type": "code",
   "execution_count": 165,
   "id": "07e4cd25",
   "metadata": {},
   "outputs": [
    {
     "data": {
      "text/plain": [
       "0.8"
      ]
     },
     "execution_count": 165,
     "metadata": {},
     "output_type": "execute_result"
    }
   ],
   "source": [
    "# Sensitivity of  logistic regression model\n",
    "confusion2[1,1] / float(confusion2[1,0]+confusion2[1,1])"
   ]
  },
  {
   "cell_type": "code",
   "execution_count": 166,
   "id": "d2d1b8d3",
   "metadata": {},
   "outputs": [
    {
     "data": {
      "text/plain": [
       "0.7293921731890092"
      ]
     },
     "execution_count": 166,
     "metadata": {},
     "output_type": "execute_result"
    }
   ],
   "source": [
    "# Precession of Optimal model on test set\n",
    "confusion2[1,1] / float(confusion2[0,1]+confusion2[1,1])"
   ]
  },
  {
   "cell_type": "markdown",
   "id": "76ab51d5",
   "metadata": {},
   "source": [
    "### The performance of the model is similar on test and train set for optimal cutoff, \n",
    "## No overfitting"
   ]
  },
  {
   "cell_type": "code",
   "execution_count": 167,
   "id": "aec263d8",
   "metadata": {},
   "outputs": [
    {
     "data": {
      "text/plain": [
       "array([[1487,  190],\n",
       "       [ 342,  753]], dtype=int64)"
      ]
     },
     "execution_count": 167,
     "metadata": {},
     "output_type": "execute_result"
    }
   ],
   "source": [
    "# Using cutoff of .49\n",
    "y_test_pred_final['final_predicted'] = y_test_pred_final.Conv_Prob.map( lambda x: 1 if x > 0.49 else 0)\n",
    "confusion2 = metrics.confusion_matrix(y_test_pred_final.Converted, y_test_pred_final.final_predicted )\n",
    "confusion2"
   ]
  },
  {
   "cell_type": "code",
   "execution_count": 168,
   "id": "5f41be1a",
   "metadata": {},
   "outputs": [
    {
     "data": {
      "text/plain": [
       "0.8158627087198516"
      ]
     },
     "execution_count": 168,
     "metadata": {},
     "output_type": "execute_result"
    }
   ],
   "source": [
    "metrics.accuracy_score(y_train_pred_final.Converted, y_train_pred_final['final_predicted'])"
   ]
  },
  {
   "cell_type": "code",
   "execution_count": 169,
   "id": "ab8b863c",
   "metadata": {},
   "outputs": [
    {
     "data": {
      "text/plain": [
       "0.8867024448419797"
      ]
     },
     "execution_count": 169,
     "metadata": {},
     "output_type": "execute_result"
    }
   ],
   "source": [
    "# Let us calculate specificity\n",
    "confusion2[0,0] / float(confusion2[0,0]+confusion2[0,1])"
   ]
  },
  {
   "cell_type": "code",
   "execution_count": 170,
   "id": "bf8f78b5",
   "metadata": {},
   "outputs": [
    {
     "data": {
      "text/plain": [
       "0.6876712328767123"
      ]
     },
     "execution_count": 170,
     "metadata": {},
     "output_type": "execute_result"
    }
   ],
   "source": [
    "# Sensitivity of  logistic regression model\n",
    "confusion2[1,1] / float(confusion2[1,0]+confusion2[1,1])"
   ]
  },
  {
   "cell_type": "markdown",
   "id": "0bddab68",
   "metadata": {},
   "source": [
    "Surprisingly the accuracy using \"Optimal Cutoff\" and \".49\" as cutoff probability is exactly same"
   ]
  },
  {
   "cell_type": "code",
   "execution_count": 171,
   "id": "b82a5548",
   "metadata": {},
   "outputs": [
    {
     "data": {
      "text/plain": [
       "0.7985153764581124"
      ]
     },
     "execution_count": 171,
     "metadata": {},
     "output_type": "execute_result"
    }
   ],
   "source": [
    "# Precession of Optimal model on test set\n",
    "confusion2[1,1] / float(confusion2[0,1]+confusion2[1,1])"
   ]
  },
  {
   "cell_type": "markdown",
   "id": "55525356",
   "metadata": {},
   "source": [
    "##### the model is giving Precession of 80% on test set , Great"
   ]
  },
  {
   "cell_type": "markdown",
   "id": "24485171",
   "metadata": {},
   "source": [
    "Conclusion: \n",
    "- The Optimal Model having cut off probability of \".34\" as obtained from ROC curve gives \n",
    "        : Accuracy of 80.8%, Specificity of 80.9%, Sensivity of 80.4% on training set\n",
    "          Accuracy of 81.6%, Specificity of 80.6%, Sensivity of 80.0% on test set \n",
    "          which are comparable, hence the model is not Overfitting on the Train set\n",
    "          but Precision of 72.2%  on train set and 72.9% on test set which is way below the required 80%\n",
    "          \n",
    "- Using Model having cut off probability of \".42\" precession is equal to recall \n",
    "        : Precession = Recall = 75% on train set,which is still below required 80%\n",
    "          \n",
    "- Using Model having cut off probability of \".49\" gives \n",
    "        : Accuracy of 81.5%, Specificity of 88.4%, Sensivity of 70.4% on training set\n",
    "          Accuracy of 81.6%, Specificity of 88.7%, Sensivity of 68.7% on test set \n",
    "          which are comparable, hence the model is not Overfitting on the Train set\n",
    "          but Precession of 78.9%  on train set and 79.8% on test set which is near required 80%\n",
    "          \n",
    "- Although Optimal model gives sensivity of around 80% and model which is having cutoff at .49 gives senstivity of ariund 68%\n",
    "  which means a lot of Converted cases are misclassified by the the model having .49 cutoff, but it serves over objective of   the required Precession to be around 80%.\n",
    "  \n",
    "- Hence the model with cutoff of .49 should be used to predict the \"Leads\".\n",
    "- \"Lead\" with \"lead Score\" Grater than 50, should be considered \"Hotlead\"\n",
    " \n",
    "          \n",
    "                                                                \n"
   ]
  }
 ],
 "metadata": {
  "kernelspec": {
   "display_name": "Python 3 (ipykernel)",
   "language": "python",
   "name": "python3"
  },
  "language_info": {
   "codemirror_mode": {
    "name": "ipython",
    "version": 3
   },
   "file_extension": ".py",
   "mimetype": "text/x-python",
   "name": "python",
   "nbconvert_exporter": "python",
   "pygments_lexer": "ipython3",
   "version": "3.9.12"
  }
 },
 "nbformat": 4,
 "nbformat_minor": 5
}
